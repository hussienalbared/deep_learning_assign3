{
 "cells": [
  {
   "cell_type": "code",
   "metadata": {
    "cell_id": "00000-deadf0e6-9103-49f3-8ea9-3883452d15b4",
    "deepnote_to_be_reexecuted": false,
    "source_hash": "f20b6c56",
    "execution_start": 1637688163646,
    "execution_millis": 2249,
    "deepnote_cell_type": "code"
   },
   "source": "import numpy as np\nimport torch.nn as nn\nimport torch\nimport torch.nn.functional as F\nfrom torch.utils.data import DataLoader\nfrom practical_b_1 import ImageDataset,SortedImageDataset\nfrom load_mnist import load_mnist\nfrom torchvision import datasets\nfrom torchvision.transforms import ToTensor\n",
   "execution_count": 1,
   "outputs": []
  },
  {
   "cell_type": "code",
   "metadata": {
    "cell_id": "00001-995a1158-26fe-4e28-a937-64caf8fda9b4",
    "deepnote_to_be_reexecuted": false,
    "source_hash": "b4ebe14a",
    "execution_start": 1637688165904,
    "execution_millis": 0,
    "deepnote_cell_type": "code"
   },
   "source": "criterion = nn.CrossEntropyLoss()\nbatch_size = 64\nc=10\nEPOCHS = 5\ninput_size = 28*28\noutput_size=10",
   "execution_count": 2,
   "outputs": []
  },
  {
   "cell_type": "code",
   "metadata": {
    "cell_id": "00002-ecaee207-918b-40f6-b229-f1963efabd25",
    "deepnote_to_be_reexecuted": false,
    "source_hash": "eff51e8d",
    "execution_start": 1637688165914,
    "execution_millis": 11,
    "deepnote_cell_type": "code"
   },
   "source": "class Network(nn.Module):\n    def __init__(self,num_neurons,input_size,output_size):\n        super().__init__()\n        hidden1 = 50\n        hidden2 = 20\n        hidden3 = 70\n        self.conv = nn.Sequential(\n          nn.Linear(input_size,hidden1),\n          nn.ReLU(),\n          nn.Linear(hidden1,hidden2),\n          nn.ReLU(),\n          nn.Linear(hidden2,hidden3),\n          nn.ReLU(),\n          nn.Linear(hidden3, output_size)\n        )\n    \n    def forward(self, x):\n        return nn.Softmax(dim=0)(self.conv(x))",
   "execution_count": 3,
   "outputs": []
  },
  {
   "cell_type": "markdown",
   "source": "train the model",
   "metadata": {
    "cell_id": "00003-07fa5f03-f039-4643-8bd5-5c17035cf2f7",
    "deepnote_cell_type": "markdown"
   }
  },
  {
   "cell_type": "code",
   "metadata": {
    "cell_id": "00004-dc377caa-fe3b-4804-8fde-13a276b9a115",
    "deepnote_to_be_reexecuted": false,
    "source_hash": "a9dafeba",
    "execution_start": 1637688165935,
    "execution_millis": 3,
    "deepnote_cell_type": "code"
   },
   "source": "def train(model, dataloader: DataLoader, optimizer):\n    \n    epoch_loss=0.0\n    for batch, (images, labels) in enumerate(dataloader):\n        optimizer.zero_grad()\n        output = model(images.view(-1, input_size))\n        output=output.float()\n        loss=criterion(output.squeeze(),labels.long())\n        epoch_loss += loss.item()\n        loss.backward()\n        optimizer.step()\n    epoch_loss = epoch_loss / len(dataloader)\n    print('loss :{}'.format(loss))    \n",
   "execution_count": 4,
   "outputs": []
  },
  {
   "cell_type": "markdown",
   "source": "train loop",
   "metadata": {
    "cell_id": "00005-83c6d62e-d47b-4401-9531-83e5cb334bda",
    "deepnote_cell_type": "markdown"
   }
  },
  {
   "cell_type": "code",
   "metadata": {
    "cell_id": "00006-99f74449-f57c-466d-b6a8-f22f1cbcd6a7",
    "deepnote_to_be_reexecuted": false,
    "source_hash": "8b226b28",
    "execution_start": 1637688165940,
    "execution_millis": 4,
    "deepnote_cell_type": "code"
   },
   "source": "def trainloop(dataloader, model, optimizer,EPOCHS):\n    for epoch in range(EPOCHS):\n        train(dataloader=dataloader, model=model, optimizer=optimizer)",
   "execution_count": 5,
   "outputs": []
  },
  {
   "cell_type": "markdown",
   "source": "Intialize model,optimizer,trainDataset,testDataset,traindataloader,testdataloader",
   "metadata": {
    "cell_id": "00007-d7131a2c-4c4a-4074-9ba4-802fccd87fcb",
    "deepnote_cell_type": "markdown"
   }
  },
  {
   "cell_type": "code",
   "metadata": {
    "cell_id": "00008-b4351343-1b2a-4a0d-a583-e8650130bd29",
    "deepnote_to_be_reexecuted": false,
    "source_hash": "cd78db87",
    "execution_start": 1637688165946,
    "execution_millis": 10,
    "deepnote_cell_type": "code"
   },
   "source": "model = Network(num_neurons=(20,10,7),input_size=input_size,output_size=output_size)\noptimizer = torch.optim.SGD(model.parameters(), lr=0.001)",
   "execution_count": 6,
   "outputs": []
  },
  {
   "cell_type": "code",
   "metadata": {
    "cell_id": "00011-a540f121-0f41-4354-b64a-2144717ec897",
    "deepnote_to_be_reexecuted": false,
    "source_hash": "d7aa5042",
    "execution_start": 1637688166004,
    "execution_millis": 0,
    "deepnote_cell_type": "code"
   },
   "source": "def test_(test_loader:DataLoader,EPOCHS:int,model):\n    model.eval()\n    for epoch in range(EPOCHS):                                             \n        with torch.no_grad():\n                correct = 0\n                total = 0\n                for images, labels in test_loader:\n                    outputs = model(images.view(-1, input_size))\n                    _, predicted = torch.max(outputs.data, 1)\n                    # total += labels.size(0)\n                    correct += (predicted == labels).sum().item()\n                    \n    \n                print('Accuracy: %d %%' % (100 * correct / (len(test_loader.dataset)))) ",
   "execution_count": 7,
   "outputs": []
  },
  {
   "cell_type": "markdown",
   "source": "### 2.1\n#### a\nTrain the classes separately, i.e. filter the dataset and train for five epochs\non all images depicting a 0, then on all images depicting a 1, and so on.",
   "metadata": {
    "cell_id": "00009-291c668d-ff80-435e-8d9e-a2313d9916d7",
    "deepnote_cell_type": "markdown"
   }
  },
  {
   "cell_type": "code",
   "metadata": {
    "cell_id": "00010-b125936d-f172-479e-ac21-f688db53e000",
    "deepnote_to_be_reexecuted": false,
    "source_hash": "f7103a94",
    "execution_start": 1637688166005,
    "execution_millis": 17158,
    "deepnote_cell_type": "code"
   },
   "source": "classes = range(c)\nfor label in classes:\n    model_b = Network(num_neurons=(20,10,7),input_size=input_size,output_size=output_size)\n    trainDataset = ImageDataset(type='training', label=label)\n    data_loader = DataLoader(trainDataset, batch_size=batch_size,shuffle=False, drop_last=False)\n    trainloop(dataloader=data_loader, model=model,\n              optimizer=optimizer, EPOCHS=5)\n    testingDataset = ImageDataset(type='testing', label=label)\n    test_loader = DataLoader(testingDataset, batch_size=batch_size,shuffle=True, drop_last=False)\n    print('test label: {}'.format(label))\n    test_(model=model_b,EPOCHS=EPOCHS,test_loader=test_loader)          ",
   "execution_count": 8,
   "outputs": [
    {
     "name": "stdout",
     "text": "loss :2.3045785427093506\nloss :2.304482936859131\nloss :2.304396867752075\nloss :2.3043196201324463\nloss :2.304248571395874\ntest label: 0\nAccuracy: 10 %\nAccuracy: 10 %\nAccuracy: 10 %\nAccuracy: 9 %\nAccuracy: 10 %\nloss :2.303076982498169\nloss :2.3030734062194824\nloss :2.303069591522217\nloss :2.303065538406372\nloss :2.3030614852905273\ntest label: 1\nAccuracy: 6 %\nAccuracy: 6 %\nAccuracy: 6 %\nAccuracy: 6 %\nAccuracy: 5 %\nloss :2.3037185668945312\nloss :2.30366587638855\nloss :2.3036134243011475\nloss :2.303558349609375\nloss :2.303504228591919\ntest label: 2\nAccuracy: 4 %\nAccuracy: 3 %\nAccuracy: 4 %\nAccuracy: 4 %\nAccuracy: 4 %\nloss :2.303084135055542\nloss :2.3030688762664795\nloss :2.30305552482605\nloss :2.303044557571411\nloss :2.3030359745025635\ntest label: 3\nAccuracy: 10 %\nAccuracy: 8 %\nAccuracy: 9 %\nAccuracy: 9 %\nAccuracy: 9 %\nloss :2.3034725189208984\nloss :2.3034441471099854\nloss :2.303419828414917\nloss :2.3033971786499023\nloss :2.3033761978149414\ntest label: 4\nAccuracy: 9 %\nAccuracy: 9 %\nAccuracy: 10 %\nAccuracy: 11 %\nAccuracy: 8 %\nloss :2.304187059402466\nloss :2.30403208732605\nloss :2.303889036178589\nloss :2.3037753105163574\nloss :2.303664445877075\ntest label: 5\nAccuracy: 9 %\nAccuracy: 9 %\nAccuracy: 11 %\nAccuracy: 10 %\nAccuracy: 10 %\nloss :2.302960157394409\nloss :2.3029463291168213\nloss :2.3029353618621826\nloss :2.302924871444702\nloss :2.3029158115386963\ntest label: 6\nAccuracy: 5 %\nAccuracy: 6 %\nAccuracy: 5 %\nAccuracy: 6 %\nAccuracy: 6 %\nloss :2.3029487133026123\nloss :2.3029303550720215\nloss :2.3029134273529053\nloss :2.302898645401001\nloss :2.302886486053467\ntest label: 7\nAccuracy: 9 %\nAccuracy: 10 %\nAccuracy: 9 %\nAccuracy: 10 %\nAccuracy: 10 %\nloss :2.30342960357666\nloss :2.303375482559204\nloss :2.3033294677734375\nloss :2.303290367126465\nloss :2.3032562732696533\ntest label: 8\nAccuracy: 5 %\nAccuracy: 5 %\nAccuracy: 5 %\nAccuracy: 6 %\nAccuracy: 5 %\nloss :2.3030879497528076\nloss :2.303048610687256\nloss :2.3030190467834473\nloss :2.302997589111328\nloss :2.3029823303222656\ntest label: 9\nAccuracy: 12 %\nAccuracy: 13 %\nAccuracy: 12 %\nAccuracy: 13 %\nAccuracy: 12 %\n",
     "output_type": "stream"
    }
   ]
  },
  {
   "cell_type": "markdown",
   "source": "### 2.1\n#### b\nSort the images by class and train them in order for 25 epochs. Make sure\nthat the DataLoader is not shuffling the data.",
   "metadata": {
    "cell_id": "00012-9c267ca7-b472-4d97-bd1c-aeb55d20f69e",
    "deepnote_cell_type": "markdown"
   }
  },
  {
   "cell_type": "code",
   "metadata": {
    "cell_id": "00013-6f588efd-1b91-430c-b5aa-6b38abaab5b2",
    "deepnote_to_be_reexecuted": false,
    "source_hash": "301b141a",
    "execution_start": 1637688183170,
    "execution_millis": 57576,
    "deepnote_cell_type": "code"
   },
   "source": "sortedDataSet=SortedImageDataset('training')\nsortedDataSetLoader = DataLoader(sortedDataSet, batch_size=batch_size,\n                                              shuffle=False, drop_last=False)\nmodel_b = Network(num_neurons=(20,10,7),input_size=input_size,output_size=output_size)\nsortedEpoch=25\ntrainloop(dataloader=sortedDataSetLoader, model=model_b,\n              optimizer=optimizer, EPOCHS=sortedEpoch)    \n\nggg=SortedImageDataset(type='testing')\ntest_loader = DataLoader(ggg, batch_size=batch_size,shuffle=True, drop_last=False)\ntest_(model=model_b,EPOCHS=sortedEpoch,test_loader=test_loader)\n                                         ",
   "execution_count": 9,
   "outputs": [
    {
     "name": "stdout",
     "text": "loss :2.3061227798461914\nloss :2.3061227798461914\nloss :2.3061227798461914\nloss :2.3061227798461914\nloss :2.3061227798461914\nloss :2.3061227798461914\nloss :2.3061227798461914\nloss :2.3061227798461914\nloss :2.3061227798461914\nloss :2.3061227798461914\nloss :2.3061227798461914\nloss :2.3061227798461914\nloss :2.3061227798461914\nloss :2.3061227798461914\nloss :2.3061227798461914\nloss :2.3061227798461914\nloss :2.3061227798461914\nloss :2.3061227798461914\nloss :2.3061227798461914\nloss :2.3061227798461914\nloss :2.3061227798461914\nloss :2.3061227798461914\nloss :2.3061227798461914\nloss :2.3061227798461914\nloss :2.3061227798461914\nAccuracy: 2 %\nAccuracy: 2 %\nAccuracy: 2 %\nAccuracy: 2 %\nAccuracy: 2 %\nAccuracy: 2 %\nAccuracy: 2 %\nAccuracy: 2 %\nAccuracy: 2 %\nAccuracy: 2 %\nAccuracy: 2 %\nAccuracy: 2 %\nAccuracy: 2 %\nAccuracy: 2 %\nAccuracy: 2 %\nAccuracy: 2 %\nAccuracy: 2 %\nAccuracy: 2 %\nAccuracy: 2 %\nAccuracy: 2 %\nAccuracy: 2 %\nAccuracy: 2 %\nAccuracy: 2 %\nAccuracy: 2 %\nAccuracy: 2 %\n",
     "output_type": "stream"
    }
   ]
  },
  {
   "cell_type": "code",
   "metadata": {
    "cell_id": "00014-e6fce4c9-f950-4544-9133-376a31b5cab1",
    "deepnote_to_be_reexecuted": false,
    "source_hash": "b623e53d",
    "execution_start": 1637688240746,
    "execution_millis": 2,
    "deepnote_cell_type": "code"
   },
   "source": "",
   "execution_count": 9,
   "outputs": []
  },
  {
   "cell_type": "markdown",
   "source": "<a style='text-decoration:none;line-height:16px;display:flex;color:#5B5B62;padding:10px;justify-content:end;' href='https://deepnote.com?utm_source=created-in-deepnote-cell&projectId=8d525717-702e-4285-81d5-cd5945dff109' target=\"_blank\">\n<img alt='Created in deepnote.com' style='display:inline;max-height:16px;margin:0px;margin-right:7.5px;' src='data:image/svg+xml;base64,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' > </img>\nCreated in <span style='font-weight:600;margin-left:4px;'>Deepnote</span></a>",
   "metadata": {
    "tags": [],
    "created_in_deepnote_cell": true,
    "deepnote_cell_type": "markdown"
   }
  }
 ],
 "nbformat": 4,
 "nbformat_minor": 2,
 "metadata": {
  "interpreter": {
   "hash": "8a538f586e875ec222cf7269ec2c5a974e9fc5ad8035091c5290008bd5b1a57c"
  },
  "kernelspec": {
   "display_name": "Python 3.10.0 64-bit",
   "language": "python",
   "name": "python3"
  },
  "language_info": {
   "codemirror_mode": {
    "name": "ipython",
    "version": 3
   },
   "file_extension": ".py",
   "mimetype": "text/x-python",
   "name": "python",
   "nbconvert_exporter": "python",
   "pygments_lexer": "ipython3",
   "version": "3.8.12"
  },
  "orig_nbformat": 4,
  "deepnote_notebook_id": "b1c4b0a3-480f-4960-95bc-4384b4be638e",
  "deepnote": {},
  "deepnote_execution_queue": []
 }
}