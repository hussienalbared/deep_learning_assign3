{
 "cells": [
  {
   "cell_type": "markdown",
   "source": "## ILAS Sheet 03\n### Task - 02 (i)",
   "metadata": {
    "cell_id": "00000-761997e5-e9c2-49e8-b0e1-072b6c0756ec",
    "deepnote_cell_type": "markdown"
   }
  },
  {
   "cell_type": "code",
   "metadata": {
    "cell_id": "00001-3f758763-0932-4d2b-a0d6-051170b3b64b",
    "deepnote_to_be_reexecuted": false,
    "source_hash": "5b21bc8c",
    "execution_start": 1637332351894,
    "deepnote_output_heights": [
     377.390625
    ],
    "execution_millis": 3697,
    "deepnote_cell_type": "code"
   },
   "source": "import sklearn\nimport pandas as pd\nimport numpy as np\nimport matplotlib.pyplot as plt\nimport seaborn as sns\nfrom sklearn import tree as SkT\nfrom sklearn.tree import DecisionTreeClassifier as DTC\nfrom sklearn.metrics import accuracy_score\n# from sklearn import metrics\nimport graphviz\nfrom graphviz import Source\ntraining_data = pd.read_csv('gene_expression_training.csv')\ntraining_data",
   "execution_count": null,
   "outputs": [
    {
     "output_type": "execute_result",
     "execution_count": 2,
     "data": {
      "application/vnd.deepnote.dataframe.v2+json": {
       "row_count": 701,
       "column_count": 72,
       "columns": [
        {
         "name": "DYRK1A",
         "dtype": "float64",
         "stats": {
          "unique_count": 660,
          "nan_count": 0,
          "min": "0.1568",
          "max": "2.4803",
          "histogram": [
           {
            "bin_start": 0.1568,
            "bin_end": 0.38915,
            "count": 388
           },
           {
            "bin_start": 0.38915,
            "bin_end": 0.6214999999999999,
            "count": 226
           },
           {
            "bin_start": 0.6214999999999999,
            "bin_end": 0.85385,
            "count": 69
           },
           {
            "bin_start": 0.85385,
            "bin_end": 1.0862,
            "count": 10
           },
           {
            "bin_start": 1.0862,
            "bin_end": 1.31855,
            "count": 0
           },
           {
            "bin_start": 1.31855,
            "bin_end": 1.5509,
            "count": 0
           },
           {
            "bin_start": 1.5509,
            "bin_end": 1.78325,
            "count": 2
           },
           {
            "bin_start": 1.78325,
            "bin_end": 2.0156,
            "count": 1
           },
           {
            "bin_start": 2.0156,
            "bin_end": 2.24795,
            "count": 3
           },
           {
            "bin_start": 2.24795,
            "bin_end": 2.4803,
            "count": 2
           }
          ]
         }
        },
        {
         "name": "ITSN1",
         "dtype": "float64",
         "stats": {
          "unique_count": 666,
          "nan_count": 0,
          "min": "0.2612",
          "max": "2.6027",
          "histogram": [
           {
            "bin_start": 0.2612,
            "bin_end": 0.49534999999999996,
            "count": 211
           },
           {
            "bin_start": 0.49534999999999996,
            "bin_end": 0.7295,
            "count": 335
           },
           {
            "bin_start": 0.7295,
            "bin_end": 0.96365,
            "count": 117
           },
           {
            "bin_start": 0.96365,
            "bin_end": 1.1978,
            "count": 29
           },
           {
            "bin_start": 1.1978,
            "bin_end": 1.43195,
            "count": 1
           },
           {
            "bin_start": 1.43195,
            "bin_end": 1.6661000000000001,
            "count": 1
           },
           {
            "bin_start": 1.6661000000000001,
            "bin_end": 1.9002499999999998,
            "count": 0
           },
           {
            "bin_start": 1.9002499999999998,
            "bin_end": 2.1344,
            "count": 4
           },
           {
            "bin_start": 2.1344,
            "bin_end": 2.36855,
            "count": 0
           },
           {
            "bin_start": 2.36855,
            "bin_end": 2.6027,
            "count": 3
           }
          ]
         }
        },
        {
         "name": "BDNF",
         "dtype": "float64",
         "stats": {
          "unique_count": 561,
          "nan_count": 0,
          "min": "0.1152",
          "max": "0.4972",
          "histogram": [
           {
            "bin_start": 0.1152,
            "bin_end": 0.15339999999999998,
            "count": 1
           },
           {
            "bin_start": 0.15339999999999998,
            "bin_end": 0.1916,
            "count": 0
           },
           {
            "bin_start": 0.1916,
            "bin_end": 0.2298,
            "count": 14
           },
           {
            "bin_start": 0.2298,
            "bin_end": 0.268,
            "count": 85
           },
           {
            "bin_start": 0.268,
            "bin_end": 0.3062,
            "count": 190
           },
           {
            "bin_start": 0.3062,
            "bin_end": 0.3444,
            "count": 223
           },
           {
            "bin_start": 0.3444,
            "bin_end": 0.38259999999999994,
            "count": 113
           },
           {
            "bin_start": 0.38259999999999994,
            "bin_end": 0.42079999999999995,
            "count": 56
           },
           {
            "bin_start": 0.42079999999999995,
            "bin_end": 0.45899999999999996,
            "count": 15
           },
           {
            "bin_start": 0.45899999999999996,
            "bin_end": 0.4972,
            "count": 4
           }
          ]
         }
        },
        {
         "name": "NR1",
         "dtype": "float64",
         "stats": {
          "unique_count": 677,
          "nan_count": 0,
          "min": "1.3308",
          "max": "3.7576",
          "histogram": [
           {
            "bin_start": 1.3308,
            "bin_end": 1.57348,
            "count": 11
           },
           {
            "bin_start": 1.57348,
            "bin_end": 1.81616,
            "count": 40
           },
           {
            "bin_start": 1.81616,
            "bin_end": 2.05884,
            "count": 121
           },
           {
            "bin_start": 2.05884,
            "bin_end": 2.30152,
            "count": 188
           },
           {
            "bin_start": 2.30152,
            "bin_end": 2.5442,
            "count": 165
           },
           {
            "bin_start": 2.5442,
            "bin_end": 2.78688,
            "count": 114
           },
           {
            "bin_start": 2.78688,
            "bin_end": 3.02956,
            "count": 48
           },
           {
            "bin_start": 3.02956,
            "bin_end": 3.27224,
            "count": 12
           },
           {
            "bin_start": 3.27224,
            "bin_end": 3.51492,
            "count": 1
           },
           {
            "bin_start": 3.51492,
            "bin_end": 3.7576,
            "count": 1
           }
          ]
         }
        },
        {
         "name": "NR2A",
         "dtype": "float64",
         "stats": {
          "unique_count": 688,
          "nan_count": 0,
          "min": "1.7375",
          "max": "8.4826",
          "histogram": [
           {
            "bin_start": 1.7375,
            "bin_end": 2.41201,
            "count": 25
           },
           {
            "bin_start": 2.41201,
            "bin_end": 3.08652,
            "count": 139
           },
           {
            "bin_start": 3.08652,
            "bin_end": 3.76103,
            "count": 202
           },
           {
            "bin_start": 3.76103,
            "bin_end": 4.43554,
            "count": 164
           },
           {
            "bin_start": 4.43554,
            "bin_end": 5.110049999999999,
            "count": 95
           },
           {
            "bin_start": 5.110049999999999,
            "bin_end": 5.78456,
            "count": 51
           },
           {
            "bin_start": 5.78456,
            "bin_end": 6.45907,
            "count": 21
           },
           {
            "bin_start": 6.45907,
            "bin_end": 7.133579999999999,
            "count": 3
           },
           {
            "bin_start": 7.133579999999999,
            "bin_end": 7.808089999999999,
            "count": 0
           },
           {
            "bin_start": 7.808089999999999,
            "bin_end": 8.4826,
            "count": 1
           }
          ]
         }
        },
        {
         "name": "pAKT",
         "dtype": "float64",
         "stats": {
          "unique_count": 543,
          "nan_count": 0,
          "min": "0.125",
          "max": "0.5391",
          "histogram": [
           {
            "bin_start": 0.125,
            "bin_end": 0.16641,
            "count": 12
           },
           {
            "bin_start": 0.16641,
            "bin_end": 0.20782,
            "count": 171
           },
           {
            "bin_start": 0.20782,
            "bin_end": 0.24923,
            "count": 282
           },
           {
            "bin_start": 0.24923,
            "bin_end": 0.29064,
            "count": 176
           },
           {
            "bin_start": 0.29064,
            "bin_end": 0.33205,
            "count": 51
           },
           {
            "bin_start": 0.33205,
            "bin_end": 0.37346,
            "count": 6
           },
           {
            "bin_start": 0.37346,
            "bin_end": 0.41487,
            "count": 1
           },
           {
            "bin_start": 0.41487,
            "bin_end": 0.45628,
            "count": 1
           },
           {
            "bin_start": 0.45628,
            "bin_end": 0.49769,
            "count": 0
           },
           {
            "bin_start": 0.49769,
            "bin_end": 0.5391,
            "count": 1
           }
          ]
         }
        },
        {
         "name": "pBRAF",
         "dtype": "float64",
         "stats": {
          "unique_count": 503,
          "nan_count": 0,
          "min": "0.1076",
          "max": "0.313",
          "histogram": [
           {
            "bin_start": 0.1076,
            "bin_end": 0.12814,
            "count": 9
           },
           {
            "bin_start": 0.12814,
            "bin_end": 0.14868,
            "count": 61
           },
           {
            "bin_start": 0.14868,
            "bin_end": 0.16921999999999998,
            "count": 136
           },
           {
            "bin_start": 0.16921999999999998,
            "bin_end": 0.18975999999999998,
            "count": 221
           },
           {
            "bin_start": 0.18975999999999998,
            "bin_end": 0.2103,
            "count": 188
           },
           {
            "bin_start": 0.2103,
            "bin_end": 0.23084,
            "count": 57
           },
           {
            "bin_start": 0.23084,
            "bin_end": 0.25138,
            "count": 21
           },
           {
            "bin_start": 0.25138,
            "bin_end": 0.27192,
            "count": 5
           },
           {
            "bin_start": 0.27192,
            "bin_end": 0.29246,
            "count": 2
           },
           {
            "bin_start": 0.29246,
            "bin_end": 0.313,
            "count": 1
           }
          ]
         }
        },
        {
         "name": "pCAMKII",
         "dtype": "float64",
         "stats": {
          "unique_count": 699,
          "nan_count": 0,
          "min": "1.344",
          "max": "7.4641",
          "histogram": [
           {
            "bin_start": 1.344,
            "bin_end": 1.95601,
            "count": 59
           },
           {
            "bin_start": 1.95601,
            "bin_end": 2.5680199999999997,
            "count": 143
           },
           {
            "bin_start": 2.5680199999999997,
            "bin_end": 3.18003,
            "count": 123
           },
           {
            "bin_start": 3.18003,
            "bin_end": 3.79204,
            "count": 107
           },
           {
            "bin_start": 3.79204,
            "bin_end": 4.40405,
            "count": 86
           },
           {
            "bin_start": 4.40405,
            "bin_end": 5.0160599999999995,
            "count": 65
           },
           {
            "bin_start": 5.0160599999999995,
            "bin_end": 5.62807,
            "count": 64
           },
           {
            "bin_start": 5.62807,
            "bin_end": 6.24008,
            "count": 34
           },
           {
            "bin_start": 6.24008,
            "bin_end": 6.85209,
            "count": 15
           },
           {
            "bin_start": 6.85209,
            "bin_end": 7.4641,
            "count": 5
           }
          ]
         }
        },
        {
         "name": "pCREB",
         "dtype": "float64",
         "stats": {
          "unique_count": 523,
          "nan_count": 0,
          "min": "0.1275",
          "max": "0.3062",
          "histogram": [
           {
            "bin_start": 0.1275,
            "bin_end": 0.14537,
            "count": 9
           },
           {
            "bin_start": 0.14537,
            "bin_end": 0.16324,
            "count": 34
           },
           {
            "bin_start": 0.16324,
            "bin_end": 0.18111000000000002,
            "count": 69
           },
           {
            "bin_start": 0.18111000000000002,
            "bin_end": 0.19898000000000002,
            "count": 121
           },
           {
            "bin_start": 0.19898000000000002,
            "bin_end": 0.21685000000000001,
            "count": 147
           },
           {
            "bin_start": 0.21685000000000001,
            "bin_end": 0.23472000000000004,
            "count": 136
           },
           {
            "bin_start": 0.23472000000000004,
            "bin_end": 0.25259000000000004,
            "count": 98
           },
           {
            "bin_start": 0.25259000000000004,
            "bin_end": 0.27046000000000003,
            "count": 49
           },
           {
            "bin_start": 0.27046000000000003,
            "bin_end": 0.28833000000000003,
            "count": 22
           },
           {
            "bin_start": 0.28833000000000003,
            "bin_end": 0.3062,
            "count": 16
           }
          ]
         }
        },
        {
         "name": "pELK",
         "dtype": "float64",
         "stats": {
          "unique_count": 674,
          "nan_count": 0,
          "min": "0.429",
          "max": "6.1133",
          "histogram": [
           {
            "bin_start": 0.429,
            "bin_end": 0.99743,
            "count": 52
           },
           {
            "bin_start": 0.99743,
            "bin_end": 1.56586,
            "count": 463
           },
           {
            "bin_start": 1.56586,
            "bin_end": 2.13429,
            "count": 160
           },
           {
            "bin_start": 2.13429,
            "bin_end": 2.70272,
            "count": 12
           },
           {
            "bin_start": 2.70272,
            "bin_end": 3.27115,
            "count": 4
           },
           {
            "bin_start": 3.27115,
            "bin_end": 3.8395799999999998,
            "count": 4
           },
           {
            "bin_start": 3.8395799999999998,
            "bin_end": 4.40801,
            "count": 2
           },
           {
            "bin_start": 4.40801,
            "bin_end": 4.97644,
            "count": 3
           },
           {
            "bin_start": 4.97644,
            "bin_end": 5.54487,
            "count": 0
           },
           {
            "bin_start": 5.54487,
            "bin_end": 6.1133,
            "count": 1
           }
          ]
         }
        },
        {
         "name": "pERK",
         "dtype": "float64",
         "stats": {
          "unique_count": 660,
          "nan_count": 0,
          "min": "0.1492",
          "max": "3.2893",
          "histogram": [
           {
            "bin_start": 0.1492,
            "bin_end": 0.46321,
            "count": 370
           },
           {
            "bin_start": 0.46321,
            "bin_end": 0.77722,
            "count": 213
           },
           {
            "bin_start": 0.77722,
            "bin_end": 1.09123,
            "count": 93
           },
           {
            "bin_start": 1.09123,
            "bin_end": 1.40524,
            "count": 17
           },
           {
            "bin_start": 1.40524,
            "bin_end": 1.7192500000000002,
            "count": 1
           },
           {
            "bin_start": 1.7192500000000002,
            "bin_end": 2.0332600000000003,
            "count": 0
           },
           {
            "bin_start": 2.0332600000000003,
            "bin_end": 2.34727,
            "count": 1
           },
           {
            "bin_start": 2.34727,
            "bin_end": 2.66128,
            "count": 2
           },
           {
            "bin_start": 2.66128,
            "bin_end": 2.97529,
            "count": 3
           },
           {
            "bin_start": 2.97529,
            "bin_end": 3.2893,
            "count": 1
           }
          ]
         }
        },
        {
         "name": "pJNK",
         "dtype": "float64",
         "stats": {
          "unique_count": 574,
          "nan_count": 0,
          "min": "0.1836",
          "max": "0.4934",
          "histogram": [
           {
            "bin_start": 0.1836,
            "bin_end": 0.21458000000000002,
            "count": 14
           },
           {
            "bin_start": 0.21458000000000002,
            "bin_end": 0.24556,
            "count": 46
           },
           {
            "bin_start": 0.24556,
            "bin_end": 0.27654,
            "count": 90
           },
           {
            "bin_start": 0.27654,
            "bin_end": 0.30752,
            "count": 113
           },
           {
            "bin_start": 0.30752,
            "bin_end": 0.3385,
            "count": 199
           },
           {
            "bin_start": 0.3385,
            "bin_end": 0.36948000000000003,
            "count": 151
           },
           {
            "bin_start": 0.36948000000000003,
            "bin_end": 0.40046,
            "count": 72
           },
           {
            "bin_start": 0.40046,
            "bin_end": 0.43144,
            "count": 14
           },
           {
            "bin_start": 0.43144,
            "bin_end": 0.46241999999999994,
            "count": 0
           },
           {
            "bin_start": 0.46241999999999994,
            "bin_end": 0.4934,
            "count": 2
           }
          ]
         }
        },
        {
         "name": "PKCA",
         "dtype": "float64",
         "stats": {
          "unique_count": 585,
          "nan_count": 0,
          "min": "0.198",
          "max": "0.474",
          "histogram": [
           {
            "bin_start": 0.198,
            "bin_end": 0.2256,
            "count": 22
           },
           {
            "bin_start": 0.2256,
            "bin_end": 0.2532,
            "count": 42
           },
           {
            "bin_start": 0.2532,
            "bin_end": 0.2808,
            "count": 109
           },
           {
            "bin_start": 0.2808,
            "bin_end": 0.3084,
            "count": 166
           },
           {
            "bin_start": 0.3084,
            "bin_end": 0.33599999999999997,
            "count": 132
           },
           {
            "bin_start": 0.33599999999999997,
            "bin_end": 0.3636,
            "count": 105
           },
           {
            "bin_start": 0.3636,
            "bin_end": 0.3912,
            "count": 56
           },
           {
            "bin_start": 0.3912,
            "bin_end": 0.41879999999999995,
            "count": 46
           },
           {
            "bin_start": 0.41879999999999995,
            "bin_end": 0.44639999999999996,
            "count": 18
           },
           {
            "bin_start": 0.44639999999999996,
            "bin_end": 0.474,
            "count": 5
           }
          ]
         }
        },
        {
         "name": "pMEK",
         "dtype": "float64",
         "stats": {
          "unique_count": 565,
          "nan_count": 0,
          "min": "0.1465",
          "max": "0.458",
          "histogram": [
           {
            "bin_start": 0.1465,
            "bin_end": 0.17765,
            "count": 4
           },
           {
            "bin_start": 0.17765,
            "bin_end": 0.20879999999999999,
            "count": 44
           },
           {
            "bin_start": 0.20879999999999999,
            "bin_end": 0.23995,
            "count": 93
           },
           {
            "bin_start": 0.23995,
            "bin_end": 0.2711,
            "count": 155
           },
           {
            "bin_start": 0.2711,
            "bin_end": 0.30225,
            "count": 209
           },
           {
            "bin_start": 0.30225,
            "bin_end": 0.33340000000000003,
            "count": 128
           },
           {
            "bin_start": 0.33340000000000003,
            "bin_end": 0.36455,
            "count": 52
           },
           {
            "bin_start": 0.36455,
            "bin_end": 0.3957,
            "count": 10
           },
           {
            "bin_start": 0.3957,
            "bin_end": 0.42684999999999995,
            "count": 4
           },
           {
            "bin_start": 0.42684999999999995,
            "bin_end": 0.458,
            "count": 2
           }
          ]
         }
        },
        {
         "name": "pNR1",
         "dtype": "float64",
         "stats": {
          "unique_count": 641,
          "nan_count": 0,
          "min": "0.5002",
          "max": "1.4082",
          "histogram": [
           {
            "bin_start": 0.5002,
            "bin_end": 0.591,
            "count": 12
           },
           {
            "bin_start": 0.591,
            "bin_end": 0.6818,
            "count": 50
           },
           {
            "bin_start": 0.6818,
            "bin_end": 0.7726,
            "count": 180
           },
           {
            "bin_start": 0.7726,
            "bin_end": 0.8634,
            "count": 186
           },
           {
            "bin_start": 0.8634,
            "bin_end": 0.9541999999999999,
            "count": 175
           },
           {
            "bin_start": 0.9541999999999999,
            "bin_end": 1.045,
            "count": 66
           },
           {
            "bin_start": 1.045,
            "bin_end": 1.1358,
            "count": 27
           },
           {
            "bin_start": 1.1358,
            "bin_end": 1.2266,
            "count": 3
           },
           {
            "bin_start": 1.2266,
            "bin_end": 1.3174,
            "count": 1
           },
           {
            "bin_start": 1.3174,
            "bin_end": 1.4082,
            "count": 1
           }
          ]
         }
        },
        {
         "name": "pNR2A",
         "dtype": "float64",
         "stats": {
          "unique_count": 666,
          "nan_count": 0,
          "min": "0.3176",
          "max": "1.4128",
          "histogram": [
           {
            "bin_start": 0.3176,
            "bin_end": 0.42712,
            "count": 32
           },
           {
            "bin_start": 0.42712,
            "bin_end": 0.53664,
            "count": 83
           },
           {
            "bin_start": 0.53664,
            "bin_end": 0.6461600000000001,
            "count": 136
           },
           {
            "bin_start": 0.6461600000000001,
            "bin_end": 0.7556800000000001,
            "count": 153
           },
           {
            "bin_start": 0.7556800000000001,
            "bin_end": 0.8652000000000001,
            "count": 134
           },
           {
            "bin_start": 0.8652000000000001,
            "bin_end": 0.9747200000000001,
            "count": 82
           },
           {
            "bin_start": 0.9747200000000001,
            "bin_end": 1.08424,
            "count": 53
           },
           {
            "bin_start": 1.08424,
            "bin_end": 1.1937600000000002,
            "count": 20
           },
           {
            "bin_start": 1.1937600000000002,
            "bin_end": 1.3032800000000002,
            "count": 6
           },
           {
            "bin_start": 1.3032800000000002,
            "bin_end": 1.4128,
            "count": 2
           }
          ]
         }
        },
        {
         "name": "pNR2B",
         "dtype": "float64",
         "stats": {
          "unique_count": 674,
          "nan_count": 0,
          "min": "0.3016",
          "max": "2.724",
          "histogram": [
           {
            "bin_start": 0.3016,
            "bin_end": 0.54384,
            "count": 3
           },
           {
            "bin_start": 0.54384,
            "bin_end": 0.78608,
            "count": 0
           },
           {
            "bin_start": 0.78608,
            "bin_end": 1.02832,
            "count": 11
           },
           {
            "bin_start": 1.02832,
            "bin_end": 1.2705600000000001,
            "count": 80
           },
           {
            "bin_start": 1.2705600000000001,
            "bin_end": 1.5128,
            "count": 209
           },
           {
            "bin_start": 1.5128,
            "bin_end": 1.7550400000000002,
            "count": 212
           },
           {
            "bin_start": 1.7550400000000002,
            "bin_end": 1.99728,
            "count": 150
           },
           {
            "bin_start": 1.99728,
            "bin_end": 2.23952,
            "count": 33
           },
           {
            "bin_start": 2.23952,
            "bin_end": 2.48176,
            "count": 2
           },
           {
            "bin_start": 2.48176,
            "bin_end": 2.724,
            "count": 1
           }
          ]
         }
        },
        {
         "name": "pPKCAB",
         "dtype": "float64",
         "stats": {
          "unique_count": 685,
          "nan_count": 0,
          "min": "0.5989",
          "max": "2.9324",
          "histogram": [
           {
            "bin_start": 0.5989,
            "bin_end": 0.8322499999999999,
            "count": 13
           },
           {
            "bin_start": 0.8322499999999999,
            "bin_end": 1.0655999999999999,
            "count": 77
           },
           {
            "bin_start": 1.0655999999999999,
            "bin_end": 1.29895,
            "count": 219
           },
           {
            "bin_start": 1.29895,
            "bin_end": 1.5323,
            "count": 135
           },
           {
            "bin_start": 1.5323,
            "bin_end": 1.76565,
            "count": 53
           },
           {
            "bin_start": 1.76565,
            "bin_end": 1.999,
            "count": 67
           },
           {
            "bin_start": 1.999,
            "bin_end": 2.2323500000000003,
            "count": 64
           },
           {
            "bin_start": 2.2323500000000003,
            "bin_end": 2.4657,
            "count": 48
           },
           {
            "bin_start": 2.4657,
            "bin_end": 2.69905,
            "count": 19
           },
           {
            "bin_start": 2.69905,
            "bin_end": 2.9324,
            "count": 6
           }
          ]
         }
        },
        {
         "name": "pRSK",
         "dtype": "float64",
         "stats": {
          "unique_count": 597,
          "nan_count": 0,
          "min": "0.271",
          "max": "0.651",
          "histogram": [
           {
            "bin_start": 0.271,
            "bin_end": 0.309,
            "count": 3
           },
           {
            "bin_start": 0.309,
            "bin_end": 0.34700000000000003,
            "count": 36
           },
           {
            "bin_start": 0.34700000000000003,
            "bin_end": 0.385,
            "count": 67
           },
           {
            "bin_start": 0.385,
            "bin_end": 0.42300000000000004,
            "count": 146
           },
           {
            "bin_start": 0.42300000000000004,
            "bin_end": 0.461,
            "count": 194
           },
           {
            "bin_start": 0.461,
            "bin_end": 0.499,
            "count": 118
           },
           {
            "bin_start": 0.499,
            "bin_end": 0.537,
            "count": 73
           },
           {
            "bin_start": 0.537,
            "bin_end": 0.575,
            "count": 46
           },
           {
            "bin_start": 0.575,
            "bin_end": 0.613,
            "count": 11
           },
           {
            "bin_start": 0.613,
            "bin_end": 0.651,
            "count": 7
           }
          ]
         }
        },
        {
         "name": "AKT",
         "dtype": "float64",
         "stats": {
          "unique_count": 660,
          "nan_count": 0,
          "min": "0.3349",
          "max": "1.1822",
          "histogram": [
           {
            "bin_start": 0.3349,
            "bin_end": 0.41962999999999995,
            "count": 6
           },
           {
            "bin_start": 0.41962999999999995,
            "bin_end": 0.5043599999999999,
            "count": 30
           },
           {
            "bin_start": 0.5043599999999999,
            "bin_end": 0.58909,
            "count": 121
           },
           {
            "bin_start": 0.58909,
            "bin_end": 0.67382,
            "count": 170
           },
           {
            "bin_start": 0.67382,
            "bin_end": 0.75855,
            "count": 191
           },
           {
            "bin_start": 0.75855,
            "bin_end": 0.84328,
            "count": 101
           },
           {
            "bin_start": 0.84328,
            "bin_end": 0.92801,
            "count": 63
           },
           {
            "bin_start": 0.92801,
            "bin_end": 1.01274,
            "count": 15
           },
           {
            "bin_start": 1.01274,
            "bin_end": 1.09747,
            "count": 3
           },
           {
            "bin_start": 1.09747,
            "bin_end": 1.1822,
            "count": 1
           }
          ]
         }
        },
        {
         "name": "BRAF",
         "dtype": "float64",
         "stats": {
          "unique_count": 641,
          "nan_count": 0,
          "min": "0.1439",
          "max": "2.1334",
          "histogram": [
           {
            "bin_start": 0.1439,
            "bin_end": 0.34285,
            "count": 379
           },
           {
            "bin_start": 0.34285,
            "bin_end": 0.5418000000000001,
            "count": 229
           },
           {
            "bin_start": 0.5418000000000001,
            "bin_end": 0.7407500000000001,
            "count": 72
           },
           {
            "bin_start": 0.7407500000000001,
            "bin_end": 0.9397000000000001,
            "count": 13
           },
           {
            "bin_start": 0.9397000000000001,
            "bin_end": 1.13865,
            "count": 0
           },
           {
            "bin_start": 1.13865,
            "bin_end": 1.3376000000000001,
            "count": 0
           },
           {
            "bin_start": 1.3376000000000001,
            "bin_end": 1.53655,
            "count": 0
           },
           {
            "bin_start": 1.53655,
            "bin_end": 1.7355,
            "count": 2
           },
           {
            "bin_start": 1.7355,
            "bin_end": 1.93445,
            "count": 3
           },
           {
            "bin_start": 1.93445,
            "bin_end": 2.1334,
            "count": 3
           }
          ]
         }
        },
        {
         "name": "CAMKII",
         "dtype": "float64",
         "stats": {
          "unique_count": 585,
          "nan_count": 0,
          "min": "0.2324",
          "max": "0.5862",
          "histogram": [
           {
            "bin_start": 0.2324,
            "bin_end": 0.26778,
            "count": 20
           },
           {
            "bin_start": 0.26778,
            "bin_end": 0.30316,
            "count": 57
           },
           {
            "bin_start": 0.30316,
            "bin_end": 0.33854,
            "count": 122
           },
           {
            "bin_start": 0.33854,
            "bin_end": 0.37392000000000003,
            "count": 244
           },
           {
            "bin_start": 0.37392000000000003,
            "bin_end": 0.40930000000000005,
            "count": 139
           },
           {
            "bin_start": 0.40930000000000005,
            "bin_end": 0.4446800000000001,
            "count": 70
           },
           {
            "bin_start": 0.4446800000000001,
            "bin_end": 0.48006000000000004,
            "count": 29
           },
           {
            "bin_start": 0.48006000000000004,
            "bin_end": 0.5154400000000001,
            "count": 14
           },
           {
            "bin_start": 0.5154400000000001,
            "bin_end": 0.5508200000000001,
            "count": 3
           },
           {
            "bin_start": 0.5508200000000001,
            "bin_end": 0.5862,
            "count": 3
           }
          ]
         }
        },
        {
         "name": "CREB",
         "dtype": "float64",
         "stats": {
          "unique_count": 481,
          "nan_count": 0,
          "min": "0.1199",
          "max": "0.3196",
          "histogram": [
           {
            "bin_start": 0.1199,
            "bin_end": 0.13987,
            "count": 33
           },
           {
            "bin_start": 0.13987,
            "bin_end": 0.15984,
            "count": 130
           },
           {
            "bin_start": 0.15984,
            "bin_end": 0.17981,
            "count": 187
           },
           {
            "bin_start": 0.17981,
            "bin_end": 0.19978,
            "count": 212
           },
           {
            "bin_start": 0.19978,
            "bin_end": 0.21975,
            "count": 89
           },
           {
            "bin_start": 0.21975,
            "bin_end": 0.23972,
            "count": 30
           },
           {
            "bin_start": 0.23972,
            "bin_end": 0.25969,
            "count": 13
           },
           {
            "bin_start": 0.25969,
            "bin_end": 0.27966,
            "count": 5
           },
           {
            "bin_start": 0.27966,
            "bin_end": 0.29962999999999995,
            "count": 1
           },
           {
            "bin_start": 0.29962999999999995,
            "bin_end": 0.3196,
            "count": 1
           }
          ]
         }
        },
        {
         "name": "ELK",
         "dtype": "float64",
         "stats": {
          "unique_count": 673,
          "nan_count": 0,
          "min": "0.5741",
          "max": "2.8029",
          "histogram": [
           {
            "bin_start": 0.5741,
            "bin_end": 0.79698,
            "count": 45
           },
           {
            "bin_start": 0.79698,
            "bin_end": 1.01986,
            "count": 228
           },
           {
            "bin_start": 1.01986,
            "bin_end": 1.2427400000000002,
            "count": 202
           },
           {
            "bin_start": 1.2427400000000002,
            "bin_end": 1.4656200000000001,
            "count": 111
           },
           {
            "bin_start": 1.4656200000000001,
            "bin_end": 1.6885000000000001,
            "count": 50
           },
           {
            "bin_start": 1.6885000000000001,
            "bin_end": 1.9113800000000003,
            "count": 41
           },
           {
            "bin_start": 1.9113800000000003,
            "bin_end": 2.1342600000000003,
            "count": 15
           },
           {
            "bin_start": 2.1342600000000003,
            "bin_end": 2.3571400000000002,
            "count": 3
           },
           {
            "bin_start": 2.3571400000000002,
            "bin_end": 2.58002,
            "count": 4
           },
           {
            "bin_start": 2.58002,
            "bin_end": 2.8029,
            "count": 2
           }
          ]
         }
        },
        {
         "name": "ERK",
         "dtype": "float64",
         "stats": {
          "unique_count": 693,
          "nan_count": 0,
          "min": "1.1318",
          "max": "5.1984",
          "histogram": [
           {
            "bin_start": 1.1318,
            "bin_end": 1.53846,
            "count": 32
           },
           {
            "bin_start": 1.53846,
            "bin_end": 1.94512,
            "count": 120
           },
           {
            "bin_start": 1.94512,
            "bin_end": 2.3517799999999998,
            "count": 190
           },
           {
            "bin_start": 2.3517799999999998,
            "bin_end": 2.7584400000000002,
            "count": 157
           },
           {
            "bin_start": 2.7584400000000002,
            "bin_end": 3.1651,
            "count": 83
           },
           {
            "bin_start": 3.1651,
            "bin_end": 3.5717600000000003,
            "count": 70
           },
           {
            "bin_start": 3.5717600000000003,
            "bin_end": 3.97842,
            "count": 33
           },
           {
            "bin_start": 3.97842,
            "bin_end": 4.38508,
            "count": 12
           },
           {
            "bin_start": 4.38508,
            "bin_end": 4.79174,
            "count": 2
           },
           {
            "bin_start": 4.79174,
            "bin_end": 5.1984,
            "count": 2
           }
          ]
         }
        },
        {
         "name": "GSK3B",
         "dtype": "float64",
         "stats": {
          "unique_count": 665,
          "nan_count": 0,
          "min": "0.1511",
          "max": "2.4758",
          "histogram": [
           {
            "bin_start": 0.1511,
            "bin_end": 0.38357,
            "count": 1
           },
           {
            "bin_start": 0.38357,
            "bin_end": 0.61604,
            "count": 2
           },
           {
            "bin_start": 0.61604,
            "bin_end": 0.8485100000000001,
            "count": 42
           },
           {
            "bin_start": 0.8485100000000001,
            "bin_end": 1.08098,
            "count": 196
           },
           {
            "bin_start": 1.08098,
            "bin_end": 1.31345,
            "count": 282
           },
           {
            "bin_start": 1.31345,
            "bin_end": 1.5459200000000002,
            "count": 155
           },
           {
            "bin_start": 1.5459200000000002,
            "bin_end": 1.7783900000000001,
            "count": 13
           },
           {
            "bin_start": 1.7783900000000001,
            "bin_end": 2.01086,
            "count": 3
           },
           {
            "bin_start": 2.01086,
            "bin_end": 2.2433300000000003,
            "count": 3
           },
           {
            "bin_start": 2.2433300000000003,
            "bin_end": 2.4758,
            "count": 4
           }
          ]
         }
        },
        {
         "name": "JNK",
         "dtype": "float64",
         "stats": {
          "unique_count": 528,
          "nan_count": 0,
          "min": "0.1495",
          "max": "0.3872",
          "histogram": [
           {
            "bin_start": 0.1495,
            "bin_end": 0.17326999999999998,
            "count": 8
           },
           {
            "bin_start": 0.17326999999999998,
            "bin_end": 0.19704,
            "count": 47
           },
           {
            "bin_start": 0.19704,
            "bin_end": 0.22081,
            "count": 115
           },
           {
            "bin_start": 0.22081,
            "bin_end": 0.24458,
            "count": 166
           },
           {
            "bin_start": 0.24458,
            "bin_end": 0.26835,
            "count": 221
           },
           {
            "bin_start": 0.26835,
            "bin_end": 0.29212,
            "count": 114
           },
           {
            "bin_start": 0.29212,
            "bin_end": 0.31589,
            "count": 25
           },
           {
            "bin_start": 0.31589,
            "bin_end": 0.33965999999999996,
            "count": 3
           },
           {
            "bin_start": 0.33965999999999996,
            "bin_end": 0.36343000000000003,
            "count": 1
           },
           {
            "bin_start": 0.36343000000000003,
            "bin_end": 0.3872,
            "count": 1
           }
          ]
         }
        },
        {
         "name": "MEK",
         "dtype": "float64",
         "stats": {
          "unique_count": 562,
          "nan_count": 0,
          "min": "0.1472",
          "max": "0.4154",
          "histogram": [
           {
            "bin_start": 0.1472,
            "bin_end": 0.17402,
            "count": 3
           },
           {
            "bin_start": 0.17402,
            "bin_end": 0.20084,
            "count": 27
           },
           {
            "bin_start": 0.20084,
            "bin_end": 0.22766,
            "count": 65
           },
           {
            "bin_start": 0.22766,
            "bin_end": 0.25448,
            "count": 120
           },
           {
            "bin_start": 0.25448,
            "bin_end": 0.2813,
            "count": 191
           },
           {
            "bin_start": 0.2813,
            "bin_end": 0.30812,
            "count": 161
           },
           {
            "bin_start": 0.30812,
            "bin_end": 0.33494,
            "count": 93
           },
           {
            "bin_start": 0.33494,
            "bin_end": 0.36175999999999997,
            "count": 30
           },
           {
            "bin_start": 0.36175999999999997,
            "bin_end": 0.38858000000000004,
            "count": 8
           },
           {
            "bin_start": 0.38858000000000004,
            "bin_end": 0.4154,
            "count": 3
           }
          ]
         }
        },
        {
         "name": "TRKA",
         "dtype": "float64",
         "stats": {
          "unique_count": 659,
          "nan_count": 0,
          "min": "0.1987",
          "max": "1.0016",
          "histogram": [
           {
            "bin_start": 0.1987,
            "bin_end": 0.27898999999999996,
            "count": 3
           },
           {
            "bin_start": 0.27898999999999996,
            "bin_end": 0.35928,
            "count": 0
           },
           {
            "bin_start": 0.35928,
            "bin_end": 0.43957,
            "count": 13
           },
           {
            "bin_start": 0.43957,
            "bin_end": 0.51986,
            "count": 46
           },
           {
            "bin_start": 0.51986,
            "bin_end": 0.60015,
            "count": 86
           },
           {
            "bin_start": 0.60015,
            "bin_end": 0.6804399999999999,
            "count": 134
           },
           {
            "bin_start": 0.6804399999999999,
            "bin_end": 0.76073,
            "count": 207
           },
           {
            "bin_start": 0.76073,
            "bin_end": 0.84102,
            "count": 138
           },
           {
            "bin_start": 0.84102,
            "bin_end": 0.92131,
            "count": 63
           },
           {
            "bin_start": 0.92131,
            "bin_end": 1.0016,
            "count": 11
           }
          ]
         }
        },
        {
         "name": "RSK",
         "dtype": "float64",
         "stats": {
          "unique_count": 502,
          "nan_count": 0,
          "min": "0.1117",
          "max": "0.3051",
          "histogram": [
           {
            "bin_start": 0.1117,
            "bin_end": 0.13104,
            "count": 64
           },
           {
            "bin_start": 0.13104,
            "bin_end": 0.15037999999999999,
            "count": 109
           },
           {
            "bin_start": 0.15037999999999999,
            "bin_end": 0.16971999999999998,
            "count": 197
           },
           {
            "bin_start": 0.16971999999999998,
            "bin_end": 0.18906,
            "count": 180
           },
           {
            "bin_start": 0.18906,
            "bin_end": 0.20839999999999997,
            "count": 88
           },
           {
            "bin_start": 0.20839999999999997,
            "bin_end": 0.22774,
            "count": 41
           },
           {
            "bin_start": 0.22774,
            "bin_end": 0.24708,
            "count": 13
           },
           {
            "bin_start": 0.24708,
            "bin_end": 0.26642,
            "count": 4
           },
           {
            "bin_start": 0.26642,
            "bin_end": 0.28576,
            "count": 4
           },
           {
            "bin_start": 0.28576,
            "bin_end": 0.3051,
            "count": 1
           }
          ]
         }
        },
        {
         "name": "APP",
         "dtype": "float64",
         "stats": {
          "unique_count": 601,
          "nan_count": 0,
          "min": "0.2424",
          "max": "0.5906",
          "histogram": [
           {
            "bin_start": 0.2424,
            "bin_end": 0.27722,
            "count": 11
           },
           {
            "bin_start": 0.27722,
            "bin_end": 0.31204,
            "count": 27
           },
           {
            "bin_start": 0.31204,
            "bin_end": 0.34686,
            "count": 68
           },
           {
            "bin_start": 0.34686,
            "bin_end": 0.38168,
            "count": 132
           },
           {
            "bin_start": 0.38168,
            "bin_end": 0.41650000000000004,
            "count": 168
           },
           {
            "bin_start": 0.41650000000000004,
            "bin_end": 0.45132000000000005,
            "count": 142
           },
           {
            "bin_start": 0.45132000000000005,
            "bin_end": 0.48614,
            "count": 79
           },
           {
            "bin_start": 0.48614,
            "bin_end": 0.5209600000000001,
            "count": 48
           },
           {
            "bin_start": 0.5209600000000001,
            "bin_end": 0.55578,
            "count": 21
           },
           {
            "bin_start": 0.55578,
            "bin_end": 0.5906,
            "count": 5
           }
          ]
         }
        },
        {
         "name": "Bcatenin",
         "dtype": "float64",
         "stats": {
          "unique_count": 679,
          "nan_count": 0,
          "min": "1.1349",
          "max": "3.6806",
          "histogram": [
           {
            "bin_start": 1.1349,
            "bin_end": 1.38947,
            "count": 12
           },
           {
            "bin_start": 1.38947,
            "bin_end": 1.64404,
            "count": 72
           },
           {
            "bin_start": 1.64404,
            "bin_end": 1.8986100000000001,
            "count": 131
           },
           {
            "bin_start": 1.8986100000000001,
            "bin_end": 2.15318,
            "count": 158
           },
           {
            "bin_start": 2.15318,
            "bin_end": 2.40775,
            "count": 139
           },
           {
            "bin_start": 2.40775,
            "bin_end": 2.6623200000000002,
            "count": 94
           },
           {
            "bin_start": 2.6623200000000002,
            "bin_end": 2.9168900000000004,
            "count": 56
           },
           {
            "bin_start": 2.9168900000000004,
            "bin_end": 3.17146,
            "count": 25
           },
           {
            "bin_start": 3.17146,
            "bin_end": 3.4260300000000004,
            "count": 13
           },
           {
            "bin_start": 3.4260300000000004,
            "bin_end": 3.6806,
            "count": 1
           }
          ]
         }
        },
        {
         "name": "SOD1",
         "dtype": "float64",
         "stats": {
          "unique_count": 642,
          "nan_count": 0,
          "min": "0.2398",
          "max": "1.8729",
          "histogram": [
           {
            "bin_start": 0.2398,
            "bin_end": 0.40311,
            "count": 334
           },
           {
            "bin_start": 0.40311,
            "bin_end": 0.56642,
            "count": 81
           },
           {
            "bin_start": 0.56642,
            "bin_end": 0.72973,
            "count": 114
           },
           {
            "bin_start": 0.72973,
            "bin_end": 0.8930400000000001,
            "count": 81
           },
           {
            "bin_start": 0.8930400000000001,
            "bin_end": 1.0563500000000001,
            "count": 47
           },
           {
            "bin_start": 1.0563500000000001,
            "bin_end": 1.2196600000000002,
            "count": 21
           },
           {
            "bin_start": 1.2196600000000002,
            "bin_end": 1.38297,
            "count": 13
           },
           {
            "bin_start": 1.38297,
            "bin_end": 1.54628,
            "count": 7
           },
           {
            "bin_start": 1.54628,
            "bin_end": 1.7095900000000002,
            "count": 1
           },
           {
            "bin_start": 1.7095900000000002,
            "bin_end": 1.8729,
            "count": 2
           }
          ]
         }
        },
        {
         "name": "MTOR",
         "dtype": "float64",
         "stats": {
          "unique_count": 589,
          "nan_count": 0,
          "min": "0.2011",
          "max": "0.6767",
          "histogram": [
           {
            "bin_start": 0.2011,
            "bin_end": 0.24866,
            "count": 6
           },
           {
            "bin_start": 0.24866,
            "bin_end": 0.29622,
            "count": 2
           },
           {
            "bin_start": 0.29622,
            "bin_end": 0.34378,
            "count": 20
           },
           {
            "bin_start": 0.34378,
            "bin_end": 0.39134,
            "count": 99
           },
           {
            "bin_start": 0.39134,
            "bin_end": 0.43889999999999996,
            "count": 183
           },
           {
            "bin_start": 0.43889999999999996,
            "bin_end": 0.48646,
            "count": 208
           },
           {
            "bin_start": 0.48646,
            "bin_end": 0.5340199999999999,
            "count": 99
           },
           {
            "bin_start": 0.5340199999999999,
            "bin_end": 0.58158,
            "count": 63
           },
           {
            "bin_start": 0.58158,
            "bin_end": 0.62914,
            "count": 18
           },
           {
            "bin_start": 0.62914,
            "bin_end": 0.6767,
            "count": 3
           }
          ]
         }
        },
        {
         "name": "P38",
         "dtype": "float64",
         "stats": {
          "unique_count": 620,
          "nan_count": 0,
          "min": "0.2279",
          "max": "0.7674",
          "histogram": [
           {
            "bin_start": 0.2279,
            "bin_end": 0.28185,
            "count": 31
           },
           {
            "bin_start": 0.28185,
            "bin_end": 0.3358,
            "count": 98
           },
           {
            "bin_start": 0.3358,
            "bin_end": 0.38975,
            "count": 176
           },
           {
            "bin_start": 0.38975,
            "bin_end": 0.4437,
            "count": 153
           },
           {
            "bin_start": 0.4437,
            "bin_end": 0.49765,
            "count": 126
           },
           {
            "bin_start": 0.49765,
            "bin_end": 0.5516,
            "count": 67
           },
           {
            "bin_start": 0.5516,
            "bin_end": 0.60555,
            "count": 21
           },
           {
            "bin_start": 0.60555,
            "bin_end": 0.6595,
            "count": 16
           },
           {
            "bin_start": 0.6595,
            "bin_end": 0.7134499999999999,
            "count": 9
           },
           {
            "bin_start": 0.7134499999999999,
            "bin_end": 0.7674,
            "count": 4
           }
          ]
         }
        },
        {
         "name": "pMTOR",
         "dtype": "float64",
         "stats": {
          "unique_count": 637,
          "nan_count": 0,
          "min": "0.1666",
          "max": "1.1053",
          "histogram": [
           {
            "bin_start": 0.1666,
            "bin_end": 0.26047,
            "count": 6
           },
           {
            "bin_start": 0.26047,
            "bin_end": 0.35434,
            "count": 4
           },
           {
            "bin_start": 0.35434,
            "bin_end": 0.44821,
            "count": 0
           },
           {
            "bin_start": 0.44821,
            "bin_end": 0.54208,
            "count": 9
           },
           {
            "bin_start": 0.54208,
            "bin_end": 0.63595,
            "count": 70
           },
           {
            "bin_start": 0.63595,
            "bin_end": 0.7298199999999999,
            "count": 189
           },
           {
            "bin_start": 0.7298199999999999,
            "bin_end": 0.8236899999999999,
            "count": 199
           },
           {
            "bin_start": 0.8236899999999999,
            "bin_end": 0.9175599999999999,
            "count": 158
           },
           {
            "bin_start": 0.9175599999999999,
            "bin_end": 1.01143,
            "count": 58
           },
           {
            "bin_start": 1.01143,
            "bin_end": 1.1053,
            "count": 8
           }
          ]
         }
        },
        {
         "name": "DSCR1",
         "dtype": "float64",
         "stats": {
          "unique_count": 625,
          "nan_count": 0,
          "min": "0.1553",
          "max": "0.9164",
          "histogram": [
           {
            "bin_start": 0.1553,
            "bin_end": 0.23141,
            "count": 6
           },
           {
            "bin_start": 0.23141,
            "bin_end": 0.30752,
            "count": 6
           },
           {
            "bin_start": 0.30752,
            "bin_end": 0.38362999999999997,
            "count": 1
           },
           {
            "bin_start": 0.38362999999999997,
            "bin_end": 0.45974,
            "count": 33
           },
           {
            "bin_start": 0.45974,
            "bin_end": 0.5358499999999999,
            "count": 142
           },
           {
            "bin_start": 0.5358499999999999,
            "bin_end": 0.61196,
            "count": 281
           },
           {
            "bin_start": 0.61196,
            "bin_end": 0.68807,
            "count": 125
           },
           {
            "bin_start": 0.68807,
            "bin_end": 0.76418,
            "count": 65
           },
           {
            "bin_start": 0.76418,
            "bin_end": 0.84029,
            "count": 27
           },
           {
            "bin_start": 0.84029,
            "bin_end": 0.9164,
            "count": 15
           }
          ]
         }
        },
        {
         "name": "AMPKA",
         "dtype": "float64",
         "stats": {
          "unique_count": 605,
          "nan_count": 0,
          "min": "0.2327",
          "max": "0.7008",
          "histogram": [
           {
            "bin_start": 0.2327,
            "bin_end": 0.27951,
            "count": 31
           },
           {
            "bin_start": 0.27951,
            "bin_end": 0.32632,
            "count": 149
           },
           {
            "bin_start": 0.32632,
            "bin_end": 0.37312999999999996,
            "count": 250
           },
           {
            "bin_start": 0.37312999999999996,
            "bin_end": 0.41994,
            "count": 133
           },
           {
            "bin_start": 0.41994,
            "bin_end": 0.46675,
            "count": 76
           },
           {
            "bin_start": 0.46675,
            "bin_end": 0.51356,
            "count": 43
           },
           {
            "bin_start": 0.51356,
            "bin_end": 0.5603699999999999,
            "count": 14
           },
           {
            "bin_start": 0.5603699999999999,
            "bin_end": 0.6071799999999999,
            "count": 3
           },
           {
            "bin_start": 0.6071799999999999,
            "bin_end": 0.65399,
            "count": 1
           },
           {
            "bin_start": 0.65399,
            "bin_end": 0.7008,
            "count": 1
           }
          ]
         }
        },
        {
         "name": "NR2B",
         "dtype": "float64",
         "stats": {
          "unique_count": 638,
          "nan_count": 0,
          "min": "0.1848",
          "max": "0.972",
          "histogram": [
           {
            "bin_start": 0.1848,
            "bin_end": 0.26352,
            "count": 5
           },
           {
            "bin_start": 0.26352,
            "bin_end": 0.34224,
            "count": 6
           },
           {
            "bin_start": 0.34224,
            "bin_end": 0.42096,
            "count": 18
           },
           {
            "bin_start": 0.42096,
            "bin_end": 0.49968,
            "count": 120
           },
           {
            "bin_start": 0.49968,
            "bin_end": 0.5784,
            "count": 263
           },
           {
            "bin_start": 0.5784,
            "bin_end": 0.6571199999999999,
            "count": 188
           },
           {
            "bin_start": 0.6571199999999999,
            "bin_end": 0.7358399999999999,
            "count": 81
           },
           {
            "bin_start": 0.7358399999999999,
            "bin_end": 0.81456,
            "count": 16
           },
           {
            "bin_start": 0.81456,
            "bin_end": 0.89328,
            "count": 2
           },
           {
            "bin_start": 0.89328,
            "bin_end": 0.972,
            "count": 2
           }
          ]
         }
        },
        {
         "name": "pNUMB",
         "dtype": "float64",
         "stats": {
          "unique_count": 589,
          "nan_count": 0,
          "min": "0.2247",
          "max": "0.6311",
          "histogram": [
           {
            "bin_start": 0.2247,
            "bin_end": 0.26534,
            "count": 30
           },
           {
            "bin_start": 0.26534,
            "bin_end": 0.30598000000000003,
            "count": 107
           },
           {
            "bin_start": 0.30598000000000003,
            "bin_end": 0.34662,
            "count": 199
           },
           {
            "bin_start": 0.34662,
            "bin_end": 0.38726,
            "count": 164
           },
           {
            "bin_start": 0.38726,
            "bin_end": 0.4279,
            "count": 106
           },
           {
            "bin_start": 0.4279,
            "bin_end": 0.46853999999999996,
            "count": 48
           },
           {
            "bin_start": 0.46853999999999996,
            "bin_end": 0.50918,
            "count": 35
           },
           {
            "bin_start": 0.50918,
            "bin_end": 0.54982,
            "count": 8
           },
           {
            "bin_start": 0.54982,
            "bin_end": 0.59046,
            "count": 2
           },
           {
            "bin_start": 0.59046,
            "bin_end": 0.6311,
            "count": 2
           }
          ]
         }
        },
        {
         "name": "RAPTOR",
         "dtype": "float64",
         "stats": {
          "unique_count": 577,
          "nan_count": 0,
          "min": "0.216",
          "max": "0.5267",
          "histogram": [
           {
            "bin_start": 0.216,
            "bin_end": 0.24706999999999998,
            "count": 51
           },
           {
            "bin_start": 0.24706999999999998,
            "bin_end": 0.27814,
            "count": 146
           },
           {
            "bin_start": 0.27814,
            "bin_end": 0.30921,
            "count": 188
           },
           {
            "bin_start": 0.30921,
            "bin_end": 0.34027999999999997,
            "count": 107
           },
           {
            "bin_start": 0.34027999999999997,
            "bin_end": 0.37134999999999996,
            "count": 91
           },
           {
            "bin_start": 0.37134999999999996,
            "bin_end": 0.40242,
            "count": 54
           },
           {
            "bin_start": 0.40242,
            "bin_end": 0.43349,
            "count": 31
           },
           {
            "bin_start": 0.43349,
            "bin_end": 0.46456,
            "count": 26
           },
           {
            "bin_start": 0.46456,
            "bin_end": 0.49563,
            "count": 3
           },
           {
            "bin_start": 0.49563,
            "bin_end": 0.5267,
            "count": 4
           }
          ]
         }
        },
        {
         "name": "TIAM1",
         "dtype": "float64",
         "stats": {
          "unique_count": 607,
          "nan_count": 0,
          "min": "0.2704",
          "max": "0.7221",
          "histogram": [
           {
            "bin_start": 0.2704,
            "bin_end": 0.31556999999999996,
            "count": 16
           },
           {
            "bin_start": 0.31556999999999996,
            "bin_end": 0.36073999999999995,
            "count": 121
           },
           {
            "bin_start": 0.36073999999999995,
            "bin_end": 0.40591,
            "count": 209
           },
           {
            "bin_start": 0.40591,
            "bin_end": 0.45108,
            "count": 159
           },
           {
            "bin_start": 0.45108,
            "bin_end": 0.49624999999999997,
            "count": 101
           },
           {
            "bin_start": 0.49624999999999997,
            "bin_end": 0.54142,
            "count": 50
           },
           {
            "bin_start": 0.54142,
            "bin_end": 0.58659,
            "count": 30
           },
           {
            "bin_start": 0.58659,
            "bin_end": 0.63176,
            "count": 9
           },
           {
            "bin_start": 0.63176,
            "bin_end": 0.67693,
            "count": 3
           },
           {
            "bin_start": 0.67693,
            "bin_end": 0.7221,
            "count": 3
           }
          ]
         }
        },
        {
         "name": "pP70S6",
         "dtype": "float64",
         "stats": {
          "unique_count": 661,
          "nan_count": 0,
          "min": "0.1311",
          "max": "1.1292",
          "histogram": [
           {
            "bin_start": 0.1311,
            "bin_end": 0.23091,
            "count": 115
           },
           {
            "bin_start": 0.23091,
            "bin_end": 0.33072,
            "count": 112
           },
           {
            "bin_start": 0.33072,
            "bin_end": 0.43052999999999997,
            "count": 226
           },
           {
            "bin_start": 0.43052999999999997,
            "bin_end": 0.53034,
            "count": 141
           },
           {
            "bin_start": 0.53034,
            "bin_end": 0.63015,
            "count": 60
           },
           {
            "bin_start": 0.63015,
            "bin_end": 0.7299599999999999,
            "count": 30
           },
           {
            "bin_start": 0.7299599999999999,
            "bin_end": 0.82977,
            "count": 6
           },
           {
            "bin_start": 0.82977,
            "bin_end": 0.92958,
            "count": 2
           },
           {
            "bin_start": 0.92958,
            "bin_end": 1.0293899999999998,
            "count": 5
           },
           {
            "bin_start": 1.0293899999999998,
            "bin_end": 1.1292,
            "count": 4
           }
          ]
         }
        },
        {
         "name": "NUMB",
         "dtype": "float64",
         "stats": {
          "unique_count": 499,
          "nan_count": 0,
          "min": "0.1185",
          "max": "0.3166",
          "histogram": [
           {
            "bin_start": 0.1185,
            "bin_end": 0.13831,
            "count": 31
           },
           {
            "bin_start": 0.13831,
            "bin_end": 0.15811999999999998,
            "count": 129
           },
           {
            "bin_start": 0.15811999999999998,
            "bin_end": 0.17793,
            "count": 177
           },
           {
            "bin_start": 0.17793,
            "bin_end": 0.19774,
            "count": 184
           },
           {
            "bin_start": 0.19774,
            "bin_end": 0.21755,
            "count": 95
           },
           {
            "bin_start": 0.21755,
            "bin_end": 0.23736000000000002,
            "count": 55
           },
           {
            "bin_start": 0.23736000000000002,
            "bin_end": 0.25717,
            "count": 20
           },
           {
            "bin_start": 0.25717,
            "bin_end": 0.27698,
            "count": 6
           },
           {
            "bin_start": 0.27698,
            "bin_end": 0.29679,
            "count": 2
           },
           {
            "bin_start": 0.29679,
            "bin_end": 0.3166,
            "count": 2
           }
          ]
         }
        },
        {
         "name": "P70S6",
         "dtype": "float64",
         "stats": {
          "unique_count": 666,
          "nan_count": 0,
          "min": "0.3441",
          "max": "1.68",
          "histogram": [
           {
            "bin_start": 0.3441,
            "bin_end": 0.47769,
            "count": 2
           },
           {
            "bin_start": 0.47769,
            "bin_end": 0.61128,
            "count": 3
           },
           {
            "bin_start": 0.61128,
            "bin_end": 0.7448699999999999,
            "count": 76
           },
           {
            "bin_start": 0.7448699999999999,
            "bin_end": 0.87846,
            "count": 170
           },
           {
            "bin_start": 0.87846,
            "bin_end": 1.01205,
            "count": 217
           },
           {
            "bin_start": 1.01205,
            "bin_end": 1.14564,
            "count": 136
           },
           {
            "bin_start": 1.14564,
            "bin_end": 1.2792299999999999,
            "count": 67
           },
           {
            "bin_start": 1.2792299999999999,
            "bin_end": 1.41282,
            "count": 24
           },
           {
            "bin_start": 1.41282,
            "bin_end": 1.5464099999999998,
            "count": 4
           },
           {
            "bin_start": 1.5464099999999998,
            "bin_end": 1.68,
            "count": 2
           }
          ]
         }
        },
        {
         "name": "pGSK3B",
         "dtype": "float64",
         "stats": {
          "unique_count": 449,
          "nan_count": 0,
          "min": "0.1",
          "max": "0.2532",
          "histogram": [
           {
            "bin_start": 0.1,
            "bin_end": 0.11532,
            "count": 2
           },
           {
            "bin_start": 0.11532,
            "bin_end": 0.13064,
            "count": 35
           },
           {
            "bin_start": 0.13064,
            "bin_end": 0.14595999999999998,
            "count": 100
           },
           {
            "bin_start": 0.14595999999999998,
            "bin_end": 0.16127999999999998,
            "count": 221
           },
           {
            "bin_start": 0.16127999999999998,
            "bin_end": 0.17659999999999998,
            "count": 202
           },
           {
            "bin_start": 0.17659999999999998,
            "bin_end": 0.19191999999999998,
            "count": 90
           },
           {
            "bin_start": 0.19191999999999998,
            "bin_end": 0.20723999999999998,
            "count": 38
           },
           {
            "bin_start": 0.20723999999999998,
            "bin_end": 0.22255999999999998,
            "count": 6
           },
           {
            "bin_start": 0.22255999999999998,
            "bin_end": 0.23787999999999998,
            "count": 4
           },
           {
            "bin_start": 0.23787999999999998,
            "bin_end": 0.2532,
            "count": 3
           }
          ]
         }
        },
        {
         "name": "pPKCG",
         "dtype": "float64",
         "stats": {
          "unique_count": 694,
          "nan_count": 0,
          "min": "0.6032",
          "max": "3.382",
          "histogram": [
           {
            "bin_start": 0.6032,
            "bin_end": 0.88108,
            "count": 49
           },
           {
            "bin_start": 0.88108,
            "bin_end": 1.15896,
            "count": 83
           },
           {
            "bin_start": 1.15896,
            "bin_end": 1.4368400000000001,
            "count": 118
           },
           {
            "bin_start": 1.4368400000000001,
            "bin_end": 1.71472,
            "count": 123
           },
           {
            "bin_start": 1.71472,
            "bin_end": 1.9926000000000001,
            "count": 126
           },
           {
            "bin_start": 1.9926000000000001,
            "bin_end": 2.27048,
            "count": 88
           },
           {
            "bin_start": 2.27048,
            "bin_end": 2.5483599999999997,
            "count": 53
           },
           {
            "bin_start": 2.5483599999999997,
            "bin_end": 2.8262400000000003,
            "count": 34
           },
           {
            "bin_start": 2.8262400000000003,
            "bin_end": 3.10412,
            "count": 17
           },
           {
            "bin_start": 3.10412,
            "bin_end": 3.382,
            "count": 10
           }
          ]
         }
        },
        {
         "name": "CDK5",
         "dtype": "float64",
         "stats": {
          "unique_count": 537,
          "nan_count": 0,
          "min": "0.1812",
          "max": "0.8174",
          "histogram": [
           {
            "bin_start": 0.1812,
            "bin_end": 0.24481999999999998,
            "count": 70
           },
           {
            "bin_start": 0.24481999999999998,
            "bin_end": 0.30844,
            "count": 417
           },
           {
            "bin_start": 0.30844,
            "bin_end": 0.37205999999999995,
            "count": 207
           },
           {
            "bin_start": 0.37205999999999995,
            "bin_end": 0.43567999999999996,
            "count": 6
           },
           {
            "bin_start": 0.43567999999999996,
            "bin_end": 0.49929999999999997,
            "count": 0
           },
           {
            "bin_start": 0.49929999999999997,
            "bin_end": 0.56292,
            "count": 0
           },
           {
            "bin_start": 0.56292,
            "bin_end": 0.62654,
            "count": 0
           },
           {
            "bin_start": 0.62654,
            "bin_end": 0.69016,
            "count": 0
           },
           {
            "bin_start": 0.69016,
            "bin_end": 0.75378,
            "count": 0
           },
           {
            "bin_start": 0.75378,
            "bin_end": 0.8174,
            "count": 1
           }
          ]
         }
        },
        {
         "name": "S6",
         "dtype": "float64",
         "stats": {
          "unique_count": 659,
          "nan_count": 0,
          "min": "0.1302",
          "max": "0.8226",
          "histogram": [
           {
            "bin_start": 0.1302,
            "bin_end": 0.19944,
            "count": 8
           },
           {
            "bin_start": 0.19944,
            "bin_end": 0.26868000000000003,
            "count": 59
           },
           {
            "bin_start": 0.26868000000000003,
            "bin_end": 0.33792,
            "count": 166
           },
           {
            "bin_start": 0.33792,
            "bin_end": 0.40715999999999997,
            "count": 112
           },
           {
            "bin_start": 0.40715999999999997,
            "bin_end": 0.47639999999999993,
            "count": 79
           },
           {
            "bin_start": 0.47639999999999993,
            "bin_end": 0.54564,
            "count": 104
           },
           {
            "bin_start": 0.54564,
            "bin_end": 0.61488,
            "count": 82
           },
           {
            "bin_start": 0.61488,
            "bin_end": 0.68412,
            "count": 61
           },
           {
            "bin_start": 0.68412,
            "bin_end": 0.7533599999999999,
            "count": 22
           },
           {
            "bin_start": 0.7533599999999999,
            "bin_end": 0.8226,
            "count": 8
           }
          ]
         }
        },
        {
         "name": "ADARB1",
         "dtype": "float64",
         "stats": {
          "unique_count": 671,
          "nan_count": 0,
          "min": "0.5291",
          "max": "2.5399",
          "histogram": [
           {
            "bin_start": 0.5291,
            "bin_end": 0.73018,
            "count": 26
           },
           {
            "bin_start": 0.73018,
            "bin_end": 0.93126,
            "count": 158
           },
           {
            "bin_start": 0.93126,
            "bin_end": 1.1323400000000001,
            "count": 187
           },
           {
            "bin_start": 1.1323400000000001,
            "bin_end": 1.3334199999999998,
            "count": 138
           },
           {
            "bin_start": 1.3334199999999998,
            "bin_end": 1.5345,
            "count": 82
           },
           {
            "bin_start": 1.5345,
            "bin_end": 1.7355800000000001,
            "count": 47
           },
           {
            "bin_start": 1.7355800000000001,
            "bin_end": 1.9366599999999998,
            "count": 30
           },
           {
            "bin_start": 1.9366599999999998,
            "bin_end": 2.13774,
            "count": 11
           },
           {
            "bin_start": 2.13774,
            "bin_end": 2.3388199999999997,
            "count": 15
           },
           {
            "bin_start": 2.3388199999999997,
            "bin_end": 2.5399,
            "count": 7
           }
          ]
         }
        },
        {
         "name": "AcetylH3K9",
         "dtype": "float64",
         "stats": {
          "unique_count": 618,
          "nan_count": 0,
          "min": "0.0527",
          "max": "1.4594",
          "histogram": [
           {
            "bin_start": 0.0527,
            "bin_end": 0.19337000000000001,
            "count": 437
           },
           {
            "bin_start": 0.19337000000000001,
            "bin_end": 0.33404,
            "count": 157
           },
           {
            "bin_start": 0.33404,
            "bin_end": 0.4747100000000001,
            "count": 49
           },
           {
            "bin_start": 0.4747100000000001,
            "bin_end": 0.61538,
            "count": 27
           },
           {
            "bin_start": 0.61538,
            "bin_end": 0.7560500000000001,
            "count": 8
           },
           {
            "bin_start": 0.7560500000000001,
            "bin_end": 0.8967200000000001,
            "count": 14
           },
           {
            "bin_start": 0.8967200000000001,
            "bin_end": 1.03739,
            "count": 4
           },
           {
            "bin_start": 1.03739,
            "bin_end": 1.17806,
            "count": 4
           },
           {
            "bin_start": 1.17806,
            "bin_end": 1.3187300000000002,
            "count": 0
           },
           {
            "bin_start": 1.3187300000000002,
            "bin_end": 1.4594,
            "count": 1
           }
          ]
         }
        },
        {
         "name": "RRP1",
         "dtype": "float64",
         "stats": {
          "unique_count": 478,
          "nan_count": 0,
          "min": "0.1169",
          "max": "0.4286",
          "histogram": [
           {
            "bin_start": 0.1169,
            "bin_end": 0.14807,
            "count": 156
           },
           {
            "bin_start": 0.14807,
            "bin_end": 0.17924,
            "count": 382
           },
           {
            "bin_start": 0.17924,
            "bin_end": 0.21040999999999999,
            "count": 118
           },
           {
            "bin_start": 0.21040999999999999,
            "bin_end": 0.24158,
            "count": 30
           },
           {
            "bin_start": 0.24158,
            "bin_end": 0.27275,
            "count": 9
           },
           {
            "bin_start": 0.27275,
            "bin_end": 0.30391999999999997,
            "count": 1
           },
           {
            "bin_start": 0.30391999999999997,
            "bin_end": 0.33509,
            "count": 2
           },
           {
            "bin_start": 0.33509,
            "bin_end": 0.36626,
            "count": 1
           },
           {
            "bin_start": 0.36626,
            "bin_end": 0.39742999999999995,
            "count": 1
           },
           {
            "bin_start": 0.39742999999999995,
            "bin_end": 0.4286,
            "count": 1
           }
          ]
         }
        },
        {
         "name": "BAX",
         "dtype": "float64",
         "stats": {
          "unique_count": 436,
          "nan_count": 0,
          "min": "0.0723",
          "max": "0.2411",
          "histogram": [
           {
            "bin_start": 0.0723,
            "bin_end": 0.08918000000000001,
            "count": 1
           },
           {
            "bin_start": 0.08918000000000001,
            "bin_end": 0.10606,
            "count": 1
           },
           {
            "bin_start": 0.10606,
            "bin_end": 0.12294,
            "count": 4
           },
           {
            "bin_start": 0.12294,
            "bin_end": 0.13982,
            "count": 11
           },
           {
            "bin_start": 0.13982,
            "bin_end": 0.1567,
            "count": 63
           },
           {
            "bin_start": 0.1567,
            "bin_end": 0.17358,
            "count": 168
           },
           {
            "bin_start": 0.17358,
            "bin_end": 0.19046,
            "count": 271
           },
           {
            "bin_start": 0.19046,
            "bin_end": 0.20734,
            "count": 129
           },
           {
            "bin_start": 0.20734,
            "bin_end": 0.22422,
            "count": 52
           },
           {
            "bin_start": 0.22422,
            "bin_end": 0.2411,
            "count": 1
           }
          ]
         }
        },
        {
         "name": "ARC",
         "dtype": "float64",
         "stats": {
          "unique_count": 402,
          "nan_count": 0,
          "min": "0.0673",
          "max": "0.1587",
          "histogram": [
           {
            "bin_start": 0.0673,
            "bin_end": 0.07644,
            "count": 2
           },
           {
            "bin_start": 0.07644,
            "bin_end": 0.08558,
            "count": 2
           },
           {
            "bin_start": 0.08558,
            "bin_end": 0.09472,
            "count": 13
           },
           {
            "bin_start": 0.09472,
            "bin_end": 0.10386000000000001,
            "count": 69
           },
           {
            "bin_start": 0.10386000000000001,
            "bin_end": 0.113,
            "count": 135
           },
           {
            "bin_start": 0.113,
            "bin_end": 0.12214,
            "count": 148
           },
           {
            "bin_start": 0.12214,
            "bin_end": 0.13128,
            "count": 156
           },
           {
            "bin_start": 0.13128,
            "bin_end": 0.14042,
            "count": 101
           },
           {
            "bin_start": 0.14042,
            "bin_end": 0.14956,
            "count": 60
           },
           {
            "bin_start": 0.14956,
            "bin_end": 0.1587,
            "count": 15
           }
          ]
         }
        },
        {
         "name": "ERBB4",
         "dtype": "float64",
         "stats": {
          "unique_count": 405,
          "nan_count": 0,
          "min": "0.1002",
          "max": "0.2087",
          "histogram": [
           {
            "bin_start": 0.1002,
            "bin_end": 0.11105,
            "count": 5
           },
           {
            "bin_start": 0.11105,
            "bin_end": 0.1219,
            "count": 6
           },
           {
            "bin_start": 0.1219,
            "bin_end": 0.13275,
            "count": 23
           },
           {
            "bin_start": 0.13275,
            "bin_end": 0.1436,
            "count": 91
           },
           {
            "bin_start": 0.1436,
            "bin_end": 0.15445,
            "count": 178
           },
           {
            "bin_start": 0.15445,
            "bin_end": 0.1653,
            "count": 228
           },
           {
            "bin_start": 0.1653,
            "bin_end": 0.17615,
            "count": 101
           },
           {
            "bin_start": 0.17615,
            "bin_end": 0.187,
            "count": 48
           },
           {
            "bin_start": 0.187,
            "bin_end": 0.19785,
            "count": 18
           },
           {
            "bin_start": 0.19785,
            "bin_end": 0.2087,
            "count": 3
           }
          ]
         }
        },
        {
         "name": "nNOS",
         "dtype": "float64",
         "stats": {
          "unique_count": 499,
          "nan_count": 0,
          "min": "0.0997",
          "max": "0.2607",
          "histogram": [
           {
            "bin_start": 0.0997,
            "bin_end": 0.11579999999999999,
            "count": 5
           },
           {
            "bin_start": 0.11579999999999999,
            "bin_end": 0.1319,
            "count": 18
           },
           {
            "bin_start": 0.1319,
            "bin_end": 0.148,
            "count": 52
           },
           {
            "bin_start": 0.148,
            "bin_end": 0.16409999999999997,
            "count": 83
           },
           {
            "bin_start": 0.16409999999999997,
            "bin_end": 0.18019999999999997,
            "count": 162
           },
           {
            "bin_start": 0.18019999999999997,
            "bin_end": 0.19629999999999997,
            "count": 178
           },
           {
            "bin_start": 0.19629999999999997,
            "bin_end": 0.21239999999999998,
            "count": 135
           },
           {
            "bin_start": 0.21239999999999998,
            "bin_end": 0.22849999999999998,
            "count": 51
           },
           {
            "bin_start": 0.22849999999999998,
            "bin_end": 0.24459999999999998,
            "count": 13
           },
           {
            "bin_start": 0.24459999999999998,
            "bin_end": 0.2607,
            "count": 4
           }
          ]
         }
        },
        {
         "name": "Tau",
         "dtype": "float64",
         "stats": {
          "unique_count": 586,
          "nan_count": 0,
          "min": "0.0962",
          "max": "0.6028",
          "histogram": [
           {
            "bin_start": 0.0962,
            "bin_end": 0.14686,
            "count": 69
           },
           {
            "bin_start": 0.14686,
            "bin_end": 0.19752,
            "count": 324
           },
           {
            "bin_start": 0.19752,
            "bin_end": 0.24818,
            "count": 157
           },
           {
            "bin_start": 0.24818,
            "bin_end": 0.29884,
            "count": 78
           },
           {
            "bin_start": 0.29884,
            "bin_end": 0.34950000000000003,
            "count": 37
           },
           {
            "bin_start": 0.34950000000000003,
            "bin_end": 0.40016,
            "count": 23
           },
           {
            "bin_start": 0.40016,
            "bin_end": 0.45082000000000005,
            "count": 7
           },
           {
            "bin_start": 0.45082000000000005,
            "bin_end": 0.50148,
            "count": 3
           },
           {
            "bin_start": 0.50148,
            "bin_end": 0.55214,
            "count": 1
           },
           {
            "bin_start": 0.55214,
            "bin_end": 0.6028,
            "count": 2
           }
          ]
         }
        },
        {
         "name": "GFAP",
         "dtype": "float64",
         "stats": {
          "unique_count": 366,
          "nan_count": 0,
          "min": "0.0861",
          "max": "0.197",
          "histogram": [
           {
            "bin_start": 0.0861,
            "bin_end": 0.09719,
            "count": 23
           },
           {
            "bin_start": 0.09719,
            "bin_end": 0.10828,
            "count": 95
           },
           {
            "bin_start": 0.10828,
            "bin_end": 0.11937,
            "count": 198
           },
           {
            "bin_start": 0.11937,
            "bin_end": 0.13046,
            "count": 240
           },
           {
            "bin_start": 0.13046,
            "bin_end": 0.14155,
            "count": 97
           },
           {
            "bin_start": 0.14155,
            "bin_end": 0.15264,
            "count": 36
           },
           {
            "bin_start": 0.15264,
            "bin_end": 0.16373,
            "count": 5
           },
           {
            "bin_start": 0.16373,
            "bin_end": 0.17482,
            "count": 3
           },
           {
            "bin_start": 0.17482,
            "bin_end": 0.18591000000000002,
            "count": 3
           },
           {
            "bin_start": 0.18591000000000002,
            "bin_end": 0.197,
            "count": 1
           }
          ]
         }
        },
        {
         "name": "GluR3",
         "dtype": "float64",
         "stats": {
          "unique_count": 535,
          "nan_count": 0,
          "min": "0.1114",
          "max": "0.331",
          "histogram": [
           {
            "bin_start": 0.1114,
            "bin_end": 0.13336,
            "count": 4
           },
           {
            "bin_start": 0.13336,
            "bin_end": 0.15532,
            "count": 9
           },
           {
            "bin_start": 0.15532,
            "bin_end": 0.17728,
            "count": 35
           },
           {
            "bin_start": 0.17728,
            "bin_end": 0.19924,
            "count": 164
           },
           {
            "bin_start": 0.19924,
            "bin_end": 0.2212,
            "count": 179
           },
           {
            "bin_start": 0.2212,
            "bin_end": 0.24316,
            "count": 130
           },
           {
            "bin_start": 0.24316,
            "bin_end": 0.26512,
            "count": 90
           },
           {
            "bin_start": 0.26512,
            "bin_end": 0.28708,
            "count": 61
           },
           {
            "bin_start": 0.28708,
            "bin_end": 0.30904,
            "count": 25
           },
           {
            "bin_start": 0.30904,
            "bin_end": 0.331,
            "count": 4
           }
          ]
         }
        },
        {
         "name": "GluR4",
         "dtype": "float64",
         "stats": {
          "unique_count": 462,
          "nan_count": 0,
          "min": "0.0726",
          "max": "0.4207",
          "histogram": [
           {
            "bin_start": 0.0726,
            "bin_end": 0.10741,
            "count": 162
           },
           {
            "bin_start": 0.10741,
            "bin_end": 0.14222,
            "count": 381
           },
           {
            "bin_start": 0.14222,
            "bin_end": 0.17703,
            "count": 148
           },
           {
            "bin_start": 0.17703,
            "bin_end": 0.21184,
            "count": 9
           },
           {
            "bin_start": 0.21184,
            "bin_end": 0.24665,
            "count": 0
           },
           {
            "bin_start": 0.24665,
            "bin_end": 0.28146,
            "count": 0
           },
           {
            "bin_start": 0.28146,
            "bin_end": 0.31627,
            "count": 0
           },
           {
            "bin_start": 0.31627,
            "bin_end": 0.35108,
            "count": 0
           },
           {
            "bin_start": 0.35108,
            "bin_end": 0.38589,
            "count": 0
           },
           {
            "bin_start": 0.38589,
            "bin_end": 0.4207,
            "count": 1
           }
          ]
         }
        },
        {
         "name": "IL1B",
         "dtype": "float64",
         "stats": {
          "unique_count": 638,
          "nan_count": 0,
          "min": "0.284",
          "max": "0.8897",
          "histogram": [
           {
            "bin_start": 0.284,
            "bin_end": 0.34457,
            "count": 5
           },
           {
            "bin_start": 0.34457,
            "bin_end": 0.40514,
            "count": 46
           },
           {
            "bin_start": 0.40514,
            "bin_end": 0.46571,
            "count": 111
           },
           {
            "bin_start": 0.46571,
            "bin_end": 0.5262800000000001,
            "count": 197
           },
           {
            "bin_start": 0.5262800000000001,
            "bin_end": 0.5868500000000001,
            "count": 187
           },
           {
            "bin_start": 0.5868500000000001,
            "bin_end": 0.6474200000000001,
            "count": 109
           },
           {
            "bin_start": 0.6474200000000001,
            "bin_end": 0.7079900000000001,
            "count": 28
           },
           {
            "bin_start": 0.7079900000000001,
            "bin_end": 0.7685600000000001,
            "count": 13
           },
           {
            "bin_start": 0.7685600000000001,
            "bin_end": 0.8291300000000001,
            "count": 3
           },
           {
            "bin_start": 0.8291300000000001,
            "bin_end": 0.8897,
            "count": 2
           }
          ]
         }
        },
        {
         "name": "P3525",
         "dtype": "float64",
         "stats": {
          "unique_count": 519,
          "nan_count": 0,
          "min": "0.2074",
          "max": "0.3624",
          "histogram": [
           {
            "bin_start": 0.2074,
            "bin_end": 0.2229,
            "count": 4
           },
           {
            "bin_start": 0.2229,
            "bin_end": 0.2384,
            "count": 23
           },
           {
            "bin_start": 0.2384,
            "bin_end": 0.2539,
            "count": 45
           },
           {
            "bin_start": 0.2539,
            "bin_end": 0.2694,
            "count": 111
           },
           {
            "bin_start": 0.2694,
            "bin_end": 0.2849,
            "count": 134
           },
           {
            "bin_start": 0.2849,
            "bin_end": 0.3004,
            "count": 132
           },
           {
            "bin_start": 0.3004,
            "bin_end": 0.3159,
            "count": 111
           },
           {
            "bin_start": 0.3159,
            "bin_end": 0.33140000000000003,
            "count": 74
           },
           {
            "bin_start": 0.33140000000000003,
            "bin_end": 0.3469,
            "count": 37
           },
           {
            "bin_start": 0.3469,
            "bin_end": 0.3624,
            "count": 30
           }
          ]
         }
        },
        {
         "name": "pCASP9",
         "dtype": "float64",
         "stats": {
          "unique_count": 660,
          "nan_count": 0,
          "min": "0.8532",
          "max": "2.5862",
          "histogram": [
           {
            "bin_start": 0.8532,
            "bin_end": 1.0265,
            "count": 6
           },
           {
            "bin_start": 1.0265,
            "bin_end": 1.1998,
            "count": 35
           },
           {
            "bin_start": 1.1998,
            "bin_end": 1.3731,
            "count": 126
           },
           {
            "bin_start": 1.3731,
            "bin_end": 1.5463999999999998,
            "count": 209
           },
           {
            "bin_start": 1.5463999999999998,
            "bin_end": 1.7197,
            "count": 147
           },
           {
            "bin_start": 1.7197,
            "bin_end": 1.8929999999999998,
            "count": 106
           },
           {
            "bin_start": 1.8929999999999998,
            "bin_end": 2.0663,
            "count": 56
           },
           {
            "bin_start": 2.0663,
            "bin_end": 2.2396,
            "count": 9
           },
           {
            "bin_start": 2.2396,
            "bin_end": 2.4128999999999996,
            "count": 4
           },
           {
            "bin_start": 2.4128999999999996,
            "bin_end": 2.5862,
            "count": 3
           }
          ]
         }
        },
        {
         "name": "PSD95",
         "dtype": "float64",
         "stats": {
          "unique_count": 681,
          "nan_count": 0,
          "min": "1.322",
          "max": "2.8779",
          "histogram": [
           {
            "bin_start": 1.322,
            "bin_end": 1.47759,
            "count": 4
           },
           {
            "bin_start": 1.47759,
            "bin_end": 1.63318,
            "count": 9
           },
           {
            "bin_start": 1.63318,
            "bin_end": 1.78877,
            "count": 20
           },
           {
            "bin_start": 1.78877,
            "bin_end": 1.94436,
            "count": 48
           },
           {
            "bin_start": 1.94436,
            "bin_end": 2.0999499999999998,
            "count": 120
           },
           {
            "bin_start": 2.0999499999999998,
            "bin_end": 2.25554,
            "count": 159
           },
           {
            "bin_start": 2.25554,
            "bin_end": 2.41113,
            "count": 157
           },
           {
            "bin_start": 2.41113,
            "bin_end": 2.56672,
            "count": 127
           },
           {
            "bin_start": 2.56672,
            "bin_end": 2.72231,
            "count": 44
           },
           {
            "bin_start": 2.72231,
            "bin_end": 2.8779,
            "count": 13
           }
          ]
         }
        },
        {
         "name": "SNCA",
         "dtype": "float64",
         "stats": {
          "unique_count": 468,
          "nan_count": 0,
          "min": "0.1082",
          "max": "0.2576",
          "histogram": [
           {
            "bin_start": 0.1082,
            "bin_end": 0.12314,
            "count": 27
           },
           {
            "bin_start": 0.12314,
            "bin_end": 0.13808,
            "count": 98
           },
           {
            "bin_start": 0.13808,
            "bin_end": 0.15302,
            "count": 161
           },
           {
            "bin_start": 0.15302,
            "bin_end": 0.16796,
            "count": 192
           },
           {
            "bin_start": 0.16796,
            "bin_end": 0.1829,
            "count": 105
           },
           {
            "bin_start": 0.1829,
            "bin_end": 0.19784000000000002,
            "count": 60
           },
           {
            "bin_start": 0.19784000000000002,
            "bin_end": 0.21278,
            "count": 33
           },
           {
            "bin_start": 0.21278,
            "bin_end": 0.22771999999999998,
            "count": 19
           },
           {
            "bin_start": 0.22771999999999998,
            "bin_end": 0.24266,
            "count": 3
           },
           {
            "bin_start": 0.24266,
            "bin_end": 0.2576,
            "count": 3
           }
          ]
         }
        },
        {
         "name": "Ubiquitin",
         "dtype": "float64",
         "stats": {
          "unique_count": 664,
          "nan_count": 0,
          "min": "0.7507",
          "max": "1.8972",
          "histogram": [
           {
            "bin_start": 0.7507,
            "bin_end": 0.8653500000000001,
            "count": 6
           },
           {
            "bin_start": 0.8653500000000001,
            "bin_end": 0.98,
            "count": 38
           },
           {
            "bin_start": 0.98,
            "bin_end": 1.0946500000000001,
            "count": 82
           },
           {
            "bin_start": 1.0946500000000001,
            "bin_end": 1.2093,
            "count": 177
           },
           {
            "bin_start": 1.2093,
            "bin_end": 1.32395,
            "count": 174
           },
           {
            "bin_start": 1.32395,
            "bin_end": 1.4386,
            "count": 129
           },
           {
            "bin_start": 1.4386,
            "bin_end": 1.55325,
            "count": 72
           },
           {
            "bin_start": 1.55325,
            "bin_end": 1.6679,
            "count": 16
           },
           {
            "bin_start": 1.6679,
            "bin_end": 1.78255,
            "count": 5
           },
           {
            "bin_start": 1.78255,
            "bin_end": 1.8972,
            "count": 2
           }
          ]
         }
        },
        {
         "name": "pGSK3B_Tyr216",
         "dtype": "float64",
         "stats": {
          "unique_count": 631,
          "nan_count": 0,
          "min": "0.5774",
          "max": "1.2046",
          "histogram": [
           {
            "bin_start": 0.5774,
            "bin_end": 0.64012,
            "count": 11
           },
           {
            "bin_start": 0.64012,
            "bin_end": 0.70284,
            "count": 49
           },
           {
            "bin_start": 0.70284,
            "bin_end": 0.76556,
            "count": 79
           },
           {
            "bin_start": 0.76556,
            "bin_end": 0.8282799999999999,
            "count": 150
           },
           {
            "bin_start": 0.8282799999999999,
            "bin_end": 0.891,
            "count": 178
           },
           {
            "bin_start": 0.891,
            "bin_end": 0.9537199999999999,
            "count": 144
           },
           {
            "bin_start": 0.9537199999999999,
            "bin_end": 1.0164399999999998,
            "count": 71
           },
           {
            "bin_start": 1.0164399999999998,
            "bin_end": 1.07916,
            "count": 14
           },
           {
            "bin_start": 1.07916,
            "bin_end": 1.14188,
            "count": 4
           },
           {
            "bin_start": 1.14188,
            "bin_end": 1.2046,
            "count": 1
           }
          ]
         }
        },
        {
         "name": "SHH",
         "dtype": "float64",
         "stats": {
          "unique_count": 513,
          "nan_count": 0,
          "min": "0.1559",
          "max": "0.3583",
          "histogram": [
           {
            "bin_start": 0.1559,
            "bin_end": 0.17614000000000002,
            "count": 10
           },
           {
            "bin_start": 0.17614000000000002,
            "bin_end": 0.19638,
            "count": 83
           },
           {
            "bin_start": 0.19638,
            "bin_end": 0.21662,
            "count": 188
           },
           {
            "bin_start": 0.21662,
            "bin_end": 0.23686000000000001,
            "count": 203
           },
           {
            "bin_start": 0.23686000000000001,
            "bin_end": 0.2571,
            "count": 114
           },
           {
            "bin_start": 0.2571,
            "bin_end": 0.27734000000000003,
            "count": 55
           },
           {
            "bin_start": 0.27734000000000003,
            "bin_end": 0.29758,
            "count": 29
           },
           {
            "bin_start": 0.29758,
            "bin_end": 0.31782,
            "count": 8
           },
           {
            "bin_start": 0.31782,
            "bin_end": 0.33806,
            "count": 7
           },
           {
            "bin_start": 0.33806,
            "bin_end": 0.3583,
            "count": 4
           }
          ]
         }
        },
        {
         "name": "pS6",
         "dtype": "float64",
         "stats": {
          "unique_count": 402,
          "nan_count": 0,
          "min": "0.0673",
          "max": "0.1587",
          "histogram": [
           {
            "bin_start": 0.0673,
            "bin_end": 0.07644,
            "count": 2
           },
           {
            "bin_start": 0.07644,
            "bin_end": 0.08558,
            "count": 2
           },
           {
            "bin_start": 0.08558,
            "bin_end": 0.09472,
            "count": 13
           },
           {
            "bin_start": 0.09472,
            "bin_end": 0.10386000000000001,
            "count": 69
           },
           {
            "bin_start": 0.10386000000000001,
            "bin_end": 0.113,
            "count": 135
           },
           {
            "bin_start": 0.113,
            "bin_end": 0.12214,
            "count": 148
           },
           {
            "bin_start": 0.12214,
            "bin_end": 0.13128,
            "count": 156
           },
           {
            "bin_start": 0.13128,
            "bin_end": 0.14042,
            "count": 101
           },
           {
            "bin_start": 0.14042,
            "bin_end": 0.14956,
            "count": 60
           },
           {
            "bin_start": 0.14956,
            "bin_end": 0.1587,
            "count": 15
           }
          ]
         }
        },
        {
         "name": "SYP",
         "dtype": "float64",
         "stats": {
          "unique_count": 622,
          "nan_count": 0,
          "min": "0.2586",
          "max": "0.7596",
          "histogram": [
           {
            "bin_start": 0.2586,
            "bin_end": 0.30870000000000003,
            "count": 10
           },
           {
            "bin_start": 0.30870000000000003,
            "bin_end": 0.3588,
            "count": 59
           },
           {
            "bin_start": 0.3588,
            "bin_end": 0.40890000000000004,
            "count": 155
           },
           {
            "bin_start": 0.40890000000000004,
            "bin_end": 0.4590000000000001,
            "count": 173
           },
           {
            "bin_start": 0.4590000000000001,
            "bin_end": 0.5091000000000001,
            "count": 189
           },
           {
            "bin_start": 0.5091000000000001,
            "bin_end": 0.5592000000000001,
            "count": 88
           },
           {
            "bin_start": 0.5592000000000001,
            "bin_end": 0.6093000000000001,
            "count": 24
           },
           {
            "bin_start": 0.6093000000000001,
            "bin_end": 0.6594000000000001,
            "count": 1
           },
           {
            "bin_start": 0.6594000000000001,
            "bin_end": 0.7095000000000001,
            "count": 0
           },
           {
            "bin_start": 0.7095000000000001,
            "bin_end": 0.7596,
            "count": 2
           }
          ]
         }
        },
        {
         "name": "CaNA",
         "dtype": "float64",
         "stats": {
          "unique_count": 678,
          "nan_count": 0,
          "min": "0.6434",
          "max": "2.1298",
          "histogram": [
           {
            "bin_start": 0.6434,
            "bin_end": 0.79204,
            "count": 24
           },
           {
            "bin_start": 0.79204,
            "bin_end": 0.94068,
            "count": 46
           },
           {
            "bin_start": 0.94068,
            "bin_end": 1.0893199999999998,
            "count": 128
           },
           {
            "bin_start": 1.0893199999999998,
            "bin_end": 1.23796,
            "count": 103
           },
           {
            "bin_start": 1.23796,
            "bin_end": 1.3866,
            "count": 100
           },
           {
            "bin_start": 1.3866,
            "bin_end": 1.53524,
            "count": 82
           },
           {
            "bin_start": 1.53524,
            "bin_end": 1.68388,
            "count": 110
           },
           {
            "bin_start": 1.68388,
            "bin_end": 1.83252,
            "count": 59
           },
           {
            "bin_start": 1.83252,
            "bin_end": 1.9811599999999998,
            "count": 35
           },
           {
            "bin_start": 1.9811599999999998,
            "bin_end": 2.1298,
            "count": 14
           }
          ]
         }
        },
        {
         "name": "class_label",
         "dtype": "float64",
         "stats": {
          "unique_count": 2,
          "nan_count": 0,
          "min": "0.0",
          "max": "1.0",
          "histogram": [
           {
            "bin_start": 0,
            "bin_end": 0.1,
            "count": 346
           },
           {
            "bin_start": 0.1,
            "bin_end": 0.2,
            "count": 0
           },
           {
            "bin_start": 0.2,
            "bin_end": 0.30000000000000004,
            "count": 0
           },
           {
            "bin_start": 0.30000000000000004,
            "bin_end": 0.4,
            "count": 0
           },
           {
            "bin_start": 0.4,
            "bin_end": 0.5,
            "count": 0
           },
           {
            "bin_start": 0.5,
            "bin_end": 0.6000000000000001,
            "count": 0
           },
           {
            "bin_start": 0.6000000000000001,
            "bin_end": 0.7000000000000001,
            "count": 0
           },
           {
            "bin_start": 0.7000000000000001,
            "bin_end": 0.8,
            "count": 0
           },
           {
            "bin_start": 0.8,
            "bin_end": 0.9,
            "count": 0
           },
           {
            "bin_start": 0.9,
            "bin_end": 1,
            "count": 355
           }
          ]
         }
        },
        {
         "name": "_deepnote_index_column",
         "dtype": "int64"
        }
       ],
       "rows_top": [
        {
         "DYRK1A": 0.4254,
         "ITSN1": 0.5871,
         "BDNF": 0.242,
         "NR1": 1.7409,
         "NR2A": 2.489,
         "pAKT": 0.1731,
         "pBRAF": 0.159,
         "pCAMKII": 1.7871,
         "pCREB": 0.1676,
         "pELK": 1.1867,
         "pERK": 0.4652,
         "pJNK": 0.218,
         "PKCA": 0.2626,
         "pMEK": 0.1926,
         "pNR1": 0.6425,
         "pNR2A": 0.4162,
         "pNR2B": 1.0925,
         "pPKCAB": 1.6131,
         "pRSK": 0.3945,
         "AKT": 0.5569,
         "BRAF": 0.3099,
         "CAMKII": 0.3067,
         "CREB": 0.1528,
         "ELK": 0.9571,
         "ERK": 1.576,
         "GSK3B": 1.0213,
         "JNK": 0.2035,
         "MEK": 0.1992,
         "TRKA": 0.5085,
         "RSK": 0.1354,
         "APP": 0.376,
         "Bcatenin": 1.4529,
         "SOD1": 0.2693,
         "MTOR": 0.3282,
         "P38": 0.3179,
         "pMTOR": 0.2991,
         "DSCR1": 0.2478,
         "AMPKA": 0.3231,
         "NR2B": 0.2669,
         "pNUMB": 0.2999,
         "RAPTOR": 0.2685,
         "TIAM1": 0.3789,
         "pP70S6": 0.4431,
         "NUMB": 0.1623,
         "P70S6": 0.6867,
         "pGSK3B": 0.1415,
         "pPKCG": 2.1119,
         "CDK5": 0.229,
         "S6": 0.4368,
         "ADARB1": 0.5583,
         "AcetylH3K9": 0.37,
         "RRP1": 0.1871,
         "BAX": 0.1562,
         "ARC": 0.0952,
         "ERBB4": 0.143,
         "nNOS": 0.1589,
         "Tau": 0.1935,
         "GFAP": 0.1266,
         "GluR3": 0.195,
         "GluR4": 0.093,
         "IL1B": 0.4815,
         "P3525": 0.3022,
         "pCASP9": 1.1638,
         "PSD95": 1.696,
         "SNCA": 0.1715,
         "Ubiquitin": 1.0697,
         "pGSK3B_Tyr216": 0.7593,
         "SHH": 0.2197,
         "pS6": 0.0952,
         "SYP": 0.306,
         "CaNA": 1.0708,
         "class_label": 1,
         "_deepnote_index_column": 0
        },
        {
         "DYRK1A": 0.2697,
         "ITSN1": 0.4081,
         "BDNF": 0.3172,
         "NR1": 2.1387,
         "NR2A": 3.045,
         "pAKT": 0.3144,
         "pBRAF": 0.225,
         "pCAMKII": 5.3216,
         "pCREB": 0.2259,
         "pELK": 1.3475,
         "pERK": 0.4572,
         "pJNK": 0.3912,
         "PKCA": 0.3069,
         "pMEK": 0.3488,
         "pNR1": 0.815,
         "pNR2A": 1.0462,
         "pNR2B": 1.5772,
         "pPKCAB": 1.105,
         "pRSK": 0.5272,
         "AKT": 0.6963,
         "BRAF": 0.2991,
         "CAMKII": 0.4072,
         "CREB": 0.2009,
         "ELK": 0.9534,
         "ERK": 1.7112,
         "GSK3B": 0.8909,
         "JNK": 0.2559,
         "MEK": 0.2916,
         "TRKA": 0.6394,
         "RSK": 0.2159,
         "APP": 0.3862,
         "Bcatenin": 1.825,
         "SOD1": 0.7419,
         "MTOR": 0.5513,
         "P38": 0.6556,
         "pMTOR": 0.96,
         "DSCR1": 0.7131,
         "AMPKA": 0.3644,
         "NR2B": 0.6759,
         "pNUMB": 0.3706,
         "RAPTOR": 0.435,
         "TIAM1": 0.4978,
         "pP70S6": 0.5238,
         "NUMB": 0.1458,
         "P70S6": 0.8706,
         "pGSK3B": 0.1568,
         "pPKCG": 1.7811,
         "CDK5": 0.3211,
         "S6": 0.3054,
         "ADARB1": 0.7524,
         "AcetylH3K9": 0.1455,
         "RRP1": 0.1848,
         "BAX": 0.1534,
         "ARC": 0.1218,
         "ERBB4": 0.1749,
         "nNOS": 0.1711,
         "Tau": 0.1774,
         "GFAP": 0.139,
         "GluR3": 0.331,
         "GluR4": 0.1774,
         "IL1B": 0.7006,
         "P3525": 0.327,
         "pCASP9": 1.9258,
         "PSD95": 2.5977,
         "SNCA": 0.2189,
         "Ubiquitin": 1.4788,
         "pGSK3B_Tyr216": 0.8603,
         "SHH": 0.2476,
         "pS6": 0.1218,
         "SYP": 0.4842,
         "CaNA": 1.0493,
         "class_label": 0,
         "_deepnote_index_column": 1
        },
        {
         "DYRK1A": 0.4379,
         "ITSN1": 0.7053,
         "BDNF": 0.418,
         "NR1": 2.7968,
         "NR2A": 5.4608,
         "pAKT": 0.2799,
         "pBRAF": 0.1908,
         "pCAMKII": 6.4558,
         "pCREB": 0.2835,
         "pELK": 1.4171,
         "pERK": 0.4478,
         "pJNK": 0.3746,
         "PKCA": 0.4355,
         "pMEK": 0.3461,
         "pNR1": 0.9597,
         "pNR2A": 0.8656,
         "pNR2B": 1.9322,
         "pPKCAB": 2.1006,
         "pRSK": 0.5176,
         "AKT": 0.8421,
         "BRAF": 0.3381,
         "CAMKII": 0.4012,
         "CREB": 0.2166,
         "ELK": 1.6762,
         "ERK": 3.6404,
         "GSK3B": 1.3384,
         "JNK": 0.2686,
         "MEK": 0.3336,
         "TRKA": 0.9071,
         "RSK": 0.1748,
         "APP": 0.547,
         "Bcatenin": 3.1013,
         "SOD1": 0.5948,
         "MTOR": 0.5469,
         "P38": 0.4663,
         "pMTOR": 0.9396,
         "DSCR1": 0.6544,
         "AMPKA": 0.4784,
         "NR2B": 0.6818,
         "pNUMB": 0.4376,
         "RAPTOR": 0.3742,
         "TIAM1": 0.5533,
         "pP70S6": 0.6716,
         "NUMB": 0.1918,
         "P70S6": 1.0345,
         "pGSK3B": 0.1683,
         "pPKCG": 2.2639,
         "CDK5": 0.3174,
         "S6": 0.5122,
         "ADARB1": 1.7896,
         "AcetylH3K9": 0.25,
         "RRP1": 0.1531,
         "BAX": 0.1964,
         "ARC": 0.149,
         "ERBB4": 0.1823,
         "nNOS": 0.2199,
         "Tau": 0.2161,
         "GFAP": 0.119,
         "GluR3": 0.1973,
         "GluR4": 0.1352,
         "IL1B": 0.4785,
         "P3525": 0.3409,
         "pCASP9": 1.7261,
         "PSD95": 2.3924,
         "SNCA": 0.1674,
         "Ubiquitin": 1.5111,
         "pGSK3B_Tyr216": 0.901,
         "SHH": 0.2419,
         "pS6": 0.149,
         "SYP": 0.4751,
         "CaNA": 1.1946,
         "class_label": 1,
         "_deepnote_index_column": 2
        },
        {
         "DYRK1A": 0.3113,
         "ITSN1": 0.5176,
         "BDNF": 0.3301,
         "NR1": 2.2512,
         "NR2A": 3.0812,
         "pAKT": 0.2979,
         "pBRAF": 0.2381,
         "pCAMKII": 2.5866,
         "pCREB": 0.2461,
         "pELK": 1.4128,
         "pERK": 0.4682,
         "pJNK": 0.3438,
         "PKCA": 0.2881,
         "pMEK": 0.3327,
         "pNR1": 0.7997,
         "pNR2A": 0.6786,
         "pNR2B": 1.5098,
         "pPKCAB": 1.1173,
         "pRSK": 0.4435,
         "AKT": 0.8057,
         "BRAF": 0.4244,
         "CAMKII": 0.4583,
         "CREB": 0.2301,
         "ELK": 1.089,
         "ERK": 2.0717,
         "GSK3B": 1.0714,
         "JNK": 0.2827,
         "MEK": 0.3083,
         "TRKA": 0.7161,
         "RSK": 0.2271,
         "APP": 0.333,
         "Bcatenin": 1.9193,
         "SOD1": 0.9747,
         "MTOR": 0.4622,
         "P38": 0.4262,
         "pMTOR": 0.7628,
         "DSCR1": 0.661,
         "AMPKA": 0.3417,
         "NR2B": 0.6363,
         "pNUMB": 0.297,
         "RAPTOR": 0.3131,
         "TIAM1": 0.3527,
         "pP70S6": 0.3583,
         "NUMB": 0.1435,
         "P70S6": 0.9002,
         "pGSK3B": 0.1598,
         "pPKCG": 1.329,
         "CDK5": 0.2853,
         "S6": 0.2832,
         "ADARB1": 1.2145,
         "AcetylH3K9": 0.0723,
         "RRP1": 0.1642,
         "BAX": 0.1513,
         "ARC": 0.1375,
         "ERBB4": 0.1704,
         "nNOS": 0.1901,
         "Tau": 0.1963,
         "GFAP": 0.1321,
         "GluR3": 0.1925,
         "GluR4": 0.0903,
         "IL1B": 0.7106,
         "P3525": 0.3213,
         "pCASP9": 1.7638,
         "PSD95": 2.4122,
         "SNCA": 0.1973,
         "Ubiquitin": 1.3,
         "pGSK3B_Tyr216": 1.0035,
         "SHH": 0.3391,
         "pS6": 0.1375,
         "SYP": 0.4749,
         "CaNA": 1.3008,
         "class_label": 0,
         "_deepnote_index_column": 3
        },
        {
         "DYRK1A": 0.2997,
         "ITSN1": 0.424,
         "BDNF": 0.3096,
         "NR1": 2.2227,
         "NR2A": 3.2197,
         "pAKT": 0.2581,
         "pBRAF": 0.1909,
         "pCAMKII": 3.2381,
         "pCREB": 0.1835,
         "pELK": 1.2805,
         "pERK": 0.3083,
         "pJNK": 0.3021,
         "PKCA": 0.3088,
         "pMEK": 0.2805,
         "pNR1": 0.8443,
         "pNR2A": 0.7317,
         "pNR2B": 1.5189,
         "pPKCAB": 1.1928,
         "pRSK": 0.4152,
         "AKT": 0.832,
         "BRAF": 0.2824,
         "CAMKII": 0.3928,
         "CREB": 0.2059,
         "ELK": 1.0347,
         "ERK": 1.8171,
         "GSK3B": 0.9019,
         "JNK": 0.2296,
         "MEK": 0.2461,
         "TRKA": 0.5829,
         "RSK": 0.1795,
         "APP": 0.3779,
         "Bcatenin": 1.7741,
         "SOD1": 0.7893,
         "MTOR": 0.5685,
         "P38": 0.6141,
         "pMTOR": 0.8941,
         "DSCR1": 0.6624,
         "AMPKA": 0.4203,
         "NR2B": 0.6576,
         "pNUMB": 0.3173,
         "RAPTOR": 0.3981,
         "TIAM1": 0.4341,
         "pP70S6": 0.4995,
         "NUMB": 0.1435,
         "P70S6": 0.7116,
         "pGSK3B": 0.1364,
         "pPKCG": 1.3169,
         "CDK5": 0.2194,
         "S6": 0.2222,
         "ADARB1": 1.1245,
         "AcetylH3K9": 0.1294,
         "RRP1": 0.1351,
         "BAX": 0.1493,
         "ARC": 0.1304,
         "ERBB4": 0.1612,
         "nNOS": 0.1971,
         "Tau": 0.1745,
         "GFAP": 0.1188,
         "GluR3": 0.2046,
         "GluR4": 0.1082,
         "IL1B": 0.6007,
         "P3525": 0.3043,
         "pCASP9": 1.4972,
         "PSD95": 2.0995,
         "SNCA": 0.1987,
         "Ubiquitin": 1.2607,
         "pGSK3B_Tyr216": 0.7635,
         "SHH": 0.2587,
         "pS6": 0.1304,
         "SYP": 0.3656,
         "CaNA": 0.9937,
         "class_label": 0,
         "_deepnote_index_column": 4
        },
        {
         "DYRK1A": 0.2108,
         "ITSN1": 0.3385,
         "BDNF": 0.2509,
         "NR1": 1.8983,
         "NR2A": 3.0188,
         "pAKT": 0.1949,
         "pBRAF": 0.1549,
         "pCAMKII": 3.0801,
         "pCREB": 0.1878,
         "pELK": 0.8953,
         "pERK": 0.2566,
         "pJNK": 0.247,
         "PKCA": 0.2844,
         "pMEK": 0.2302,
         "pNR1": 0.7735,
         "pNR2A": 0.657,
         "pNR2B": 1.3236,
         "pPKCAB": 0.7802,
         "pRSK": 0.422,
         "AKT": 0.6914,
         "BRAF": 0.1918,
         "CAMKII": 0.304,
         "CREB": 0.1701,
         "ELK": 1.1192,
         "ERK": 1.7465,
         "GSK3B": 0.7157,
         "JNK": 0.1952,
         "MEK": 0.2095,
         "TRKA": 0.5179,
         "RSK": 0.1407,
         "APP": 0.3011,
         "Bcatenin": 1.7996,
         "SOD1": 0.6288,
         "MTOR": 0.4086,
         "P38": 0.4353,
         "pMTOR": 0.6833,
         "DSCR1": 0.486,
         "AMPKA": 0.2974,
         "NR2B": 0.5325,
         "pNUMB": 0.2615,
         "RAPTOR": 0.2989,
         "TIAM1": 0.3275,
         "pP70S6": 0.3186,
         "NUMB": 0.1557,
         "P70S6": 0.8513,
         "pGSK3B": 0.1479,
         "pPKCG": 1.23,
         "CDK5": 0.2516,
         "S6": 0.4823,
         "ADARB1": 0.9283,
         "AcetylH3K9": 1.0866,
         "RRP1": 0.1804,
         "BAX": 0.1567,
         "ARC": 0.1291,
         "ERBB4": 0.1721,
         "nNOS": 0.163,
         "Tau": 0.4733,
         "GFAP": 0.1271,
         "GluR3": 0.244,
         "GluR4": 0.1273,
         "IL1B": 0.6656,
         "P3525": 0.2654,
         "pCASP9": 1.5376,
         "PSD95": 2.279,
         "SNCA": 0.1716,
         "Ubiquitin": 1.107,
         "pGSK3B_Tyr216": 0.6975,
         "SHH": 0.2017,
         "pS6": 0.1291,
         "SYP": 0.4061,
         "CaNA": 1.0348,
         "class_label": 0,
         "_deepnote_index_column": 5
        }
       ],
       "rows_bottom": [
        {
         "DYRK1A": 0.7045,
         "ITSN1": 0.9621,
         "BDNF": 0.3439,
         "NR1": 2.6187,
         "NR2A": 4.74,
         "pAKT": 0.1701,
         "pBRAF": 0.1456,
         "pCAMKII": 1.81,
         "pCREB": 0.2005,
         "pELK": 1.8839,
         "pERK": 1.0143,
         "pJNK": 0.2688,
         "PKCA": 0.2824,
         "pMEK": 0.198,
         "pNR1": 0.9958,
         "pNR2A": 0.8048,
         "pNR2B": 1.9322,
         "pPKCAB": 1.5222,
         "pRSK": 0.309,
         "AKT": 0.7869,
         "BRAF": 0.5056,
         "CAMKII": 0.3274,
         "CREB": 0.1389,
         "ELK": 1.8286,
         "ERK": 3.6399,
         "GSK3B": 1.4336,
         "JNK": 0.2084,
         "MEK": 0.2504,
         "TRKA": 0.7538,
         "RSK": 0.1188,
         "APP": 0.4856,
         "Bcatenin": 2.3209,
         "SOD1": 0.3079,
         "MTOR": 0.4379,
         "P38": 0.2964,
         "pMTOR": 0.7438,
         "DSCR1": 0.6022,
         "AMPKA": 0.388,
         "NR2B": 0.5483,
         "pNUMB": 0.4188,
         "RAPTOR": 0.2629,
         "TIAM1": 0.4461,
         "pP70S6": 0.1525,
         "NUMB": 0.2539,
         "P70S6": 1.3981,
         "pGSK3B": 0.1716,
         "pPKCG": 0.8191,
         "CDK5": 0.3045,
         "S6": 0.6246,
         "ADARB1": 2.3835,
         "AcetylH3K9": 0.0914,
         "RRP1": 0.1623,
         "BAX": 0.1902,
         "ARC": 0.1257,
         "ERBB4": 0.1509,
         "nNOS": 0.1701,
         "Tau": 0.248,
         "GFAP": 0.1285,
         "GluR3": 0.2449,
         "GluR4": 0.1555,
         "IL1B": 0.5425,
         "P3525": 0.2908,
         "pCASP9": 1.8501,
         "PSD95": 2.267,
         "SNCA": 0.1552,
         "Ubiquitin": 1.1153,
         "pGSK3B_Tyr216": 0.8559,
         "SHH": 0.2003,
         "pS6": 0.1257,
         "SYP": 0.3859,
         "CaNA": 1.5265,
         "class_label": 1,
         "_deepnote_index_column": 694
        },
        {
         "DYRK1A": 0.3676,
         "ITSN1": 0.5045,
         "BDNF": 0.2613,
         "NR1": 1.8928,
         "NR2A": 3.0618,
         "pAKT": 0.2163,
         "pBRAF": 0.1655,
         "pCAMKII": 2.4799,
         "pCREB": 0.1352,
         "pELK": 1.035,
         "pERK": 0.5451,
         "pJNK": 0.2792,
         "PKCA": 0.282,
         "pMEK": 0.2355,
         "pNR1": 0.7188,
         "pNR2A": 0.5923,
         "pNR2B": 1.2395,
         "pPKCAB": 1.6417,
         "pRSK": 0.4612,
         "AKT": 0.5573,
         "BRAF": 0.3467,
         "CAMKII": 0.2782,
         "CREB": 0.1438,
         "ELK": 0.6761,
         "ERK": 1.6875,
         "GSK3B": 1.0234,
         "JNK": 0.2351,
         "MEK": 0.218,
         "TRKA": 0.5645,
         "RSK": 0.1549,
         "APP": 0.3536,
         "Bcatenin": 1.5439,
         "SOD1": 0.2674,
         "MTOR": 0.4654,
         "P38": 0.475,
         "pMTOR": 0.6968,
         "DSCR1": 0.3688,
         "AMPKA": 0.354,
         "NR2B": 0.5246,
         "pNUMB": 0.3493,
         "RAPTOR": 0.293,
         "TIAM1": 0.4111,
         "pP70S6": 0.4738,
         "NUMB": 0.1531,
         "P70S6": 0.3441,
         "pGSK3B": 0.1,
         "pPKCG": 1.8759,
         "CDK5": 0.2445,
         "S6": 0.2263,
         "ADARB1": 0.715,
         "AcetylH3K9": 0.0606,
         "RRP1": 0.1392,
         "BAX": 0.0723,
         "ARC": 0.0673,
         "ERBB4": 0.1002,
         "nNOS": 0.0997,
         "Tau": 0.0962,
         "GFAP": 0.0897,
         "GluR3": 0.1387,
         "GluR4": 0.0733,
         "IL1B": 0.3529,
         "P3525": 0.2074,
         "pCASP9": 0.8532,
         "PSD95": 1.3319,
         "SNCA": 0.1093,
         "Ubiquitin": 0.7507,
         "pGSK3B_Tyr216": 0.5774,
         "SHH": 0.1626,
         "pS6": 0.0673,
         "SYP": 0.2734,
         "CaNA": 0.8203,
         "class_label": 0,
         "_deepnote_index_column": 695
        },
        {
         "DYRK1A": 0.3897,
         "ITSN1": 0.6478,
         "BDNF": 0.3979,
         "NR1": 2.7554,
         "NR2A": 4.8809,
         "pAKT": 0.125,
         "pBRAF": 0.1236,
         "pCAMKII": 2.8995,
         "pCREB": 0.2106,
         "pELK": 1.127,
         "pERK": 0.7462,
         "pJNK": 0.1922,
         "PKCA": 0.3779,
         "pMEK": 0.193,
         "pNR1": 0.9537,
         "pNR2A": 1.0506,
         "pNR2B": 1.8821,
         "pPKCAB": 2.1893,
         "pRSK": 0.271,
         "AKT": 0.4145,
         "BRAF": 0.2901,
         "CAMKII": 0.3543,
         "CREB": 0.162,
         "ELK": 0.9738,
         "ERK": 3.7075,
         "GSK3B": 1.3687,
         "JNK": 0.1746,
         "MEK": 0.205,
         "TRKA": 0.8215,
         "RSK": 0.1506,
         "APP": 0.4249,
         "Bcatenin": 2.5986,
         "SOD1": 0.3398,
         "MTOR": 0.5075,
         "P38": 0.3589,
         "pMTOR": 0.7356,
         "DSCR1": 0.5215,
         "AMPKA": 0.4132,
         "NR2B": 0.554,
         "pNUMB": 0.3556,
         "RAPTOR": 0.2849,
         "TIAM1": 0.4081,
         "pP70S6": 0.2391,
         "NUMB": 0.2234,
         "P70S6": 1.048,
         "pGSK3B": 0.1716,
         "pPKCG": 1.4127,
         "CDK5": 0.2906,
         "S6": 0.4003,
         "ADARB1": 2.1461,
         "AcetylH3K9": 0.1498,
         "RRP1": 0.1565,
         "BAX": 0.1988,
         "ARC": 0.1203,
         "ERBB4": 0.154,
         "nNOS": 0.172,
         "Tau": 0.1615,
         "GFAP": 0.1189,
         "GluR3": 0.2803,
         "GluR4": 0.1468,
         "IL1B": 0.5306,
         "P3525": 0.3319,
         "pCASP9": 1.7389,
         "PSD95": 2.146,
         "SNCA": 0.1667,
         "Ubiquitin": 1.0189,
         "pGSK3B_Tyr216": 0.8212,
         "SHH": 0.2147,
         "pS6": 0.1203,
         "SYP": 0.5265,
         "CaNA": 1.746,
         "class_label": 0,
         "_deepnote_index_column": 696
        },
        {
         "DYRK1A": 0.2977,
         "ITSN1": 0.5183,
         "BDNF": 0.3338,
         "NR1": 2.9898,
         "NR2A": 5.3477,
         "pAKT": 0.2255,
         "pBRAF": 0.1745,
         "pCAMKII": 3.4224,
         "pCREB": 0.2219,
         "pELK": 1.198,
         "pERK": 0.3279,
         "pJNK": 0.334,
         "PKCA": 0.2984,
         "pMEK": 0.273,
         "pNR1": 1.0586,
         "pNR2A": 1.0221,
         "pNR2B": 2.1001,
         "pPKCAB": 1.2571,
         "pRSK": 0.4238,
         "AKT": 0.81,
         "BRAF": 0.2394,
         "CAMKII": 0.3478,
         "CREB": 0.1535,
         "ELK": 1.5041,
         "ERK": 3.0336,
         "GSK3B": 1.175,
         "JNK": 0.2423,
         "MEK": 0.2828,
         "TRKA": 0.8003,
         "RSK": 0.1559,
         "APP": 0.3738,
         "Bcatenin": 3.0296,
         "SOD1": 1.2863,
         "MTOR": 0.4862,
         "P38": 0.4293,
         "pMTOR": 0.9073,
         "DSCR1": 0.563,
         "AMPKA": 0.3698,
         "NR2B": 0.5862,
         "pNUMB": 0.2992,
         "RAPTOR": 0.2968,
         "TIAM1": 0.4191,
         "pP70S6": 0.3389,
         "NUMB": 0.206,
         "P70S6": 1.1023,
         "pGSK3B": 0.144,
         "pPKCG": 1.2203,
         "CDK5": 0.2848,
         "S6": 0.3358,
         "ADARB1": 1.5097,
         "AcetylH3K9": 0.1294,
         "RRP1": 0.1546,
         "BAX": 0.1929,
         "ARC": 0.1308,
         "ERBB4": 0.1647,
         "nNOS": 0.2124,
         "Tau": 0.1697,
         "GFAP": 0.1123,
         "GluR3": 0.2769,
         "GluR4": 0.1639,
         "IL1B": 0.5736,
         "P3525": 0.2915,
         "pCASP9": 1.8033,
         "PSD95": 2.6451,
         "SNCA": 0.1601,
         "Ubiquitin": 1.2739,
         "pGSK3B_Tyr216": 0.871,
         "SHH": 0.2649,
         "pS6": 0.1308,
         "SYP": 0.5113,
         "CaNA": 1.1011,
         "class_label": 0,
         "_deepnote_index_column": 697
        },
        {
         "DYRK1A": 0.7624,
         "ITSN1": 1.0255,
         "BDNF": 0.3945,
         "NR1": 2.9536,
         "NR2A": 4.8204,
         "pAKT": 0.2451,
         "pBRAF": 0.1863,
         "pCAMKII": 3.8375,
         "pCREB": 0.2436,
         "pELK": 2.0044,
         "pERK": 1.0651,
         "pJNK": 0.3468,
         "PKCA": 0.4404,
         "pMEK": 0.3081,
         "pNR1": 0.9912,
         "pNR2A": 0.8123,
         "pNR2B": 1.8407,
         "pPKCAB": 2.2891,
         "pRSK": 0.5362,
         "AKT": 0.7769,
         "BRAF": 0.6327,
         "CAMKII": 0.3588,
         "CREB": 0.1796,
         "ELK": 1.6977,
         "ERK": 3.386,
         "GSK3B": 1.5884,
         "JNK": 0.274,
         "MEK": 0.3094,
         "TRKA": 0.9355,
         "RSK": 0.1728,
         "APP": 0.4475,
         "Bcatenin": 2.5074,
         "SOD1": 0.3308,
         "MTOR": 0.4713,
         "P38": 0.4109,
         "pMTOR": 0.803,
         "DSCR1": 0.5096,
         "AMPKA": 0.421,
         "NR2B": 0.6183,
         "pNUMB": 0.407,
         "RAPTOR": 0.2881,
         "TIAM1": 0.4281,
         "pP70S6": 0.3338,
         "NUMB": 0.2323,
         "P70S6": 1.3266,
         "pGSK3B": 0.1786,
         "pPKCG": 2.3394,
         "CDK5": 0.3214,
         "S6": 0.787,
         "ADARB1": 1.8051,
         "AcetylH3K9": 0.2735,
         "RRP1": 0.1576,
         "BAX": 0.1814,
         "ARC": 0.1326,
         "ERBB4": 0.1731,
         "nNOS": 0.2373,
         "Tau": 0.2776,
         "GFAP": 0.116,
         "GluR3": 0.2518,
         "GluR4": 0.1365,
         "IL1B": 0.5435,
         "P3525": 0.3403,
         "pCASP9": 2.0448,
         "PSD95": 2.4599,
         "SNCA": 0.1516,
         "Ubiquitin": 1.2798,
         "pGSK3B_Tyr216": 1.0501,
         "SHH": 0.2398,
         "pS6": 0.1326,
         "SYP": 0.5085,
         "CaNA": 1.6338,
         "class_label": 0,
         "_deepnote_index_column": 698
        },
        {
         "DYRK1A": 0.2287,
         "ITSN1": 0.3952,
         "BDNF": 0.2341,
         "NR1": 1.7332,
         "NR2A": 2.2209,
         "pAKT": 0.2207,
         "pBRAF": 0.1614,
         "pCAMKII": 1.9897,
         "pCREB": 0.1852,
         "pELK": 0.8843,
         "pERK": 0.255,
         "pJNK": 0.2457,
         "PKCA": 0.2214,
         "pMEK": 0.2558,
         "pNR1": 0.636,
         "pNR2A": 0.4426,
         "pNR2B": 1.0157,
         "pPKCAB": 1.065,
         "pRSK": 0.4083,
         "AKT": 0.5402,
         "BRAF": 0.238,
         "CAMKII": 0.327,
         "CREB": 0.2126,
         "ELK": 0.7629,
         "ERK": 1.4253,
         "GSK3B": 0.8182,
         "JNK": 0.2167,
         "MEK": 0.2354,
         "TRKA": 0.559,
         "RSK": 0.1682,
         "APP": 0.31,
         "Bcatenin": 1.4942,
         "SOD1": 0.6618,
         "MTOR": 0.3374,
         "P38": 0.31,
         "pMTOR": 0.5107,
         "DSCR1": 0.4634,
         "AMPKA": 0.2347,
         "NR2B": 0.4,
         "pNUMB": 0.2352,
         "RAPTOR": 0.2319,
         "TIAM1": 0.2928,
         "pP70S6": 0.4602,
         "NUMB": 0.1967,
         "P70S6": 0.8049,
         "pGSK3B": 0.1708,
         "pPKCG": 2.6283,
         "CDK5": 0.3133,
         "S6": 0.6698,
         "ADARB1": 0.7641,
         "AcetylH3K9": 0.5369,
         "RRP1": 0.2013,
         "BAX": 0.1692,
         "ARC": 0.1189,
         "ERBB4": 0.1743,
         "nNOS": 0.1851,
         "Tau": 0.3956,
         "GFAP": 0.1371,
         "GluR3": 0.2011,
         "GluR4": 0.1269,
         "IL1B": 0.6312,
         "P3525": 0.3581,
         "pCASP9": 1.4375,
         "PSD95": 2.5445,
         "SNCA": 0.1797,
         "Ubiquitin": 1.2422,
         "pGSK3B_Tyr216": 0.9766,
         "SHH": 0.2908,
         "pS6": 0.1189,
         "SYP": 0.4221,
         "CaNA": 1.4308,
         "class_label": 1,
         "_deepnote_index_column": 699
        },
        {
         "DYRK1A": 0.9414,
         "ITSN1": 1.1654,
         "BDNF": 0.3221,
         "NR1": 2.2509,
         "NR2A": 3.7203,
         "pAKT": 0.189,
         "pBRAF": 0.1591,
         "pCAMKII": 2.1938,
         "pCREB": 0.2151,
         "pELK": 2.0396,
         "pERK": 1.3289,
         "pJNK": 0.2797,
         "PKCA": 0.2693,
         "pMEK": 0.2135,
         "pNR1": 0.7943,
         "pNR2A": 0.6333,
         "pNR2B": 1.5707,
         "pPKCAB": 1.4815,
         "pRSK": 0.3558,
         "AKT": 0.6624,
         "BRAF": 0.8223,
         "CAMKII": 0.3554,
         "CREB": 0.1636,
         "ELK": 1.2847,
         "ERK": 3.0562,
         "GSK3B": 1.4267,
         "JNK": 0.2383,
         "MEK": 0.2458,
         "TRKA": 0.7158,
         "RSK": 0.1602,
         "APP": 0.4421,
         "Bcatenin": 2.1102,
         "SOD1": 0.3005,
         "MTOR": 0.3897,
         "P38": 0.2659,
         "pMTOR": 0.6667,
         "DSCR1": 0.5364,
         "AMPKA": 0.3448,
         "NR2B": 0.4896,
         "pNUMB": 0.3697,
         "RAPTOR": 0.2489,
         "TIAM1": 0.373,
         "pP70S6": 0.159,
         "NUMB": 0.225,
         "P70S6": 1.0548,
         "pGSK3B": 0.1661,
         "pPKCG": 0.9628,
         "CDK5": 0.3021,
         "S6": 0.6094,
         "ADARB1": 0.9001,
         "AcetylH3K9": 0.0899,
         "RRP1": 0.1441,
         "BAX": 0.1788,
         "ARC": 0.1131,
         "ERBB4": 0.1478,
         "nNOS": 0.2032,
         "Tau": 0.246,
         "GFAP": 0.1181,
         "GluR3": 0.2038,
         "GluR4": 0.1125,
         "IL1B": 0.4465,
         "P3525": 0.2403,
         "pCASP9": 1.2954,
         "PSD95": 2.3393,
         "SNCA": 0.1277,
         "Ubiquitin": 1.1732,
         "pGSK3B_Tyr216": 0.7808,
         "SHH": 0.2116,
         "pS6": 0.1131,
         "SYP": 0.3317,
         "CaNA": 1.6269,
         "class_label": 1,
         "_deepnote_index_column": 700
        }
       ]
      },
      "text/plain": "     DYRK1A   ITSN1    BDNF     NR1    NR2A    pAKT   pBRAF  pCAMKII   pCREB  \\\n0    0.4254  0.5871  0.2420  1.7409  2.4890  0.1731  0.1590   1.7871  0.1676   \n1    0.2697  0.4081  0.3172  2.1387  3.0450  0.3144  0.2250   5.3216  0.2259   \n2    0.4379  0.7053  0.4180  2.7968  5.4608  0.2799  0.1908   6.4558  0.2835   \n3    0.3113  0.5176  0.3301  2.2512  3.0812  0.2979  0.2381   2.5866  0.2461   \n4    0.2997  0.4240  0.3096  2.2227  3.2197  0.2581  0.1909   3.2381  0.1835   \n..      ...     ...     ...     ...     ...     ...     ...      ...     ...   \n696  0.3897  0.6478  0.3979  2.7554  4.8809  0.1250  0.1236   2.8995  0.2106   \n697  0.2977  0.5183  0.3338  2.9898  5.3477  0.2255  0.1745   3.4224  0.2219   \n698  0.7624  1.0255  0.3945  2.9536  4.8204  0.2451  0.1863   3.8375  0.2436   \n699  0.2287  0.3952  0.2341  1.7332  2.2209  0.2207  0.1614   1.9897  0.1852   \n700  0.9414  1.1654  0.3221  2.2509  3.7203  0.1890  0.1591   2.1938  0.2151   \n\n       pELK  ...  pCASP9   PSD95    SNCA  Ubiquitin  pGSK3B_Tyr216     SHH  \\\n0    1.1867  ...  1.1638  1.6960  0.1715     1.0697         0.7593  0.2197   \n1    1.3475  ...  1.9258  2.5977  0.2189     1.4788         0.8603  0.2476   \n2    1.4171  ...  1.7261  2.3924  0.1674     1.5111         0.9010  0.2419   \n3    1.4128  ...  1.7638  2.4122  0.1973     1.3000         1.0035  0.3391   \n4    1.2805  ...  1.4972  2.0995  0.1987     1.2607         0.7635  0.2587   \n..      ...  ...     ...     ...     ...        ...            ...     ...   \n696  1.1270  ...  1.7389  2.1460  0.1667     1.0189         0.8212  0.2147   \n697  1.1980  ...  1.8033  2.6451  0.1601     1.2739         0.8710  0.2649   \n698  2.0044  ...  2.0448  2.4599  0.1516     1.2798         1.0501  0.2398   \n699  0.8843  ...  1.4375  2.5445  0.1797     1.2422         0.9766  0.2908   \n700  2.0396  ...  1.2954  2.3393  0.1277     1.1732         0.7808  0.2116   \n\n        pS6     SYP    CaNA  class_label  \n0    0.0952  0.3060  1.0708          1.0  \n1    0.1218  0.4842  1.0493          0.0  \n2    0.1490  0.4751  1.1946          1.0  \n3    0.1375  0.4749  1.3008          0.0  \n4    0.1304  0.3656  0.9937          0.0  \n..      ...     ...     ...          ...  \n696  0.1203  0.5265  1.7460          0.0  \n697  0.1308  0.5113  1.1011          0.0  \n698  0.1326  0.5085  1.6338          0.0  \n699  0.1189  0.4221  1.4308          1.0  \n700  0.1131  0.3317  1.6269          1.0  \n\n[701 rows x 72 columns]",
      "text/html": "<div>\n<style scoped>\n    .dataframe tbody tr th:only-of-type {\n        vertical-align: middle;\n    }\n\n    .dataframe tbody tr th {\n        vertical-align: top;\n    }\n\n    .dataframe thead th {\n        text-align: right;\n    }\n</style>\n<table border=\"1\" class=\"dataframe\">\n  <thead>\n    <tr style=\"text-align: right;\">\n      <th></th>\n      <th>DYRK1A</th>\n      <th>ITSN1</th>\n      <th>BDNF</th>\n      <th>NR1</th>\n      <th>NR2A</th>\n      <th>pAKT</th>\n      <th>pBRAF</th>\n      <th>pCAMKII</th>\n      <th>pCREB</th>\n      <th>pELK</th>\n      <th>...</th>\n      <th>pCASP9</th>\n      <th>PSD95</th>\n      <th>SNCA</th>\n      <th>Ubiquitin</th>\n      <th>pGSK3B_Tyr216</th>\n      <th>SHH</th>\n      <th>pS6</th>\n      <th>SYP</th>\n      <th>CaNA</th>\n      <th>class_label</th>\n    </tr>\n  </thead>\n  <tbody>\n    <tr>\n      <th>0</th>\n      <td>0.4254</td>\n      <td>0.5871</td>\n      <td>0.2420</td>\n      <td>1.7409</td>\n      <td>2.4890</td>\n      <td>0.1731</td>\n      <td>0.1590</td>\n      <td>1.7871</td>\n      <td>0.1676</td>\n      <td>1.1867</td>\n      <td>...</td>\n      <td>1.1638</td>\n      <td>1.6960</td>\n      <td>0.1715</td>\n      <td>1.0697</td>\n      <td>0.7593</td>\n      <td>0.2197</td>\n      <td>0.0952</td>\n      <td>0.3060</td>\n      <td>1.0708</td>\n      <td>1.0</td>\n    </tr>\n    <tr>\n      <th>1</th>\n      <td>0.2697</td>\n      <td>0.4081</td>\n      <td>0.3172</td>\n      <td>2.1387</td>\n      <td>3.0450</td>\n      <td>0.3144</td>\n      <td>0.2250</td>\n      <td>5.3216</td>\n      <td>0.2259</td>\n      <td>1.3475</td>\n      <td>...</td>\n      <td>1.9258</td>\n      <td>2.5977</td>\n      <td>0.2189</td>\n      <td>1.4788</td>\n      <td>0.8603</td>\n      <td>0.2476</td>\n      <td>0.1218</td>\n      <td>0.4842</td>\n      <td>1.0493</td>\n      <td>0.0</td>\n    </tr>\n    <tr>\n      <th>2</th>\n      <td>0.4379</td>\n      <td>0.7053</td>\n      <td>0.4180</td>\n      <td>2.7968</td>\n      <td>5.4608</td>\n      <td>0.2799</td>\n      <td>0.1908</td>\n      <td>6.4558</td>\n      <td>0.2835</td>\n      <td>1.4171</td>\n      <td>...</td>\n      <td>1.7261</td>\n      <td>2.3924</td>\n      <td>0.1674</td>\n      <td>1.5111</td>\n      <td>0.9010</td>\n      <td>0.2419</td>\n      <td>0.1490</td>\n      <td>0.4751</td>\n      <td>1.1946</td>\n      <td>1.0</td>\n    </tr>\n    <tr>\n      <th>3</th>\n      <td>0.3113</td>\n      <td>0.5176</td>\n      <td>0.3301</td>\n      <td>2.2512</td>\n      <td>3.0812</td>\n      <td>0.2979</td>\n      <td>0.2381</td>\n      <td>2.5866</td>\n      <td>0.2461</td>\n      <td>1.4128</td>\n      <td>...</td>\n      <td>1.7638</td>\n      <td>2.4122</td>\n      <td>0.1973</td>\n      <td>1.3000</td>\n      <td>1.0035</td>\n      <td>0.3391</td>\n      <td>0.1375</td>\n      <td>0.4749</td>\n      <td>1.3008</td>\n      <td>0.0</td>\n    </tr>\n    <tr>\n      <th>4</th>\n      <td>0.2997</td>\n      <td>0.4240</td>\n      <td>0.3096</td>\n      <td>2.2227</td>\n      <td>3.2197</td>\n      <td>0.2581</td>\n      <td>0.1909</td>\n      <td>3.2381</td>\n      <td>0.1835</td>\n      <td>1.2805</td>\n      <td>...</td>\n      <td>1.4972</td>\n      <td>2.0995</td>\n      <td>0.1987</td>\n      <td>1.2607</td>\n      <td>0.7635</td>\n      <td>0.2587</td>\n      <td>0.1304</td>\n      <td>0.3656</td>\n      <td>0.9937</td>\n      <td>0.0</td>\n    </tr>\n    <tr>\n      <th>...</th>\n      <td>...</td>\n      <td>...</td>\n      <td>...</td>\n      <td>...</td>\n      <td>...</td>\n      <td>...</td>\n      <td>...</td>\n      <td>...</td>\n      <td>...</td>\n      <td>...</td>\n      <td>...</td>\n      <td>...</td>\n      <td>...</td>\n      <td>...</td>\n      <td>...</td>\n      <td>...</td>\n      <td>...</td>\n      <td>...</td>\n      <td>...</td>\n      <td>...</td>\n      <td>...</td>\n    </tr>\n    <tr>\n      <th>696</th>\n      <td>0.3897</td>\n      <td>0.6478</td>\n      <td>0.3979</td>\n      <td>2.7554</td>\n      <td>4.8809</td>\n      <td>0.1250</td>\n      <td>0.1236</td>\n      <td>2.8995</td>\n      <td>0.2106</td>\n      <td>1.1270</td>\n      <td>...</td>\n      <td>1.7389</td>\n      <td>2.1460</td>\n      <td>0.1667</td>\n      <td>1.0189</td>\n      <td>0.8212</td>\n      <td>0.2147</td>\n      <td>0.1203</td>\n      <td>0.5265</td>\n      <td>1.7460</td>\n      <td>0.0</td>\n    </tr>\n    <tr>\n      <th>697</th>\n      <td>0.2977</td>\n      <td>0.5183</td>\n      <td>0.3338</td>\n      <td>2.9898</td>\n      <td>5.3477</td>\n      <td>0.2255</td>\n      <td>0.1745</td>\n      <td>3.4224</td>\n      <td>0.2219</td>\n      <td>1.1980</td>\n      <td>...</td>\n      <td>1.8033</td>\n      <td>2.6451</td>\n      <td>0.1601</td>\n      <td>1.2739</td>\n      <td>0.8710</td>\n      <td>0.2649</td>\n      <td>0.1308</td>\n      <td>0.5113</td>\n      <td>1.1011</td>\n      <td>0.0</td>\n    </tr>\n    <tr>\n      <th>698</th>\n      <td>0.7624</td>\n      <td>1.0255</td>\n      <td>0.3945</td>\n      <td>2.9536</td>\n      <td>4.8204</td>\n      <td>0.2451</td>\n      <td>0.1863</td>\n      <td>3.8375</td>\n      <td>0.2436</td>\n      <td>2.0044</td>\n      <td>...</td>\n      <td>2.0448</td>\n      <td>2.4599</td>\n      <td>0.1516</td>\n      <td>1.2798</td>\n      <td>1.0501</td>\n      <td>0.2398</td>\n      <td>0.1326</td>\n      <td>0.5085</td>\n      <td>1.6338</td>\n      <td>0.0</td>\n    </tr>\n    <tr>\n      <th>699</th>\n      <td>0.2287</td>\n      <td>0.3952</td>\n      <td>0.2341</td>\n      <td>1.7332</td>\n      <td>2.2209</td>\n      <td>0.2207</td>\n      <td>0.1614</td>\n      <td>1.9897</td>\n      <td>0.1852</td>\n      <td>0.8843</td>\n      <td>...</td>\n      <td>1.4375</td>\n      <td>2.5445</td>\n      <td>0.1797</td>\n      <td>1.2422</td>\n      <td>0.9766</td>\n      <td>0.2908</td>\n      <td>0.1189</td>\n      <td>0.4221</td>\n      <td>1.4308</td>\n      <td>1.0</td>\n    </tr>\n    <tr>\n      <th>700</th>\n      <td>0.9414</td>\n      <td>1.1654</td>\n      <td>0.3221</td>\n      <td>2.2509</td>\n      <td>3.7203</td>\n      <td>0.1890</td>\n      <td>0.1591</td>\n      <td>2.1938</td>\n      <td>0.2151</td>\n      <td>2.0396</td>\n      <td>...</td>\n      <td>1.2954</td>\n      <td>2.3393</td>\n      <td>0.1277</td>\n      <td>1.1732</td>\n      <td>0.7808</td>\n      <td>0.2116</td>\n      <td>0.1131</td>\n      <td>0.3317</td>\n      <td>1.6269</td>\n      <td>1.0</td>\n    </tr>\n  </tbody>\n</table>\n<p>701 rows × 72 columns</p>\n</div>"
     },
     "metadata": {}
    }
   ]
  },
  {
   "cell_type": "code",
   "metadata": {
    "cell_id": "00002-fa232b48-4e13-4d77-9e69-a4aaac9a6a24",
    "deepnote_to_be_reexecuted": false,
    "source_hash": "32987c0c",
    "deepnote_output_heights": [
     377.390625
    ],
    "execution_start": 1637332355594,
    "execution_millis": 343,
    "deepnote_cell_type": "code"
   },
   "source": "test_data = pd.read_csv('gene_expression_test.csv')\ntest_data",
   "execution_count": null,
   "outputs": [
    {
     "output_type": "execute_result",
     "execution_count": 3,
     "data": {
      "application/vnd.deepnote.dataframe.v2+json": {
       "row_count": 346,
       "column_count": 72,
       "columns": [
        {
         "name": "DYRK1A",
         "dtype": "float64",
         "stats": {
          "unique_count": 333,
          "nan_count": 0,
          "min": "0.1453",
          "max": "2.5164",
          "histogram": [
           {
            "bin_start": 0.1453,
            "bin_end": 0.38241,
            "count": 194
           },
           {
            "bin_start": 0.38241,
            "bin_end": 0.61952,
            "count": 114
           },
           {
            "bin_start": 0.61952,
            "bin_end": 0.85663,
            "count": 24
           },
           {
            "bin_start": 0.85663,
            "bin_end": 1.09374,
            "count": 7
           },
           {
            "bin_start": 1.09374,
            "bin_end": 1.3308499999999999,
            "count": 0
           },
           {
            "bin_start": 1.3308499999999999,
            "bin_end": 1.56796,
            "count": 1
           },
           {
            "bin_start": 1.56796,
            "bin_end": 1.80507,
            "count": 1
           },
           {
            "bin_start": 1.80507,
            "bin_end": 2.04218,
            "count": 3
           },
           {
            "bin_start": 2.04218,
            "bin_end": 2.27929,
            "count": 0
           },
           {
            "bin_start": 2.27929,
            "bin_end": 2.5164,
            "count": 2
           }
          ]
         }
        },
        {
         "name": "ITSN1",
         "dtype": "float64",
         "stats": {
          "unique_count": 333,
          "nan_count": 0,
          "min": "0.2454",
          "max": "2.5801",
          "histogram": [
           {
            "bin_start": 0.2454,
            "bin_end": 0.47887,
            "count": 100
           },
           {
            "bin_start": 0.47887,
            "bin_end": 0.71234,
            "count": 175
           },
           {
            "bin_start": 0.71234,
            "bin_end": 0.94581,
            "count": 46
           },
           {
            "bin_start": 0.94581,
            "bin_end": 1.1792799999999999,
            "count": 16
           },
           {
            "bin_start": 1.1792799999999999,
            "bin_end": 1.41275,
            "count": 2
           },
           {
            "bin_start": 1.41275,
            "bin_end": 1.64622,
            "count": 2
           },
           {
            "bin_start": 1.64622,
            "bin_end": 1.8796899999999999,
            "count": 1
           },
           {
            "bin_start": 1.8796899999999999,
            "bin_end": 2.1131599999999997,
            "count": 1
           },
           {
            "bin_start": 2.1131599999999997,
            "bin_end": 2.3466299999999998,
            "count": 0
           },
           {
            "bin_start": 2.3466299999999998,
            "bin_end": 2.5801,
            "count": 3
           }
          ]
         }
        },
        {
         "name": "BDNF",
         "dtype": "float64",
         "stats": {
          "unique_count": 315,
          "nan_count": 0,
          "min": "0.186",
          "max": "0.465",
          "histogram": [
           {
            "bin_start": 0.186,
            "bin_end": 0.2139,
            "count": 4
           },
           {
            "bin_start": 0.2139,
            "bin_end": 0.24180000000000001,
            "count": 16
           },
           {
            "bin_start": 0.24180000000000001,
            "bin_end": 0.2697,
            "count": 44
           },
           {
            "bin_start": 0.2697,
            "bin_end": 0.2976,
            "count": 59
           },
           {
            "bin_start": 0.2976,
            "bin_end": 0.3255,
            "count": 94
           },
           {
            "bin_start": 0.3255,
            "bin_end": 0.3534,
            "count": 54
           },
           {
            "bin_start": 0.3534,
            "bin_end": 0.3813,
            "count": 31
           },
           {
            "bin_start": 0.3813,
            "bin_end": 0.4092,
            "count": 27
           },
           {
            "bin_start": 0.4092,
            "bin_end": 0.4371,
            "count": 9
           },
           {
            "bin_start": 0.4371,
            "bin_end": 0.465,
            "count": 8
           }
          ]
         }
        },
        {
         "name": "NR1",
         "dtype": "float64",
         "stats": {
          "unique_count": 342,
          "nan_count": 0,
          "min": "1.4033",
          "max": "3.0834",
          "histogram": [
           {
            "bin_start": 1.4033,
            "bin_end": 1.57131,
            "count": 11
           },
           {
            "bin_start": 1.57131,
            "bin_end": 1.73932,
            "count": 14
           },
           {
            "bin_start": 1.73932,
            "bin_end": 1.90733,
            "count": 29
           },
           {
            "bin_start": 1.90733,
            "bin_end": 2.07534,
            "count": 52
           },
           {
            "bin_start": 2.07534,
            "bin_end": 2.24335,
            "count": 54
           },
           {
            "bin_start": 2.24335,
            "bin_end": 2.41136,
            "count": 54
           },
           {
            "bin_start": 2.41136,
            "bin_end": 2.57937,
            "count": 61
           },
           {
            "bin_start": 2.57937,
            "bin_end": 2.74738,
            "count": 41
           },
           {
            "bin_start": 2.74738,
            "bin_end": 2.9153900000000004,
            "count": 15
           },
           {
            "bin_start": 2.9153900000000004,
            "bin_end": 3.0834,
            "count": 15
           }
          ]
         }
        },
        {
         "name": "NR2A",
         "dtype": "float64",
         "stats": {
          "unique_count": 344,
          "nan_count": 0,
          "min": "2.0141",
          "max": "7.1208",
          "histogram": [
           {
            "bin_start": 2.0141,
            "bin_end": 2.52477,
            "count": 23
           },
           {
            "bin_start": 2.52477,
            "bin_end": 3.03544,
            "count": 49
           },
           {
            "bin_start": 3.03544,
            "bin_end": 3.5461099999999997,
            "count": 65
           },
           {
            "bin_start": 3.5461099999999997,
            "bin_end": 4.05678,
            "count": 73
           },
           {
            "bin_start": 4.05678,
            "bin_end": 4.56745,
            "count": 65
           },
           {
            "bin_start": 4.56745,
            "bin_end": 5.07812,
            "count": 38
           },
           {
            "bin_start": 5.07812,
            "bin_end": 5.5887899999999995,
            "count": 19
           },
           {
            "bin_start": 5.5887899999999995,
            "bin_end": 6.09946,
            "count": 12
           },
           {
            "bin_start": 6.09946,
            "bin_end": 6.61013,
            "count": 1
           },
           {
            "bin_start": 6.61013,
            "bin_end": 7.1208,
            "count": 1
           }
          ]
         }
        },
        {
         "name": "pAKT",
         "dtype": "float64",
         "stats": {
          "unique_count": 304,
          "nan_count": 0,
          "min": "0.121",
          "max": "0.3538",
          "histogram": [
           {
            "bin_start": 0.121,
            "bin_end": 0.14428,
            "count": 4
           },
           {
            "bin_start": 0.14428,
            "bin_end": 0.16756,
            "count": 10
           },
           {
            "bin_start": 0.16756,
            "bin_end": 0.19084,
            "count": 33
           },
           {
            "bin_start": 0.19084,
            "bin_end": 0.21412,
            "count": 69
           },
           {
            "bin_start": 0.21412,
            "bin_end": 0.2374,
            "count": 87
           },
           {
            "bin_start": 0.2374,
            "bin_end": 0.26068,
            "count": 71
           },
           {
            "bin_start": 0.26068,
            "bin_end": 0.28396,
            "count": 37
           },
           {
            "bin_start": 0.28396,
            "bin_end": 0.30724,
            "count": 22
           },
           {
            "bin_start": 0.30724,
            "bin_end": 0.33052000000000004,
            "count": 10
           },
           {
            "bin_start": 0.33052000000000004,
            "bin_end": 0.3538,
            "count": 3
           }
          ]
         }
        },
        {
         "name": "pBRAF",
         "dtype": "float64",
         "stats": {
          "unique_count": 281,
          "nan_count": 0,
          "min": "0.1169",
          "max": "0.3171",
          "histogram": [
           {
            "bin_start": 0.1169,
            "bin_end": 0.13692000000000001,
            "count": 11
           },
           {
            "bin_start": 0.13692000000000001,
            "bin_end": 0.15694,
            "count": 47
           },
           {
            "bin_start": 0.15694,
            "bin_end": 0.17696,
            "count": 94
           },
           {
            "bin_start": 0.17696,
            "bin_end": 0.19698,
            "count": 113
           },
           {
            "bin_start": 0.19698,
            "bin_end": 0.217,
            "count": 47
           },
           {
            "bin_start": 0.217,
            "bin_end": 0.23702,
            "count": 25
           },
           {
            "bin_start": 0.23702,
            "bin_end": 0.25704,
            "count": 8
           },
           {
            "bin_start": 0.25704,
            "bin_end": 0.27706,
            "count": 0
           },
           {
            "bin_start": 0.27706,
            "bin_end": 0.29708,
            "count": 0
           },
           {
            "bin_start": 0.29708,
            "bin_end": 0.3171,
            "count": 1
           }
          ]
         }
        },
        {
         "name": "pCAMKII",
         "dtype": "float64",
         "stats": {
          "unique_count": 346,
          "nan_count": 0,
          "min": "1.3699",
          "max": "6.9011",
          "histogram": [
           {
            "bin_start": 1.3699,
            "bin_end": 1.92302,
            "count": 25
           },
           {
            "bin_start": 1.92302,
            "bin_end": 2.47614,
            "count": 70
           },
           {
            "bin_start": 2.47614,
            "bin_end": 3.02926,
            "count": 48
           },
           {
            "bin_start": 3.02926,
            "bin_end": 3.58238,
            "count": 52
           },
           {
            "bin_start": 3.58238,
            "bin_end": 4.1355,
            "count": 52
           },
           {
            "bin_start": 4.1355,
            "bin_end": 4.68862,
            "count": 33
           },
           {
            "bin_start": 4.68862,
            "bin_end": 5.24174,
            "count": 27
           },
           {
            "bin_start": 5.24174,
            "bin_end": 5.79486,
            "count": 17
           },
           {
            "bin_start": 5.79486,
            "bin_end": 6.34798,
            "count": 13
           },
           {
            "bin_start": 6.34798,
            "bin_end": 6.9011,
            "count": 9
           }
          ]
         }
        },
        {
         "name": "pCREB",
         "dtype": "float64",
         "stats": {
          "unique_count": 300,
          "nan_count": 0,
          "min": "0.1128",
          "max": "0.3058",
          "histogram": [
           {
            "bin_start": 0.1128,
            "bin_end": 0.1321,
            "count": 2
           },
           {
            "bin_start": 0.1321,
            "bin_end": 0.1514,
            "count": 10
           },
           {
            "bin_start": 0.1514,
            "bin_end": 0.17070000000000002,
            "count": 24
           },
           {
            "bin_start": 0.17070000000000002,
            "bin_end": 0.19,
            "count": 56
           },
           {
            "bin_start": 0.19,
            "bin_end": 0.20929999999999999,
            "count": 84
           },
           {
            "bin_start": 0.20929999999999999,
            "bin_end": 0.22860000000000003,
            "count": 68
           },
           {
            "bin_start": 0.22860000000000003,
            "bin_end": 0.2479,
            "count": 64
           },
           {
            "bin_start": 0.2479,
            "bin_end": 0.2672,
            "count": 31
           },
           {
            "bin_start": 0.2672,
            "bin_end": 0.28650000000000003,
            "count": 5
           },
           {
            "bin_start": 0.28650000000000003,
            "bin_end": 0.3058,
            "count": 2
           }
          ]
         }
        },
        {
         "name": "pELK",
         "dtype": "float64",
         "stats": {
          "unique_count": 338,
          "nan_count": 0,
          "min": "0.8069",
          "max": "4.6879",
          "histogram": [
           {
            "bin_start": 0.8069,
            "bin_end": 1.1949999999999998,
            "count": 87
           },
           {
            "bin_start": 1.1949999999999998,
            "bin_end": 1.5831,
            "count": 185
           },
           {
            "bin_start": 1.5831,
            "bin_end": 1.9711999999999998,
            "count": 55
           },
           {
            "bin_start": 1.9711999999999998,
            "bin_end": 2.3593,
            "count": 12
           },
           {
            "bin_start": 2.3593,
            "bin_end": 2.7474,
            "count": 0
           },
           {
            "bin_start": 2.7474,
            "bin_end": 3.1354999999999995,
            "count": 0
           },
           {
            "bin_start": 3.1354999999999995,
            "bin_end": 3.5236,
            "count": 1
           },
           {
            "bin_start": 3.5236,
            "bin_end": 3.9116999999999997,
            "count": 2
           },
           {
            "bin_start": 3.9116999999999997,
            "bin_end": 4.2998,
            "count": 2
           },
           {
            "bin_start": 4.2998,
            "bin_end": 4.6879,
            "count": 2
           }
          ]
         }
        },
        {
         "name": "pERK",
         "dtype": "float64",
         "stats": {
          "unique_count": 337,
          "nan_count": 0,
          "min": "0.2057",
          "max": "3.5667",
          "histogram": [
           {
            "bin_start": 0.2057,
            "bin_end": 0.5418,
            "count": 219
           },
           {
            "bin_start": 0.5418,
            "bin_end": 0.8778999999999999,
            "count": 93
           },
           {
            "bin_start": 0.8778999999999999,
            "bin_end": 1.2139999999999997,
            "count": 23
           },
           {
            "bin_start": 1.2139999999999997,
            "bin_end": 1.5500999999999998,
            "count": 4
           },
           {
            "bin_start": 1.5500999999999998,
            "bin_end": 1.8861999999999999,
            "count": 0
           },
           {
            "bin_start": 1.8861999999999999,
            "bin_end": 2.2222999999999997,
            "count": 0
           },
           {
            "bin_start": 2.2222999999999997,
            "bin_end": 2.5584,
            "count": 4
           },
           {
            "bin_start": 2.5584,
            "bin_end": 2.8945,
            "count": 1
           },
           {
            "bin_start": 2.8945,
            "bin_end": 3.2306,
            "count": 1
           },
           {
            "bin_start": 3.2306,
            "bin_end": 3.5667,
            "count": 1
           }
          ]
         }
        },
        {
         "name": "pJNK",
         "dtype": "float64",
         "stats": {
          "unique_count": 321,
          "nan_count": 0,
          "min": "0.1742",
          "max": "0.4446",
          "histogram": [
           {
            "bin_start": 0.1742,
            "bin_end": 0.20124,
            "count": 6
           },
           {
            "bin_start": 0.20124,
            "bin_end": 0.22827999999999998,
            "count": 15
           },
           {
            "bin_start": 0.22827999999999998,
            "bin_end": 0.25532,
            "count": 27
           },
           {
            "bin_start": 0.25532,
            "bin_end": 0.28236,
            "count": 43
           },
           {
            "bin_start": 0.28236,
            "bin_end": 0.3094,
            "count": 54
           },
           {
            "bin_start": 0.3094,
            "bin_end": 0.33643999999999996,
            "count": 76
           },
           {
            "bin_start": 0.33643999999999996,
            "bin_end": 0.36347999999999997,
            "count": 82
           },
           {
            "bin_start": 0.36347999999999997,
            "bin_end": 0.39052,
            "count": 31
           },
           {
            "bin_start": 0.39052,
            "bin_end": 0.41756,
            "count": 10
           },
           {
            "bin_start": 0.41756,
            "bin_end": 0.4446,
            "count": 2
           }
          ]
         }
        },
        {
         "name": "PKCA",
         "dtype": "float64",
         "stats": {
          "unique_count": 312,
          "nan_count": 0,
          "min": "0.1914",
          "max": "0.4638",
          "histogram": [
           {
            "bin_start": 0.1914,
            "bin_end": 0.21863999999999997,
            "count": 9
           },
           {
            "bin_start": 0.21863999999999997,
            "bin_end": 0.24588,
            "count": 22
           },
           {
            "bin_start": 0.24588,
            "bin_end": 0.27312,
            "count": 37
           },
           {
            "bin_start": 0.27312,
            "bin_end": 0.30035999999999996,
            "count": 74
           },
           {
            "bin_start": 0.30035999999999996,
            "bin_end": 0.3276,
            "count": 70
           },
           {
            "bin_start": 0.3276,
            "bin_end": 0.35483999999999993,
            "count": 56
           },
           {
            "bin_start": 0.35483999999999993,
            "bin_end": 0.38208,
            "count": 39
           },
           {
            "bin_start": 0.38208,
            "bin_end": 0.40931999999999996,
            "count": 21
           },
           {
            "bin_start": 0.40931999999999996,
            "bin_end": 0.43655999999999995,
            "count": 14
           },
           {
            "bin_start": 0.43655999999999995,
            "bin_end": 0.4638,
            "count": 4
           }
          ]
         }
        },
        {
         "name": "pMEK",
         "dtype": "float64",
         "stats": {
          "unique_count": 315,
          "nan_count": 0,
          "min": "0.1512",
          "max": "0.407",
          "histogram": [
           {
            "bin_start": 0.1512,
            "bin_end": 0.17678,
            "count": 5
           },
           {
            "bin_start": 0.17678,
            "bin_end": 0.20235999999999998,
            "count": 14
           },
           {
            "bin_start": 0.20235999999999998,
            "bin_end": 0.22794,
            "count": 30
           },
           {
            "bin_start": 0.22794,
            "bin_end": 0.25351999999999997,
            "count": 66
           },
           {
            "bin_start": 0.25351999999999997,
            "bin_end": 0.2791,
            "count": 74
           },
           {
            "bin_start": 0.2791,
            "bin_end": 0.30468,
            "count": 78
           },
           {
            "bin_start": 0.30468,
            "bin_end": 0.33026,
            "count": 47
           },
           {
            "bin_start": 0.33026,
            "bin_end": 0.35584,
            "count": 17
           },
           {
            "bin_start": 0.35584,
            "bin_end": 0.38142,
            "count": 10
           },
           {
            "bin_start": 0.38142,
            "bin_end": 0.407,
            "count": 5
           }
          ]
         }
        },
        {
         "name": "pNR1",
         "dtype": "float64",
         "stats": {
          "unique_count": 333,
          "nan_count": 0,
          "min": "0.5209",
          "max": "1.1853",
          "histogram": [
           {
            "bin_start": 0.5209,
            "bin_end": 0.58734,
            "count": 9
           },
           {
            "bin_start": 0.58734,
            "bin_end": 0.65378,
            "count": 19
           },
           {
            "bin_start": 0.65378,
            "bin_end": 0.7202200000000001,
            "count": 34
           },
           {
            "bin_start": 0.7202200000000001,
            "bin_end": 0.78666,
            "count": 78
           },
           {
            "bin_start": 0.78666,
            "bin_end": 0.8531,
            "count": 70
           },
           {
            "bin_start": 0.8531,
            "bin_end": 0.91954,
            "count": 74
           },
           {
            "bin_start": 0.91954,
            "bin_end": 0.9859800000000001,
            "count": 28
           },
           {
            "bin_start": 0.9859800000000001,
            "bin_end": 1.0524200000000001,
            "count": 25
           },
           {
            "bin_start": 1.0524200000000001,
            "bin_end": 1.1188600000000002,
            "count": 7
           },
           {
            "bin_start": 1.1188600000000002,
            "bin_end": 1.1853,
            "count": 2
           }
          ]
         }
        },
        {
         "name": "pNR2A",
         "dtype": "float64",
         "stats": {
          "unique_count": 339,
          "nan_count": 0,
          "min": "0.2813",
          "max": "1.3394",
          "histogram": [
           {
            "bin_start": 0.2813,
            "bin_end": 0.38711,
            "count": 6
           },
           {
            "bin_start": 0.38711,
            "bin_end": 0.49292,
            "count": 34
           },
           {
            "bin_start": 0.49292,
            "bin_end": 0.59873,
            "count": 46
           },
           {
            "bin_start": 0.59873,
            "bin_end": 0.7045399999999999,
            "count": 66
           },
           {
            "bin_start": 0.7045399999999999,
            "bin_end": 0.81035,
            "count": 86
           },
           {
            "bin_start": 0.81035,
            "bin_end": 0.91616,
            "count": 59
           },
           {
            "bin_start": 0.91616,
            "bin_end": 1.02197,
            "count": 27
           },
           {
            "bin_start": 1.02197,
            "bin_end": 1.12778,
            "count": 16
           },
           {
            "bin_start": 1.12778,
            "bin_end": 1.23359,
            "count": 4
           },
           {
            "bin_start": 1.23359,
            "bin_end": 1.3394,
            "count": 2
           }
          ]
         }
        },
        {
         "name": "pNR2B",
         "dtype": "float64",
         "stats": {
          "unique_count": 342,
          "nan_count": 0,
          "min": "0.9476",
          "max": "2.2957",
          "histogram": [
           {
            "bin_start": 0.9476,
            "bin_end": 1.08241,
            "count": 15
           },
           {
            "bin_start": 1.08241,
            "bin_end": 1.21722,
            "count": 24
           },
           {
            "bin_start": 1.21722,
            "bin_end": 1.35203,
            "count": 39
           },
           {
            "bin_start": 1.35203,
            "bin_end": 1.48684,
            "count": 60
           },
           {
            "bin_start": 1.48684,
            "bin_end": 1.62165,
            "count": 64
           },
           {
            "bin_start": 1.62165,
            "bin_end": 1.7564600000000001,
            "count": 71
           },
           {
            "bin_start": 1.7564600000000001,
            "bin_end": 1.89127,
            "count": 39
           },
           {
            "bin_start": 1.89127,
            "bin_end": 2.0260800000000003,
            "count": 23
           },
           {
            "bin_start": 2.0260800000000003,
            "bin_end": 2.16089,
            "count": 8
           },
           {
            "bin_start": 2.16089,
            "bin_end": 2.2957,
            "count": 3
           }
          ]
         }
        },
        {
         "name": "pPKCAB",
         "dtype": "float64",
         "stats": {
          "unique_count": 339,
          "nan_count": 0,
          "min": "0.5678",
          "max": "3.0614",
          "histogram": [
           {
            "bin_start": 0.5678,
            "bin_end": 0.8171599999999999,
            "count": 16
           },
           {
            "bin_start": 0.8171599999999999,
            "bin_end": 1.06652,
            "count": 40
           },
           {
            "bin_start": 1.06652,
            "bin_end": 1.31588,
            "count": 112
           },
           {
            "bin_start": 1.31588,
            "bin_end": 1.5652399999999997,
            "count": 46
           },
           {
            "bin_start": 1.5652399999999997,
            "bin_end": 1.8146,
            "count": 38
           },
           {
            "bin_start": 1.8146,
            "bin_end": 2.06396,
            "count": 31
           },
           {
            "bin_start": 2.06396,
            "bin_end": 2.3133199999999996,
            "count": 34
           },
           {
            "bin_start": 2.3133199999999996,
            "bin_end": 2.56268,
            "count": 21
           },
           {
            "bin_start": 2.56268,
            "bin_end": 2.8120399999999997,
            "count": 6
           },
           {
            "bin_start": 2.8120399999999997,
            "bin_end": 3.0614,
            "count": 2
           }
          ]
         }
        },
        {
         "name": "pRSK",
         "dtype": "float64",
         "stats": {
          "unique_count": 319,
          "nan_count": 0,
          "min": "0.2541",
          "max": "0.6095",
          "histogram": [
           {
            "bin_start": 0.2541,
            "bin_end": 0.28964,
            "count": 4
           },
           {
            "bin_start": 0.28964,
            "bin_end": 0.32518,
            "count": 7
           },
           {
            "bin_start": 0.32518,
            "bin_end": 0.36072,
            "count": 22
           },
           {
            "bin_start": 0.36072,
            "bin_end": 0.39626,
            "count": 39
           },
           {
            "bin_start": 0.39626,
            "bin_end": 0.4318,
            "count": 88
           },
           {
            "bin_start": 0.4318,
            "bin_end": 0.46734,
            "count": 75
           },
           {
            "bin_start": 0.46734,
            "bin_end": 0.50288,
            "count": 53
           },
           {
            "bin_start": 0.50288,
            "bin_end": 0.53842,
            "count": 31
           },
           {
            "bin_start": 0.53842,
            "bin_end": 0.57396,
            "count": 19
           },
           {
            "bin_start": 0.57396,
            "bin_end": 0.6095,
            "count": 8
           }
          ]
         }
        },
        {
         "name": "AKT",
         "dtype": "float64",
         "stats": {
          "unique_count": 335,
          "nan_count": 0,
          "min": "0.3345",
          "max": "1.0428",
          "histogram": [
           {
            "bin_start": 0.3345,
            "bin_end": 0.40533,
            "count": 5
           },
           {
            "bin_start": 0.40533,
            "bin_end": 0.47616,
            "count": 14
           },
           {
            "bin_start": 0.47616,
            "bin_end": 0.54699,
            "count": 26
           },
           {
            "bin_start": 0.54699,
            "bin_end": 0.61782,
            "count": 62
           },
           {
            "bin_start": 0.61782,
            "bin_end": 0.68865,
            "count": 74
           },
           {
            "bin_start": 0.68865,
            "bin_end": 0.7594799999999999,
            "count": 80
           },
           {
            "bin_start": 0.7594799999999999,
            "bin_end": 0.8303099999999999,
            "count": 46
           },
           {
            "bin_start": 0.8303099999999999,
            "bin_end": 0.9011399999999999,
            "count": 28
           },
           {
            "bin_start": 0.9011399999999999,
            "bin_end": 0.9719699999999999,
            "count": 7
           },
           {
            "bin_start": 0.9719699999999999,
            "bin_end": 1.0428,
            "count": 4
           }
          ]
         }
        },
        {
         "name": "BRAF",
         "dtype": "float64",
         "stats": {
          "unique_count": 335,
          "nan_count": 0,
          "min": "0.1463",
          "max": "1.9993",
          "histogram": [
           {
            "bin_start": 0.1463,
            "bin_end": 0.3316,
            "count": 185
           },
           {
            "bin_start": 0.3316,
            "bin_end": 0.5169,
            "count": 115
           },
           {
            "bin_start": 0.5169,
            "bin_end": 0.7021999999999999,
            "count": 32
           },
           {
            "bin_start": 0.7021999999999999,
            "bin_end": 0.8875,
            "count": 7
           },
           {
            "bin_start": 0.8875,
            "bin_end": 1.0728,
            "count": 0
           },
           {
            "bin_start": 1.0728,
            "bin_end": 1.2581,
            "count": 0
           },
           {
            "bin_start": 1.2581,
            "bin_end": 1.4434,
            "count": 0
           },
           {
            "bin_start": 1.4434,
            "bin_end": 1.6287,
            "count": 1
           },
           {
            "bin_start": 1.6287,
            "bin_end": 1.814,
            "count": 3
           },
           {
            "bin_start": 1.814,
            "bin_end": 1.9993,
            "count": 3
           }
          ]
         }
        },
        {
         "name": "CAMKII",
         "dtype": "float64",
         "stats": {
          "unique_count": 308,
          "nan_count": 0,
          "min": "0.213",
          "max": "0.5514",
          "histogram": [
           {
            "bin_start": 0.213,
            "bin_end": 0.24684,
            "count": 5
           },
           {
            "bin_start": 0.24684,
            "bin_end": 0.28068,
            "count": 17
           },
           {
            "bin_start": 0.28068,
            "bin_end": 0.31452,
            "count": 44
           },
           {
            "bin_start": 0.31452,
            "bin_end": 0.34836,
            "count": 73
           },
           {
            "bin_start": 0.34836,
            "bin_end": 0.3822,
            "count": 95
           },
           {
            "bin_start": 0.3822,
            "bin_end": 0.41603999999999997,
            "count": 65
           },
           {
            "bin_start": 0.41603999999999997,
            "bin_end": 0.44988,
            "count": 28
           },
           {
            "bin_start": 0.44988,
            "bin_end": 0.48372000000000004,
            "count": 14
           },
           {
            "bin_start": 0.48372000000000004,
            "bin_end": 0.51756,
            "count": 4
           },
           {
            "bin_start": 0.51756,
            "bin_end": 0.5514,
            "count": 1
           }
          ]
         }
        },
        {
         "name": "CREB",
         "dtype": "float64",
         "stats": {
          "unique_count": 295,
          "nan_count": 0,
          "min": "0.1136",
          "max": "0.2593",
          "histogram": [
           {
            "bin_start": 0.1136,
            "bin_end": 0.12817,
            "count": 4
           },
           {
            "bin_start": 0.12817,
            "bin_end": 0.14274,
            "count": 16
           },
           {
            "bin_start": 0.14274,
            "bin_end": 0.15731,
            "count": 41
           },
           {
            "bin_start": 0.15731,
            "bin_end": 0.17187999999999998,
            "count": 63
           },
           {
            "bin_start": 0.17187999999999998,
            "bin_end": 0.18645,
            "count": 84
           },
           {
            "bin_start": 0.18645,
            "bin_end": 0.20101999999999998,
            "count": 65
           },
           {
            "bin_start": 0.20101999999999998,
            "bin_end": 0.21558999999999998,
            "count": 44
           },
           {
            "bin_start": 0.21558999999999998,
            "bin_end": 0.23015999999999998,
            "count": 15
           },
           {
            "bin_start": 0.23015999999999998,
            "bin_end": 0.24472999999999998,
            "count": 8
           },
           {
            "bin_start": 0.24472999999999998,
            "bin_end": 0.2593,
            "count": 6
           }
          ]
         }
        },
        {
         "name": "ELK",
         "dtype": "float64",
         "stats": {
          "unique_count": 341,
          "nan_count": 0,
          "min": "0.4977",
          "max": "2.5223",
          "histogram": [
           {
            "bin_start": 0.4977,
            "bin_end": 0.70016,
            "count": 10
           },
           {
            "bin_start": 0.70016,
            "bin_end": 0.90262,
            "count": 54
           },
           {
            "bin_start": 0.90262,
            "bin_end": 1.10508,
            "count": 115
           },
           {
            "bin_start": 1.10508,
            "bin_end": 1.30754,
            "count": 81
           },
           {
            "bin_start": 1.30754,
            "bin_end": 1.51,
            "count": 44
           },
           {
            "bin_start": 1.51,
            "bin_end": 1.71246,
            "count": 16
           },
           {
            "bin_start": 1.71246,
            "bin_end": 1.91492,
            "count": 12
           },
           {
            "bin_start": 1.91492,
            "bin_end": 2.11738,
            "count": 7
           },
           {
            "bin_start": 2.11738,
            "bin_end": 2.31984,
            "count": 2
           },
           {
            "bin_start": 2.31984,
            "bin_end": 2.5223,
            "count": 5
           }
          ]
         }
        },
        {
         "name": "ERK",
         "dtype": "float64",
         "stats": {
          "unique_count": 344,
          "nan_count": 0,
          "min": "1.1695",
          "max": "4.8928",
          "histogram": [
           {
            "bin_start": 1.1695,
            "bin_end": 1.54183,
            "count": 18
           },
           {
            "bin_start": 1.54183,
            "bin_end": 1.9141599999999999,
            "count": 62
           },
           {
            "bin_start": 1.9141599999999999,
            "bin_end": 2.2864899999999997,
            "count": 68
           },
           {
            "bin_start": 2.2864899999999997,
            "bin_end": 2.65882,
            "count": 79
           },
           {
            "bin_start": 2.65882,
            "bin_end": 3.0311500000000002,
            "count": 58
           },
           {
            "bin_start": 3.0311500000000002,
            "bin_end": 3.40348,
            "count": 32
           },
           {
            "bin_start": 3.40348,
            "bin_end": 3.77581,
            "count": 14
           },
           {
            "bin_start": 3.77581,
            "bin_end": 4.14814,
            "count": 10
           },
           {
            "bin_start": 4.14814,
            "bin_end": 4.5204699999999995,
            "count": 3
           },
           {
            "bin_start": 4.5204699999999995,
            "bin_end": 4.8928,
            "count": 2
           }
          ]
         }
        },
        {
         "name": "GSK3B",
         "dtype": "float64",
         "stats": {
          "unique_count": 337,
          "nan_count": 0,
          "min": "0.5374",
          "max": "2.4377",
          "histogram": [
           {
            "bin_start": 0.5374,
            "bin_end": 0.72743,
            "count": 10
           },
           {
            "bin_start": 0.72743,
            "bin_end": 0.9174599999999999,
            "count": 40
           },
           {
            "bin_start": 0.9174599999999999,
            "bin_end": 1.1074899999999999,
            "count": 98
           },
           {
            "bin_start": 1.1074899999999999,
            "bin_end": 1.29752,
            "count": 112
           },
           {
            "bin_start": 1.29752,
            "bin_end": 1.4875500000000001,
            "count": 58
           },
           {
            "bin_start": 1.4875500000000001,
            "bin_end": 1.6775799999999998,
            "count": 19
           },
           {
            "bin_start": 1.6775799999999998,
            "bin_end": 1.86761,
            "count": 2
           },
           {
            "bin_start": 1.86761,
            "bin_end": 2.05764,
            "count": 0
           },
           {
            "bin_start": 2.05764,
            "bin_end": 2.24767,
            "count": 4
           },
           {
            "bin_start": 2.24767,
            "bin_end": 2.4377,
            "count": 3
           }
          ]
         }
        },
        {
         "name": "JNK",
         "dtype": "float64",
         "stats": {
          "unique_count": 301,
          "nan_count": 0,
          "min": "0.154",
          "max": "0.3342",
          "histogram": [
           {
            "bin_start": 0.154,
            "bin_end": 0.17202,
            "count": 7
           },
           {
            "bin_start": 0.17202,
            "bin_end": 0.19004,
            "count": 12
           },
           {
            "bin_start": 0.19004,
            "bin_end": 0.20806,
            "count": 43
           },
           {
            "bin_start": 0.20806,
            "bin_end": 0.22608,
            "count": 40
           },
           {
            "bin_start": 0.22608,
            "bin_end": 0.2441,
            "count": 72
           },
           {
            "bin_start": 0.2441,
            "bin_end": 0.26212,
            "count": 82
           },
           {
            "bin_start": 0.26212,
            "bin_end": 0.28014,
            "count": 54
           },
           {
            "bin_start": 0.28014,
            "bin_end": 0.29816,
            "count": 29
           },
           {
            "bin_start": 0.29816,
            "bin_end": 0.31618,
            "count": 6
           },
           {
            "bin_start": 0.31618,
            "bin_end": 0.3342,
            "count": 1
           }
          ]
         }
        },
        {
         "name": "MEK",
         "dtype": "float64",
         "stats": {
          "unique_count": 312,
          "nan_count": 0,
          "min": "0.1501",
          "max": "0.3769",
          "histogram": [
           {
            "bin_start": 0.1501,
            "bin_end": 0.17278000000000002,
            "count": 4
           },
           {
            "bin_start": 0.17278000000000002,
            "bin_end": 0.19546000000000002,
            "count": 12
           },
           {
            "bin_start": 0.19546000000000002,
            "bin_end": 0.21814,
            "count": 23
           },
           {
            "bin_start": 0.21814,
            "bin_end": 0.24082,
            "count": 37
           },
           {
            "bin_start": 0.24082,
            "bin_end": 0.2635,
            "count": 57
           },
           {
            "bin_start": 0.2635,
            "bin_end": 0.28618,
            "count": 82
           },
           {
            "bin_start": 0.28618,
            "bin_end": 0.30886,
            "count": 67
           },
           {
            "bin_start": 0.30886,
            "bin_end": 0.33154,
            "count": 39
           },
           {
            "bin_start": 0.33154,
            "bin_end": 0.35422,
            "count": 18
           },
           {
            "bin_start": 0.35422,
            "bin_end": 0.3769,
            "count": 7
           }
          ]
         }
        },
        {
         "name": "TRKA",
         "dtype": "float64",
         "stats": {
          "unique_count": 334,
          "nan_count": 0,
          "min": "0.3526",
          "max": "0.9795",
          "histogram": [
           {
            "bin_start": 0.3526,
            "bin_end": 0.41529000000000005,
            "count": 9
           },
           {
            "bin_start": 0.41529000000000005,
            "bin_end": 0.47798,
            "count": 6
           },
           {
            "bin_start": 0.47798,
            "bin_end": 0.54067,
            "count": 32
           },
           {
            "bin_start": 0.54067,
            "bin_end": 0.60336,
            "count": 45
           },
           {
            "bin_start": 0.60336,
            "bin_end": 0.66605,
            "count": 42
           },
           {
            "bin_start": 0.66605,
            "bin_end": 0.7287399999999999,
            "count": 66
           },
           {
            "bin_start": 0.7287399999999999,
            "bin_end": 0.79143,
            "count": 81
           },
           {
            "bin_start": 0.79143,
            "bin_end": 0.85412,
            "count": 38
           },
           {
            "bin_start": 0.85412,
            "bin_end": 0.91681,
            "count": 23
           },
           {
            "bin_start": 0.91681,
            "bin_end": 0.9795,
            "count": 4
           }
          ]
         }
        },
        {
         "name": "RSK",
         "dtype": "float64",
         "stats": {
          "unique_count": 290,
          "nan_count": 0,
          "min": "0.1074",
          "max": "0.247",
          "histogram": [
           {
            "bin_start": 0.1074,
            "bin_end": 0.12136,
            "count": 10
           },
           {
            "bin_start": 0.12136,
            "bin_end": 0.13532,
            "count": 34
           },
           {
            "bin_start": 0.13532,
            "bin_end": 0.14928,
            "count": 47
           },
           {
            "bin_start": 0.14928,
            "bin_end": 0.16324,
            "count": 69
           },
           {
            "bin_start": 0.16324,
            "bin_end": 0.1772,
            "count": 78
           },
           {
            "bin_start": 0.1772,
            "bin_end": 0.19116,
            "count": 55
           },
           {
            "bin_start": 0.19116,
            "bin_end": 0.20512,
            "count": 19
           },
           {
            "bin_start": 0.20512,
            "bin_end": 0.21908,
            "count": 20
           },
           {
            "bin_start": 0.21908,
            "bin_end": 0.23304,
            "count": 9
           },
           {
            "bin_start": 0.23304,
            "bin_end": 0.247,
            "count": 5
           }
          ]
         }
        },
        {
         "name": "APP",
         "dtype": "float64",
         "stats": {
          "unique_count": 317,
          "nan_count": 0,
          "min": "0.2356",
          "max": "0.6327",
          "histogram": [
           {
            "bin_start": 0.2356,
            "bin_end": 0.27531,
            "count": 6
           },
           {
            "bin_start": 0.27531,
            "bin_end": 0.31502,
            "count": 24
           },
           {
            "bin_start": 0.31502,
            "bin_end": 0.35473,
            "count": 52
           },
           {
            "bin_start": 0.35473,
            "bin_end": 0.39444,
            "count": 84
           },
           {
            "bin_start": 0.39444,
            "bin_end": 0.43415000000000004,
            "count": 87
           },
           {
            "bin_start": 0.43415000000000004,
            "bin_end": 0.47386000000000006,
            "count": 43
           },
           {
            "bin_start": 0.47386000000000006,
            "bin_end": 0.51357,
            "count": 31
           },
           {
            "bin_start": 0.51357,
            "bin_end": 0.55328,
            "count": 15
           },
           {
            "bin_start": 0.55328,
            "bin_end": 0.59299,
            "count": 3
           },
           {
            "bin_start": 0.59299,
            "bin_end": 0.6327,
            "count": 1
           }
          ]
         }
        },
        {
         "name": "Bcatenin",
         "dtype": "float64",
         "stats": {
          "unique_count": 345,
          "nan_count": 0,
          "min": "1.185",
          "max": "3.2249",
          "histogram": [
           {
            "bin_start": 1.185,
            "bin_end": 1.38899,
            "count": 12
           },
           {
            "bin_start": 1.38899,
            "bin_end": 1.59298,
            "count": 33
           },
           {
            "bin_start": 1.59298,
            "bin_end": 1.79697,
            "count": 33
           },
           {
            "bin_start": 1.79697,
            "bin_end": 2.00096,
            "count": 56
           },
           {
            "bin_start": 2.00096,
            "bin_end": 2.20495,
            "count": 64
           },
           {
            "bin_start": 2.20495,
            "bin_end": 2.40894,
            "count": 59
           },
           {
            "bin_start": 2.40894,
            "bin_end": 2.61293,
            "count": 40
           },
           {
            "bin_start": 2.61293,
            "bin_end": 2.8169199999999996,
            "count": 28
           },
           {
            "bin_start": 2.8169199999999996,
            "bin_end": 3.0209099999999998,
            "count": 11
           },
           {
            "bin_start": 3.0209099999999998,
            "bin_end": 3.2249,
            "count": 10
           }
          ]
         }
        },
        {
         "name": "SOD1",
         "dtype": "float64",
         "stats": {
          "unique_count": 332,
          "nan_count": 0,
          "min": "0.2171",
          "max": "1.7144",
          "histogram": [
           {
            "bin_start": 0.2171,
            "bin_end": 0.36683,
            "count": 154
           },
           {
            "bin_start": 0.36683,
            "bin_end": 0.5165599999999999,
            "count": 33
           },
           {
            "bin_start": 0.5165599999999999,
            "bin_end": 0.6662899999999999,
            "count": 66
           },
           {
            "bin_start": 0.6662899999999999,
            "bin_end": 0.8160199999999999,
            "count": 40
           },
           {
            "bin_start": 0.8160199999999999,
            "bin_end": 0.9657499999999998,
            "count": 28
           },
           {
            "bin_start": 0.9657499999999998,
            "bin_end": 1.1154799999999998,
            "count": 13
           },
           {
            "bin_start": 1.1154799999999998,
            "bin_end": 1.26521,
            "count": 4
           },
           {
            "bin_start": 1.26521,
            "bin_end": 1.4149399999999999,
            "count": 3
           },
           {
            "bin_start": 1.4149399999999999,
            "bin_end": 1.5646699999999998,
            "count": 3
           },
           {
            "bin_start": 1.5646699999999998,
            "bin_end": 1.7144,
            "count": 2
           }
          ]
         }
        },
        {
         "name": "MTOR",
         "dtype": "float64",
         "stats": {
          "unique_count": 327,
          "nan_count": 0,
          "min": "0.2651",
          "max": "0.6516",
          "histogram": [
           {
            "bin_start": 0.2651,
            "bin_end": 0.30375,
            "count": 1
           },
           {
            "bin_start": 0.30375,
            "bin_end": 0.3424,
            "count": 12
           },
           {
            "bin_start": 0.3424,
            "bin_end": 0.38105,
            "count": 30
           },
           {
            "bin_start": 0.38105,
            "bin_end": 0.41969999999999996,
            "count": 62
           },
           {
            "bin_start": 0.41969999999999996,
            "bin_end": 0.45835,
            "count": 82
           },
           {
            "bin_start": 0.45835,
            "bin_end": 0.497,
            "count": 91
           },
           {
            "bin_start": 0.497,
            "bin_end": 0.53565,
            "count": 38
           },
           {
            "bin_start": 0.53565,
            "bin_end": 0.5743,
            "count": 18
           },
           {
            "bin_start": 0.5743,
            "bin_end": 0.61295,
            "count": 9
           },
           {
            "bin_start": 0.61295,
            "bin_end": 0.6516,
            "count": 3
           }
          ]
         }
        },
        {
         "name": "P38",
         "dtype": "float64",
         "stats": {
          "unique_count": 325,
          "nan_count": 0,
          "min": "0.2656",
          "max": "0.9333",
          "histogram": [
           {
            "bin_start": 0.2656,
            "bin_end": 0.33237,
            "count": 62
           },
           {
            "bin_start": 0.33237,
            "bin_end": 0.39914,
            "count": 97
           },
           {
            "bin_start": 0.39914,
            "bin_end": 0.46591,
            "count": 105
           },
           {
            "bin_start": 0.46591,
            "bin_end": 0.53268,
            "count": 54
           },
           {
            "bin_start": 0.53268,
            "bin_end": 0.59945,
            "count": 20
           },
           {
            "bin_start": 0.59945,
            "bin_end": 0.66622,
            "count": 5
           },
           {
            "bin_start": 0.66622,
            "bin_end": 0.73299,
            "count": 1
           },
           {
            "bin_start": 0.73299,
            "bin_end": 0.79976,
            "count": 1
           },
           {
            "bin_start": 0.79976,
            "bin_end": 0.86653,
            "count": 0
           },
           {
            "bin_start": 0.86653,
            "bin_end": 0.9333,
            "count": 1
           }
          ]
         }
        },
        {
         "name": "pMTOR",
         "dtype": "float64",
         "stats": {
          "unique_count": 336,
          "nan_count": 0,
          "min": "0.2443",
          "max": "1.1249",
          "histogram": [
           {
            "bin_start": 0.2443,
            "bin_end": 0.33236,
            "count": 3
           },
           {
            "bin_start": 0.33236,
            "bin_end": 0.42042,
            "count": 2
           },
           {
            "bin_start": 0.42042,
            "bin_end": 0.5084799999999999,
            "count": 0
           },
           {
            "bin_start": 0.5084799999999999,
            "bin_end": 0.59654,
            "count": 16
           },
           {
            "bin_start": 0.59654,
            "bin_end": 0.6846,
            "count": 68
           },
           {
            "bin_start": 0.6846,
            "bin_end": 0.7726599999999999,
            "count": 100
           },
           {
            "bin_start": 0.7726599999999999,
            "bin_end": 0.8607199999999999,
            "count": 93
           },
           {
            "bin_start": 0.8607199999999999,
            "bin_end": 0.94878,
            "count": 53
           },
           {
            "bin_start": 0.94878,
            "bin_end": 1.03684,
            "count": 10
           },
           {
            "bin_start": 1.03684,
            "bin_end": 1.1249,
            "count": 1
           }
          ]
         }
        },
        {
         "name": "DSCR1",
         "dtype": "float64",
         "stats": {
          "unique_count": 334,
          "nan_count": 0,
          "min": "0.1765",
          "max": "0.8949",
          "histogram": [
           {
            "bin_start": 0.1765,
            "bin_end": 0.24834,
            "count": 4
           },
           {
            "bin_start": 0.24834,
            "bin_end": 0.32018,
            "count": 2
           },
           {
            "bin_start": 0.32018,
            "bin_end": 0.39202,
            "count": 1
           },
           {
            "bin_start": 0.39202,
            "bin_end": 0.46386,
            "count": 20
           },
           {
            "bin_start": 0.46386,
            "bin_end": 0.5357000000000001,
            "count": 68
           },
           {
            "bin_start": 0.5357000000000001,
            "bin_end": 0.60754,
            "count": 128
           },
           {
            "bin_start": 0.60754,
            "bin_end": 0.67938,
            "count": 88
           },
           {
            "bin_start": 0.67938,
            "bin_end": 0.75122,
            "count": 19
           },
           {
            "bin_start": 0.75122,
            "bin_end": 0.82306,
            "count": 11
           },
           {
            "bin_start": 0.82306,
            "bin_end": 0.8949,
            "count": 5
           }
          ]
         }
        },
        {
         "name": "AMPKA",
         "dtype": "float64",
         "stats": {
          "unique_count": 317,
          "nan_count": 0,
          "min": "0.2264",
          "max": "0.5635",
          "histogram": [
           {
            "bin_start": 0.2264,
            "bin_end": 0.26011,
            "count": 8
           },
           {
            "bin_start": 0.26011,
            "bin_end": 0.29381999999999997,
            "count": 24
           },
           {
            "bin_start": 0.29381999999999997,
            "bin_end": 0.32753,
            "count": 62
           },
           {
            "bin_start": 0.32753,
            "bin_end": 0.36124,
            "count": 92
           },
           {
            "bin_start": 0.36124,
            "bin_end": 0.39495,
            "count": 69
           },
           {
            "bin_start": 0.39495,
            "bin_end": 0.42866000000000004,
            "count": 31
           },
           {
            "bin_start": 0.42866000000000004,
            "bin_end": 0.46237,
            "count": 31
           },
           {
            "bin_start": 0.46237,
            "bin_end": 0.49608,
            "count": 19
           },
           {
            "bin_start": 0.49608,
            "bin_end": 0.52979,
            "count": 6
           },
           {
            "bin_start": 0.52979,
            "bin_end": 0.5635,
            "count": 4
           }
          ]
         }
        },
        {
         "name": "NR2B",
         "dtype": "float64",
         "stats": {
          "unique_count": 322,
          "nan_count": 0,
          "min": "0.2251",
          "max": "0.8035",
          "histogram": [
           {
            "bin_start": 0.2251,
            "bin_end": 0.28293999999999997,
            "count": 3
           },
           {
            "bin_start": 0.28293999999999997,
            "bin_end": 0.34077999999999997,
            "count": 3
           },
           {
            "bin_start": 0.34077999999999997,
            "bin_end": 0.39862,
            "count": 2
           },
           {
            "bin_start": 0.39862,
            "bin_end": 0.45646,
            "count": 20
           },
           {
            "bin_start": 0.45646,
            "bin_end": 0.5143,
            "count": 52
           },
           {
            "bin_start": 0.5143,
            "bin_end": 0.57214,
            "count": 115
           },
           {
            "bin_start": 0.57214,
            "bin_end": 0.62998,
            "count": 87
           },
           {
            "bin_start": 0.62998,
            "bin_end": 0.68782,
            "count": 41
           },
           {
            "bin_start": 0.68782,
            "bin_end": 0.74566,
            "count": 20
           },
           {
            "bin_start": 0.74566,
            "bin_end": 0.8035,
            "count": 3
           }
          ]
         }
        },
        {
         "name": "pNUMB",
         "dtype": "float64",
         "stats": {
          "unique_count": 321,
          "nan_count": 0,
          "min": "0.1856",
          "max": "0.5624",
          "histogram": [
           {
            "bin_start": 0.1856,
            "bin_end": 0.22327999999999998,
            "count": 4
           },
           {
            "bin_start": 0.22327999999999998,
            "bin_end": 0.26095999999999997,
            "count": 7
           },
           {
            "bin_start": 0.26095999999999997,
            "bin_end": 0.29864,
            "count": 51
           },
           {
            "bin_start": 0.29864,
            "bin_end": 0.33632,
            "count": 91
           },
           {
            "bin_start": 0.33632,
            "bin_end": 0.374,
            "count": 82
           },
           {
            "bin_start": 0.374,
            "bin_end": 0.41168000000000005,
            "count": 45
           },
           {
            "bin_start": 0.41168000000000005,
            "bin_end": 0.44936000000000004,
            "count": 33
           },
           {
            "bin_start": 0.44936000000000004,
            "bin_end": 0.48704000000000003,
            "count": 23
           },
           {
            "bin_start": 0.48704000000000003,
            "bin_end": 0.5247200000000001,
            "count": 5
           },
           {
            "bin_start": 0.5247200000000001,
            "bin_end": 0.5624,
            "count": 5
           }
          ]
         }
        },
        {
         "name": "RAPTOR",
         "dtype": "float64",
         "stats": {
          "unique_count": 321,
          "nan_count": 0,
          "min": "0.1948",
          "max": "0.5043",
          "histogram": [
           {
            "bin_start": 0.1948,
            "bin_end": 0.22575,
            "count": 4
           },
           {
            "bin_start": 0.22575,
            "bin_end": 0.2567,
            "count": 41
           },
           {
            "bin_start": 0.2567,
            "bin_end": 0.28764999999999996,
            "count": 66
           },
           {
            "bin_start": 0.28764999999999996,
            "bin_end": 0.3186,
            "count": 93
           },
           {
            "bin_start": 0.3186,
            "bin_end": 0.34955,
            "count": 63
           },
           {
            "bin_start": 0.34955,
            "bin_end": 0.38049999999999995,
            "count": 39
           },
           {
            "bin_start": 0.38049999999999995,
            "bin_end": 0.41145,
            "count": 22
           },
           {
            "bin_start": 0.41145,
            "bin_end": 0.4424,
            "count": 14
           },
           {
            "bin_start": 0.4424,
            "bin_end": 0.47334999999999994,
            "count": 3
           },
           {
            "bin_start": 0.47334999999999994,
            "bin_end": 0.5043,
            "count": 1
           }
          ]
         }
        },
        {
         "name": "TIAM1",
         "dtype": "float64",
         "stats": {
          "unique_count": 314,
          "nan_count": 0,
          "min": "0.2378",
          "max": "0.6538",
          "histogram": [
           {
            "bin_start": 0.2378,
            "bin_end": 0.27940000000000004,
            "count": 2
           },
           {
            "bin_start": 0.27940000000000004,
            "bin_end": 0.321,
            "count": 11
           },
           {
            "bin_start": 0.321,
            "bin_end": 0.36260000000000003,
            "count": 58
           },
           {
            "bin_start": 0.36260000000000003,
            "bin_end": 0.4042,
            "count": 93
           },
           {
            "bin_start": 0.4042,
            "bin_end": 0.44580000000000003,
            "count": 84
           },
           {
            "bin_start": 0.44580000000000003,
            "bin_end": 0.48740000000000006,
            "count": 53
           },
           {
            "bin_start": 0.48740000000000006,
            "bin_end": 0.529,
            "count": 25
           },
           {
            "bin_start": 0.529,
            "bin_end": 0.5706,
            "count": 10
           },
           {
            "bin_start": 0.5706,
            "bin_end": 0.6122000000000001,
            "count": 8
           },
           {
            "bin_start": 0.6122000000000001,
            "bin_end": 0.6538,
            "count": 2
           }
          ]
         }
        },
        {
         "name": "pP70S6",
         "dtype": "float64",
         "stats": {
          "unique_count": 336,
          "nan_count": 0,
          "min": "0.1451",
          "max": "1.0101",
          "histogram": [
           {
            "bin_start": 0.1451,
            "bin_end": 0.2316,
            "count": 63
           },
           {
            "bin_start": 0.2316,
            "bin_end": 0.3181,
            "count": 40
           },
           {
            "bin_start": 0.3181,
            "bin_end": 0.40459999999999996,
            "count": 108
           },
           {
            "bin_start": 0.40459999999999996,
            "bin_end": 0.4911,
            "count": 65
           },
           {
            "bin_start": 0.4911,
            "bin_end": 0.5776,
            "count": 42
           },
           {
            "bin_start": 0.5776,
            "bin_end": 0.6640999999999999,
            "count": 11
           },
           {
            "bin_start": 0.6640999999999999,
            "bin_end": 0.7505999999999999,
            "count": 9
           },
           {
            "bin_start": 0.7505999999999999,
            "bin_end": 0.8371,
            "count": 5
           },
           {
            "bin_start": 0.8371,
            "bin_end": 0.9236,
            "count": 1
           },
           {
            "bin_start": 0.9236,
            "bin_end": 1.0101,
            "count": 2
           }
          ]
         }
        },
        {
         "name": "NUMB",
         "dtype": "float64",
         "stats": {
          "unique_count": 290,
          "nan_count": 0,
          "min": "0.118",
          "max": "0.3053",
          "histogram": [
           {
            "bin_start": 0.118,
            "bin_end": 0.13673,
            "count": 15
           },
           {
            "bin_start": 0.13673,
            "bin_end": 0.15546,
            "count": 52
           },
           {
            "bin_start": 0.15546,
            "bin_end": 0.17419,
            "count": 93
           },
           {
            "bin_start": 0.17419,
            "bin_end": 0.19292,
            "count": 89
           },
           {
            "bin_start": 0.19292,
            "bin_end": 0.21165,
            "count": 53
           },
           {
            "bin_start": 0.21165,
            "bin_end": 0.23038000000000003,
            "count": 22
           },
           {
            "bin_start": 0.23038000000000003,
            "bin_end": 0.24911000000000003,
            "count": 14
           },
           {
            "bin_start": 0.24911000000000003,
            "bin_end": 0.26784,
            "count": 6
           },
           {
            "bin_start": 0.26784,
            "bin_end": 0.28657,
            "count": 1
           },
           {
            "bin_start": 0.28657,
            "bin_end": 0.3053,
            "count": 1
           }
          ]
         }
        },
        {
         "name": "P70S6",
         "dtype": "float64",
         "stats": {
          "unique_count": 340,
          "nan_count": 0,
          "min": "0.3592",
          "max": "1.5756",
          "histogram": [
           {
            "bin_start": 0.3592,
            "bin_end": 0.48084000000000005,
            "count": 1
           },
           {
            "bin_start": 0.48084000000000005,
            "bin_end": 0.60248,
            "count": 1
           },
           {
            "bin_start": 0.60248,
            "bin_end": 0.7241200000000001,
            "count": 25
           },
           {
            "bin_start": 0.7241200000000001,
            "bin_end": 0.8457600000000001,
            "count": 76
           },
           {
            "bin_start": 0.8457600000000001,
            "bin_end": 0.9674,
            "count": 107
           },
           {
            "bin_start": 0.9674,
            "bin_end": 1.08904,
            "count": 73
           },
           {
            "bin_start": 1.08904,
            "bin_end": 1.21068,
            "count": 36
           },
           {
            "bin_start": 1.21068,
            "bin_end": 1.33232,
            "count": 23
           },
           {
            "bin_start": 1.33232,
            "bin_end": 1.45396,
            "count": 3
           },
           {
            "bin_start": 1.45396,
            "bin_end": 1.5756,
            "count": 1
           }
          ]
         }
        },
        {
         "name": "pGSK3B",
         "dtype": "float64",
         "stats": {
          "unique_count": 261,
          "nan_count": 0,
          "min": "0.1092",
          "max": "0.2278",
          "histogram": [
           {
            "bin_start": 0.1092,
            "bin_end": 0.12106,
            "count": 7
           },
           {
            "bin_start": 0.12106,
            "bin_end": 0.13292,
            "count": 8
           },
           {
            "bin_start": 0.13292,
            "bin_end": 0.14478000000000002,
            "count": 44
           },
           {
            "bin_start": 0.14478000000000002,
            "bin_end": 0.15664,
            "count": 89
           },
           {
            "bin_start": 0.15664,
            "bin_end": 0.16849999999999998,
            "count": 102
           },
           {
            "bin_start": 0.16849999999999998,
            "bin_end": 0.18036000000000002,
            "count": 55
           },
           {
            "bin_start": 0.18036000000000002,
            "bin_end": 0.19222,
            "count": 23
           },
           {
            "bin_start": 0.19222,
            "bin_end": 0.20407999999999998,
            "count": 11
           },
           {
            "bin_start": 0.20407999999999998,
            "bin_end": 0.21594,
            "count": 5
           },
           {
            "bin_start": 0.21594,
            "bin_end": 0.2278,
            "count": 2
           }
          ]
         }
        },
        {
         "name": "pPKCG",
         "dtype": "float64",
         "stats": {
          "unique_count": 343,
          "nan_count": 0,
          "min": "0.5988",
          "max": "3.1131",
          "histogram": [
           {
            "bin_start": 0.5988,
            "bin_end": 0.85023,
            "count": 21
           },
           {
            "bin_start": 0.85023,
            "bin_end": 1.10166,
            "count": 38
           },
           {
            "bin_start": 1.10166,
            "bin_end": 1.3530900000000001,
            "count": 46
           },
           {
            "bin_start": 1.3530900000000001,
            "bin_end": 1.6045200000000002,
            "count": 64
           },
           {
            "bin_start": 1.6045200000000002,
            "bin_end": 1.8559500000000002,
            "count": 49
           },
           {
            "bin_start": 1.8559500000000002,
            "bin_end": 2.10738,
            "count": 49
           },
           {
            "bin_start": 2.10738,
            "bin_end": 2.35881,
            "count": 32
           },
           {
            "bin_start": 2.35881,
            "bin_end": 2.61024,
            "count": 26
           },
           {
            "bin_start": 2.61024,
            "bin_end": 2.86167,
            "count": 13
           },
           {
            "bin_start": 2.86167,
            "bin_end": 3.1131,
            "count": 8
           }
          ]
         }
        },
        {
         "name": "CDK5",
         "dtype": "float64",
         "stats": {
          "unique_count": 300,
          "nan_count": 0,
          "min": "0.1976",
          "max": "0.3835",
          "histogram": [
           {
            "bin_start": 0.1976,
            "bin_end": 0.21619,
            "count": 9
           },
           {
            "bin_start": 0.21619,
            "bin_end": 0.23478,
            "count": 15
           },
           {
            "bin_start": 0.23478,
            "bin_end": 0.25337,
            "count": 29
           },
           {
            "bin_start": 0.25337,
            "bin_end": 0.27196,
            "count": 26
           },
           {
            "bin_start": 0.27196,
            "bin_end": 0.29055,
            "count": 81
           },
           {
            "bin_start": 0.29055,
            "bin_end": 0.30914,
            "count": 85
           },
           {
            "bin_start": 0.30914,
            "bin_end": 0.32773,
            "count": 54
           },
           {
            "bin_start": 0.32773,
            "bin_end": 0.34632,
            "count": 33
           },
           {
            "bin_start": 0.34632,
            "bin_end": 0.36491,
            "count": 9
           },
           {
            "bin_start": 0.36491,
            "bin_end": 0.3835,
            "count": 5
           }
          ]
         }
        },
        {
         "name": "S6",
         "dtype": "float64",
         "stats": {
          "unique_count": 329,
          "nan_count": 0,
          "min": "0.1549",
          "max": "0.7786",
          "histogram": [
           {
            "bin_start": 0.1549,
            "bin_end": 0.21727000000000002,
            "count": 7
           },
           {
            "bin_start": 0.21727000000000002,
            "bin_end": 0.27964,
            "count": 32
           },
           {
            "bin_start": 0.27964,
            "bin_end": 0.34201000000000004,
            "count": 85
           },
           {
            "bin_start": 0.34201000000000004,
            "bin_end": 0.40437999999999996,
            "count": 66
           },
           {
            "bin_start": 0.40437999999999996,
            "bin_end": 0.46675,
            "count": 38
           },
           {
            "bin_start": 0.46675,
            "bin_end": 0.52912,
            "count": 31
           },
           {
            "bin_start": 0.52912,
            "bin_end": 0.59149,
            "count": 36
           },
           {
            "bin_start": 0.59149,
            "bin_end": 0.65386,
            "count": 30
           },
           {
            "bin_start": 0.65386,
            "bin_end": 0.71623,
            "count": 15
           },
           {
            "bin_start": 0.71623,
            "bin_end": 0.7786,
            "count": 6
           }
          ]
         }
        },
        {
         "name": "ADARB1",
         "dtype": "float64",
         "stats": {
          "unique_count": 342,
          "nan_count": 0,
          "min": "0.5389",
          "max": "2.4026",
          "histogram": [
           {
            "bin_start": 0.5389,
            "bin_end": 0.7252700000000001,
            "count": 16
           },
           {
            "bin_start": 0.7252700000000001,
            "bin_end": 0.91164,
            "count": 62
           },
           {
            "bin_start": 0.91164,
            "bin_end": 1.09801,
            "count": 76
           },
           {
            "bin_start": 1.09801,
            "bin_end": 1.28438,
            "count": 74
           },
           {
            "bin_start": 1.28438,
            "bin_end": 1.4707500000000002,
            "count": 51
           },
           {
            "bin_start": 1.4707500000000002,
            "bin_end": 1.65712,
            "count": 29
           },
           {
            "bin_start": 1.65712,
            "bin_end": 1.84349,
            "count": 16
           },
           {
            "bin_start": 1.84349,
            "bin_end": 2.02986,
            "count": 13
           },
           {
            "bin_start": 2.02986,
            "bin_end": 2.21623,
            "count": 6
           },
           {
            "bin_start": 2.21623,
            "bin_end": 2.4026,
            "count": 3
           }
          ]
         }
        },
        {
         "name": "AcetylH3K9",
         "dtype": "float64",
         "stats": {
          "unique_count": 320,
          "nan_count": 0,
          "min": "0.0525",
          "max": "1.3424",
          "histogram": [
           {
            "bin_start": 0.0525,
            "bin_end": 0.18148999999999998,
            "count": 207
           },
           {
            "bin_start": 0.18148999999999998,
            "bin_end": 0.31048,
            "count": 81
           },
           {
            "bin_start": 0.31048,
            "bin_end": 0.43946999999999997,
            "count": 35
           },
           {
            "bin_start": 0.43946999999999997,
            "bin_end": 0.56846,
            "count": 4
           },
           {
            "bin_start": 0.56846,
            "bin_end": 0.6974499999999999,
            "count": 3
           },
           {
            "bin_start": 0.6974499999999999,
            "bin_end": 0.82644,
            "count": 5
           },
           {
            "bin_start": 0.82644,
            "bin_end": 0.95543,
            "count": 3
           },
           {
            "bin_start": 0.95543,
            "bin_end": 1.08442,
            "count": 6
           },
           {
            "bin_start": 1.08442,
            "bin_end": 1.2134099999999999,
            "count": 1
           },
           {
            "bin_start": 1.2134099999999999,
            "bin_end": 1.3424,
            "count": 1
           }
          ]
         }
        },
        {
         "name": "RRP1",
         "dtype": "float64",
         "stats": {
          "unique_count": 273,
          "nan_count": 0,
          "min": "-0.062",
          "max": "0.6124",
          "histogram": [
           {
            "bin_start": -0.062,
            "bin_end": 0.005440000000000014,
            "count": 1
           },
           {
            "bin_start": 0.005440000000000014,
            "bin_end": 0.07288000000000003,
            "count": 0
           },
           {
            "bin_start": 0.07288000000000003,
            "bin_end": 0.14032000000000006,
            "count": 38
           },
           {
            "bin_start": 0.14032000000000006,
            "bin_end": 0.20776000000000006,
            "count": 290
           },
           {
            "bin_start": 0.20776000000000006,
            "bin_end": 0.27520000000000006,
            "count": 14
           },
           {
            "bin_start": 0.27520000000000006,
            "bin_end": 0.3426400000000001,
            "count": 2
           },
           {
            "bin_start": 0.3426400000000001,
            "bin_end": 0.4100800000000001,
            "count": 0
           },
           {
            "bin_start": 0.4100800000000001,
            "bin_end": 0.4775200000000001,
            "count": 0
           },
           {
            "bin_start": 0.4775200000000001,
            "bin_end": 0.5449600000000001,
            "count": 0
           },
           {
            "bin_start": 0.5449600000000001,
            "bin_end": 0.6124,
            "count": 1
           }
          ]
         }
        },
        {
         "name": "BAX",
         "dtype": "float64",
         "stats": {
          "unique_count": 272,
          "nan_count": 0,
          "min": "0.1169",
          "max": "0.2191",
          "histogram": [
           {
            "bin_start": 0.1169,
            "bin_end": 0.12712,
            "count": 5
           },
           {
            "bin_start": 0.12712,
            "bin_end": 0.13734,
            "count": 3
           },
           {
            "bin_start": 0.13734,
            "bin_end": 0.14756,
            "count": 11
           },
           {
            "bin_start": 0.14756,
            "bin_end": 0.15778,
            "count": 21
           },
           {
            "bin_start": 0.15778,
            "bin_end": 0.16799999999999998,
            "count": 41
           },
           {
            "bin_start": 0.16799999999999998,
            "bin_end": 0.17822,
            "count": 66
           },
           {
            "bin_start": 0.17822,
            "bin_end": 0.18844,
            "count": 83
           },
           {
            "bin_start": 0.18844,
            "bin_end": 0.19866,
            "count": 75
           },
           {
            "bin_start": 0.19866,
            "bin_end": 0.20887999999999998,
            "count": 32
           },
           {
            "bin_start": 0.20887999999999998,
            "bin_end": 0.2191,
            "count": 9
           }
          ]
         }
        },
        {
         "name": "ARC",
         "dtype": "float64",
         "stats": {
          "unique_count": 253,
          "nan_count": 0,
          "min": "0.0768",
          "max": "0.1569",
          "histogram": [
           {
            "bin_start": 0.0768,
            "bin_end": 0.08481,
            "count": 1
           },
           {
            "bin_start": 0.08481,
            "bin_end": 0.09282,
            "count": 4
           },
           {
            "bin_start": 0.09282,
            "bin_end": 0.10083,
            "count": 18
           },
           {
            "bin_start": 0.10083,
            "bin_end": 0.10883999999999999,
            "count": 52
           },
           {
            "bin_start": 0.10883999999999999,
            "bin_end": 0.11685000000000001,
            "count": 61
           },
           {
            "bin_start": 0.11685000000000001,
            "bin_end": 0.12486,
            "count": 50
           },
           {
            "bin_start": 0.12486,
            "bin_end": 0.13287,
            "count": 76
           },
           {
            "bin_start": 0.13287,
            "bin_end": 0.14088,
            "count": 56
           },
           {
            "bin_start": 0.14088,
            "bin_end": 0.14889000000000002,
            "count": 25
           },
           {
            "bin_start": 0.14889000000000002,
            "bin_end": 0.1569,
            "count": 3
           }
          ]
         }
        },
        {
         "name": "ERBB4",
         "dtype": "float64",
         "stats": {
          "unique_count": 257,
          "nan_count": 0,
          "min": "0.1083",
          "max": "0.1968",
          "histogram": [
           {
            "bin_start": 0.1083,
            "bin_end": 0.11714999999999999,
            "count": 3
           },
           {
            "bin_start": 0.11714999999999999,
            "bin_end": 0.126,
            "count": 10
           },
           {
            "bin_start": 0.126,
            "bin_end": 0.13485,
            "count": 13
           },
           {
            "bin_start": 0.13485,
            "bin_end": 0.1437,
            "count": 37
           },
           {
            "bin_start": 0.1437,
            "bin_end": 0.15255,
            "count": 78
           },
           {
            "bin_start": 0.15255,
            "bin_end": 0.1614,
            "count": 75
           },
           {
            "bin_start": 0.1614,
            "bin_end": 0.17025,
            "count": 72
           },
           {
            "bin_start": 0.17025,
            "bin_end": 0.17909999999999998,
            "count": 37
           },
           {
            "bin_start": 0.17909999999999998,
            "bin_end": 0.18795,
            "count": 13
           },
           {
            "bin_start": 0.18795,
            "bin_end": 0.1968,
            "count": 8
           }
          ]
         }
        },
        {
         "name": "nNOS",
         "dtype": "float64",
         "stats": {
          "unique_count": 289,
          "nan_count": 0,
          "min": "0.1126",
          "max": "0.253",
          "histogram": [
           {
            "bin_start": 0.1126,
            "bin_end": 0.12664,
            "count": 6
           },
           {
            "bin_start": 0.12664,
            "bin_end": 0.14068,
            "count": 18
           },
           {
            "bin_start": 0.14068,
            "bin_end": 0.15472000000000002,
            "count": 25
           },
           {
            "bin_start": 0.15472000000000002,
            "bin_end": 0.16876000000000002,
            "count": 50
           },
           {
            "bin_start": 0.16876000000000002,
            "bin_end": 0.18280000000000002,
            "count": 79
           },
           {
            "bin_start": 0.18280000000000002,
            "bin_end": 0.19684000000000001,
            "count": 78
           },
           {
            "bin_start": 0.19684000000000001,
            "bin_end": 0.21088,
            "count": 53
           },
           {
            "bin_start": 0.21088,
            "bin_end": 0.22492,
            "count": 25
           },
           {
            "bin_start": 0.22492,
            "bin_end": 0.23896,
            "count": 9
           },
           {
            "bin_start": 0.23896,
            "bin_end": 0.253,
            "count": 3
           }
          ]
         }
        },
        {
         "name": "Tau",
         "dtype": "float64",
         "stats": {
          "unique_count": 316,
          "nan_count": 0,
          "min": "0.0997",
          "max": "0.5671",
          "histogram": [
           {
            "bin_start": 0.0997,
            "bin_end": 0.14644000000000001,
            "count": 26
           },
           {
            "bin_start": 0.14644000000000001,
            "bin_end": 0.19318000000000002,
            "count": 177
           },
           {
            "bin_start": 0.19318000000000002,
            "bin_end": 0.23992000000000002,
            "count": 75
           },
           {
            "bin_start": 0.23992000000000002,
            "bin_end": 0.28666,
            "count": 25
           },
           {
            "bin_start": 0.28666,
            "bin_end": 0.33340000000000003,
            "count": 20
           },
           {
            "bin_start": 0.33340000000000003,
            "bin_end": 0.38014000000000003,
            "count": 8
           },
           {
            "bin_start": 0.38014000000000003,
            "bin_end": 0.42688000000000004,
            "count": 8
           },
           {
            "bin_start": 0.42688000000000004,
            "bin_end": 0.47362000000000004,
            "count": 1
           },
           {
            "bin_start": 0.47362000000000004,
            "bin_end": 0.52036,
            "count": 3
           },
           {
            "bin_start": 0.52036,
            "bin_end": 0.5671,
            "count": 3
           }
          ]
         }
        },
        {
         "name": "GFAP",
         "dtype": "float64",
         "stats": {
          "unique_count": 233,
          "nan_count": 0,
          "min": "0.0885",
          "max": "0.2136",
          "histogram": [
           {
            "bin_start": 0.0885,
            "bin_end": 0.10101,
            "count": 15
           },
           {
            "bin_start": 0.10101,
            "bin_end": 0.11352,
            "count": 80
           },
           {
            "bin_start": 0.11352,
            "bin_end": 0.12603,
            "count": 152
           },
           {
            "bin_start": 0.12603,
            "bin_end": 0.13854,
            "count": 84
           },
           {
            "bin_start": 0.13854,
            "bin_end": 0.15105000000000002,
            "count": 10
           },
           {
            "bin_start": 0.15105000000000002,
            "bin_end": 0.16356,
            "count": 4
           },
           {
            "bin_start": 0.16356,
            "bin_end": 0.17607,
            "count": 0
           },
           {
            "bin_start": 0.17607,
            "bin_end": 0.18858000000000003,
            "count": 0
           },
           {
            "bin_start": 0.18858000000000003,
            "bin_end": 0.20109000000000002,
            "count": 0
           },
           {
            "bin_start": 0.20109000000000002,
            "bin_end": 0.2136,
            "count": 1
           }
          ]
         }
        },
        {
         "name": "GluR3",
         "dtype": "float64",
         "stats": {
          "unique_count": 300,
          "nan_count": 0,
          "min": "0.1245",
          "max": "0.3203",
          "histogram": [
           {
            "bin_start": 0.1245,
            "bin_end": 0.14407999999999999,
            "count": 3
           },
           {
            "bin_start": 0.14407999999999999,
            "bin_end": 0.16366,
            "count": 2
           },
           {
            "bin_start": 0.16366,
            "bin_end": 0.18324,
            "count": 32
           },
           {
            "bin_start": 0.18324,
            "bin_end": 0.20282,
            "count": 73
           },
           {
            "bin_start": 0.20282,
            "bin_end": 0.2224,
            "count": 79
           },
           {
            "bin_start": 0.2224,
            "bin_end": 0.24197999999999997,
            "count": 53
           },
           {
            "bin_start": 0.24197999999999997,
            "bin_end": 0.26156,
            "count": 45
           },
           {
            "bin_start": 0.26156,
            "bin_end": 0.28113999999999995,
            "count": 37
           },
           {
            "bin_start": 0.28113999999999995,
            "bin_end": 0.30072,
            "count": 15
           },
           {
            "bin_start": 0.30072,
            "bin_end": 0.3203,
            "count": 7
           }
          ]
         }
        },
        {
         "name": "GluR4",
         "dtype": "float64",
         "stats": {
          "unique_count": 280,
          "nan_count": 0,
          "min": "0.0803",
          "max": "0.537",
          "histogram": [
           {
            "bin_start": 0.0803,
            "bin_end": 0.12597,
            "count": 182
           },
           {
            "bin_start": 0.12597,
            "bin_end": 0.17164000000000001,
            "count": 156
           },
           {
            "bin_start": 0.17164000000000001,
            "bin_end": 0.21731,
            "count": 6
           },
           {
            "bin_start": 0.21731,
            "bin_end": 0.26298,
            "count": 1
           },
           {
            "bin_start": 0.26298,
            "bin_end": 0.30865,
            "count": 0
           },
           {
            "bin_start": 0.30865,
            "bin_end": 0.35432,
            "count": 0
           },
           {
            "bin_start": 0.35432,
            "bin_end": 0.39999,
            "count": 0
           },
           {
            "bin_start": 0.39999,
            "bin_end": 0.44566,
            "count": 0
           },
           {
            "bin_start": 0.44566,
            "bin_end": 0.49133,
            "count": 0
           },
           {
            "bin_start": 0.49133,
            "bin_end": 0.537,
            "count": 1
           }
          ]
         }
        },
        {
         "name": "IL1B",
         "dtype": "float64",
         "stats": {
          "unique_count": 325,
          "nan_count": 0,
          "min": "0.2962",
          "max": "0.7341",
          "histogram": [
           {
            "bin_start": 0.2962,
            "bin_end": 0.33999,
            "count": 1
           },
           {
            "bin_start": 0.33999,
            "bin_end": 0.38378,
            "count": 13
           },
           {
            "bin_start": 0.38378,
            "bin_end": 0.42757,
            "count": 24
           },
           {
            "bin_start": 0.42757,
            "bin_end": 0.47136,
            "count": 36
           },
           {
            "bin_start": 0.47136,
            "bin_end": 0.51515,
            "count": 71
           },
           {
            "bin_start": 0.51515,
            "bin_end": 0.55894,
            "count": 73
           },
           {
            "bin_start": 0.55894,
            "bin_end": 0.60273,
            "count": 61
           },
           {
            "bin_start": 0.60273,
            "bin_end": 0.64652,
            "count": 43
           },
           {
            "bin_start": 0.64652,
            "bin_end": 0.69031,
            "count": 13
           },
           {
            "bin_start": 0.69031,
            "bin_end": 0.7341,
            "count": 11
           }
          ]
         }
        },
        {
         "name": "P3525",
         "dtype": "float64",
         "stats": {
          "unique_count": 289,
          "nan_count": 0,
          "min": "0.213",
          "max": "0.4437",
          "histogram": [
           {
            "bin_start": 0.213,
            "bin_end": 0.23607,
            "count": 9
           },
           {
            "bin_start": 0.23607,
            "bin_end": 0.25914,
            "count": 39
           },
           {
            "bin_start": 0.25914,
            "bin_end": 0.28220999999999996,
            "count": 98
           },
           {
            "bin_start": 0.28220999999999996,
            "bin_end": 0.30528,
            "count": 90
           },
           {
            "bin_start": 0.30528,
            "bin_end": 0.32835000000000003,
            "count": 79
           },
           {
            "bin_start": 0.32835000000000003,
            "bin_end": 0.35141999999999995,
            "count": 22
           },
           {
            "bin_start": 0.35141999999999995,
            "bin_end": 0.37449,
            "count": 8
           },
           {
            "bin_start": 0.37449,
            "bin_end": 0.39756,
            "count": 0
           },
           {
            "bin_start": 0.39756,
            "bin_end": 0.42063,
            "count": 0
           },
           {
            "bin_start": 0.42063,
            "bin_end": 0.4437,
            "count": 1
           }
          ]
         }
        },
        {
         "name": "pCASP9",
         "dtype": "float64",
         "stats": {
          "unique_count": 337,
          "nan_count": 0,
          "min": "0.8975",
          "max": "2.5101",
          "histogram": [
           {
            "bin_start": 0.8975,
            "bin_end": 1.05876,
            "count": 5
           },
           {
            "bin_start": 1.05876,
            "bin_end": 1.2200199999999999,
            "count": 20
           },
           {
            "bin_start": 1.2200199999999999,
            "bin_end": 1.38128,
            "count": 61
           },
           {
            "bin_start": 1.38128,
            "bin_end": 1.54254,
            "count": 94
           },
           {
            "bin_start": 1.54254,
            "bin_end": 1.7038,
            "count": 76
           },
           {
            "bin_start": 1.7038,
            "bin_end": 1.8650600000000002,
            "count": 59
           },
           {
            "bin_start": 1.8650600000000002,
            "bin_end": 2.02632,
            "count": 18
           },
           {
            "bin_start": 2.02632,
            "bin_end": 2.18758,
            "count": 11
           },
           {
            "bin_start": 2.18758,
            "bin_end": 2.34884,
            "count": 0
           },
           {
            "bin_start": 2.34884,
            "bin_end": 2.5101,
            "count": 2
           }
          ]
         }
        },
        {
         "name": "PSD95",
         "dtype": "float64",
         "stats": {
          "unique_count": 343,
          "nan_count": 0,
          "min": "1.3457",
          "max": "2.8514",
          "histogram": [
           {
            "bin_start": 1.3457,
            "bin_end": 1.49627,
            "count": 2
           },
           {
            "bin_start": 1.49627,
            "bin_end": 1.6468399999999999,
            "count": 8
           },
           {
            "bin_start": 1.6468399999999999,
            "bin_end": 1.79741,
            "count": 5
           },
           {
            "bin_start": 1.79741,
            "bin_end": 1.9479799999999998,
            "count": 26
           },
           {
            "bin_start": 1.9479799999999998,
            "bin_end": 2.09855,
            "count": 55
           },
           {
            "bin_start": 2.09855,
            "bin_end": 2.24912,
            "count": 78
           },
           {
            "bin_start": 2.24912,
            "bin_end": 2.3996899999999997,
            "count": 71
           },
           {
            "bin_start": 2.3996899999999997,
            "bin_end": 2.5502599999999997,
            "count": 69
           },
           {
            "bin_start": 2.5502599999999997,
            "bin_end": 2.70083,
            "count": 24
           },
           {
            "bin_start": 2.70083,
            "bin_end": 2.8514,
            "count": 8
           }
          ]
         }
        },
        {
         "name": "SNCA",
         "dtype": "float64",
         "stats": {
          "unique_count": 284,
          "nan_count": 0,
          "min": "0.1012",
          "max": "0.23",
          "histogram": [
           {
            "bin_start": 0.1012,
            "bin_end": 0.11408,
            "count": 4
           },
           {
            "bin_start": 0.11408,
            "bin_end": 0.12696000000000002,
            "count": 26
           },
           {
            "bin_start": 0.12696000000000002,
            "bin_end": 0.13984000000000002,
            "count": 37
           },
           {
            "bin_start": 0.13984000000000002,
            "bin_end": 0.15272000000000002,
            "count": 74
           },
           {
            "bin_start": 0.15272000000000002,
            "bin_end": 0.16560000000000002,
            "count": 79
           },
           {
            "bin_start": 0.16560000000000002,
            "bin_end": 0.17848000000000003,
            "count": 56
           },
           {
            "bin_start": 0.17848000000000003,
            "bin_end": 0.19136000000000003,
            "count": 36
           },
           {
            "bin_start": 0.19136000000000003,
            "bin_end": 0.20424000000000003,
            "count": 15
           },
           {
            "bin_start": 0.20424000000000003,
            "bin_end": 0.21712000000000004,
            "count": 14
           },
           {
            "bin_start": 0.21712000000000004,
            "bin_end": 0.23,
            "count": 5
           }
          ]
         }
        },
        {
         "name": "Ubiquitin",
         "dtype": "float64",
         "stats": {
          "unique_count": 339,
          "nan_count": 0,
          "min": "0.8118",
          "max": "1.8936",
          "histogram": [
           {
            "bin_start": 0.8118,
            "bin_end": 0.9199799999999999,
            "count": 12
           },
           {
            "bin_start": 0.9199799999999999,
            "bin_end": 1.02816,
            "count": 38
           },
           {
            "bin_start": 1.02816,
            "bin_end": 1.13634,
            "count": 58
           },
           {
            "bin_start": 1.13634,
            "bin_end": 1.2445199999999998,
            "count": 78
           },
           {
            "bin_start": 1.2445199999999998,
            "bin_end": 1.3527,
            "count": 72
           },
           {
            "bin_start": 1.3527,
            "bin_end": 1.46088,
            "count": 48
           },
           {
            "bin_start": 1.46088,
            "bin_end": 1.56906,
            "count": 31
           },
           {
            "bin_start": 1.56906,
            "bin_end": 1.6772399999999998,
            "count": 7
           },
           {
            "bin_start": 1.6772399999999998,
            "bin_end": 1.7854199999999998,
            "count": 1
           },
           {
            "bin_start": 1.7854199999999998,
            "bin_end": 1.8936,
            "count": 1
           }
          ]
         }
        },
        {
         "name": "pGSK3B_Tyr216",
         "dtype": "float64",
         "stats": {
          "unique_count": 329,
          "nan_count": 0,
          "min": "0.5819",
          "max": "1.1509",
          "histogram": [
           {
            "bin_start": 0.5819,
            "bin_end": 0.6388,
            "count": 7
           },
           {
            "bin_start": 0.6388,
            "bin_end": 0.6957,
            "count": 10
           },
           {
            "bin_start": 0.6957,
            "bin_end": 0.7525999999999999,
            "count": 44
           },
           {
            "bin_start": 0.7525999999999999,
            "bin_end": 0.8095,
            "count": 49
           },
           {
            "bin_start": 0.8095,
            "bin_end": 0.8664000000000001,
            "count": 94
           },
           {
            "bin_start": 0.8664000000000001,
            "bin_end": 0.9233,
            "count": 65
           },
           {
            "bin_start": 0.9233,
            "bin_end": 0.9802,
            "count": 54
           },
           {
            "bin_start": 0.9802,
            "bin_end": 1.0371000000000001,
            "count": 19
           },
           {
            "bin_start": 1.0371000000000001,
            "bin_end": 1.0939999999999999,
            "count": 2
           },
           {
            "bin_start": 1.0939999999999999,
            "bin_end": 1.1509,
            "count": 2
           }
          ]
         }
        },
        {
         "name": "SHH",
         "dtype": "float64",
         "stats": {
          "unique_count": 289,
          "nan_count": 0,
          "min": "0.1656",
          "max": "0.3522",
          "histogram": [
           {
            "bin_start": 0.1656,
            "bin_end": 0.18426,
            "count": 15
           },
           {
            "bin_start": 0.18426,
            "bin_end": 0.20292,
            "count": 62
           },
           {
            "bin_start": 0.20292,
            "bin_end": 0.22158,
            "count": 76
           },
           {
            "bin_start": 0.22158,
            "bin_end": 0.24024,
            "count": 107
           },
           {
            "bin_start": 0.24024,
            "bin_end": 0.2589,
            "count": 57
           },
           {
            "bin_start": 0.2589,
            "bin_end": 0.27756000000000003,
            "count": 12
           },
           {
            "bin_start": 0.27756000000000003,
            "bin_end": 0.29622000000000004,
            "count": 12
           },
           {
            "bin_start": 0.29622000000000004,
            "bin_end": 0.31488000000000005,
            "count": 2
           },
           {
            "bin_start": 0.31488000000000005,
            "bin_end": 0.33354000000000006,
            "count": 2
           },
           {
            "bin_start": 0.33354000000000006,
            "bin_end": 0.3522,
            "count": 1
           }
          ]
         }
        },
        {
         "name": "pS6",
         "dtype": "float64",
         "stats": {
          "unique_count": 253,
          "nan_count": 0,
          "min": "0.0768",
          "max": "0.1569",
          "histogram": [
           {
            "bin_start": 0.0768,
            "bin_end": 0.08481,
            "count": 1
           },
           {
            "bin_start": 0.08481,
            "bin_end": 0.09282,
            "count": 4
           },
           {
            "bin_start": 0.09282,
            "bin_end": 0.10083,
            "count": 18
           },
           {
            "bin_start": 0.10083,
            "bin_end": 0.10883999999999999,
            "count": 52
           },
           {
            "bin_start": 0.10883999999999999,
            "bin_end": 0.11685000000000001,
            "count": 61
           },
           {
            "bin_start": 0.11685000000000001,
            "bin_end": 0.12486,
            "count": 50
           },
           {
            "bin_start": 0.12486,
            "bin_end": 0.13287,
            "count": 76
           },
           {
            "bin_start": 0.13287,
            "bin_end": 0.14088,
            "count": 56
           },
           {
            "bin_start": 0.14088,
            "bin_end": 0.14889000000000002,
            "count": 25
           },
           {
            "bin_start": 0.14889000000000002,
            "bin_end": 0.1569,
            "count": 3
           }
          ]
         }
        },
        {
         "name": "SYP",
         "dtype": "float64",
         "stats": {
          "unique_count": 328,
          "nan_count": 0,
          "min": "0.2601",
          "max": "0.7221",
          "histogram": [
           {
            "bin_start": 0.2601,
            "bin_end": 0.3063,
            "count": 8
           },
           {
            "bin_start": 0.3063,
            "bin_end": 0.3525,
            "count": 20
           },
           {
            "bin_start": 0.3525,
            "bin_end": 0.3987,
            "count": 57
           },
           {
            "bin_start": 0.3987,
            "bin_end": 0.44489999999999996,
            "count": 81
           },
           {
            "bin_start": 0.44489999999999996,
            "bin_end": 0.4911,
            "count": 92
           },
           {
            "bin_start": 0.4911,
            "bin_end": 0.5373,
            "count": 65
           },
           {
            "bin_start": 0.5373,
            "bin_end": 0.5834999999999999,
            "count": 18
           },
           {
            "bin_start": 0.5834999999999999,
            "bin_end": 0.6296999999999999,
            "count": 4
           },
           {
            "bin_start": 0.6296999999999999,
            "bin_end": 0.6759,
            "count": 0
           },
           {
            "bin_start": 0.6759,
            "bin_end": 0.7221,
            "count": 1
           }
          ]
         }
        },
        {
         "name": "CaNA",
         "dtype": "float64",
         "stats": {
          "unique_count": 341,
          "nan_count": 0,
          "min": "0.5865",
          "max": "2.1039",
          "histogram": [
           {
            "bin_start": 0.5865,
            "bin_end": 0.73824,
            "count": 5
           },
           {
            "bin_start": 0.73824,
            "bin_end": 0.88998,
            "count": 11
           },
           {
            "bin_start": 0.88998,
            "bin_end": 1.04172,
            "count": 43
           },
           {
            "bin_start": 1.04172,
            "bin_end": 1.19346,
            "count": 73
           },
           {
            "bin_start": 1.19346,
            "bin_end": 1.3452,
            "count": 45
           },
           {
            "bin_start": 1.3452,
            "bin_end": 1.49694,
            "count": 51
           },
           {
            "bin_start": 1.49694,
            "bin_end": 1.64868,
            "count": 48
           },
           {
            "bin_start": 1.64868,
            "bin_end": 1.80042,
            "count": 39
           },
           {
            "bin_start": 1.80042,
            "bin_end": 1.95216,
            "count": 21
           },
           {
            "bin_start": 1.95216,
            "bin_end": 2.1039,
            "count": 10
           }
          ]
         }
        },
        {
         "name": "class_label",
         "dtype": "float64",
         "stats": {
          "unique_count": 2,
          "nan_count": 0,
          "min": "0.0",
          "max": "1.0",
          "histogram": [
           {
            "bin_start": 0,
            "bin_end": 0.1,
            "count": 194
           },
           {
            "bin_start": 0.1,
            "bin_end": 0.2,
            "count": 0
           },
           {
            "bin_start": 0.2,
            "bin_end": 0.30000000000000004,
            "count": 0
           },
           {
            "bin_start": 0.30000000000000004,
            "bin_end": 0.4,
            "count": 0
           },
           {
            "bin_start": 0.4,
            "bin_end": 0.5,
            "count": 0
           },
           {
            "bin_start": 0.5,
            "bin_end": 0.6000000000000001,
            "count": 0
           },
           {
            "bin_start": 0.6000000000000001,
            "bin_end": 0.7000000000000001,
            "count": 0
           },
           {
            "bin_start": 0.7000000000000001,
            "bin_end": 0.8,
            "count": 0
           },
           {
            "bin_start": 0.8,
            "bin_end": 0.9,
            "count": 0
           },
           {
            "bin_start": 0.9,
            "bin_end": 1,
            "count": 152
           }
          ]
         }
        },
        {
         "name": "_deepnote_index_column",
         "dtype": "int64"
        }
       ],
       "rows_top": [
        {
         "DYRK1A": 1.7179,
         "ITSN1": 1.6997,
         "BDNF": 0.346,
         "NR1": 2.448,
         "NR2A": 4.3424,
         "pAKT": 0.218,
         "pBRAF": 0.1786,
         "pCAMKII": 2.755,
         "pCREB": 0.1957,
         "pELK": 3.262,
         "pERK": 2.4672,
         "pJNK": 0.277,
         "PKCA": 0.3309,
         "pMEK": 0.2655,
         "pNR1": 0.8016,
         "pNR2A": 0.5384,
         "pNR2B": 1.5856,
         "pPKCAB": 1.7899,
         "pRSK": 0.4894,
         "AKT": 0.6688,
         "BRAF": 1.6623,
         "CAMKII": 0.3807,
         "CREB": 0.1958,
         "ELK": 1.1439,
         "ERK": 2.8384,
         "GSK3B": 2.0643,
         "JNK": 0.2629,
         "MEK": 0.3213,
         "TRKA": 0.7497,
         "RSK": 0.1742,
         "APP": 0.3707,
         "Bcatenin": 2.3722,
         "SOD1": 0.2916,
         "MTOR": 0.3901,
         "P38": 0.2821,
         "pMTOR": 0.6461,
         "DSCR1": 0.5295,
         "AMPKA": 0.3306,
         "NR2B": 0.5443,
         "pNUMB": 0.3328,
         "RAPTOR": 0.2944,
         "TIAM1": 0.3686,
         "pP70S6": 0.3334,
         "NUMB": 0.1829,
         "P70S6": 0.9891,
         "pGSK3B": 0.1861,
         "pPKCG": 1.596,
         "CDK5": 0.3191,
         "S6": 0.3499,
         "ADARB1": 0.9957,
         "AcetylH3K9": 0.1268,
         "RRP1": 0.1663,
         "BAX": 0.1964,
         "ARC": 0.1017,
         "ERBB4": 0.1431,
         "nNOS": 0.1759,
         "Tau": 0.3014,
         "GFAP": 0.1226,
         "GluR3": 0.2254,
         "GluR4": 0.1256,
         "IL1B": 0.3843,
         "P3525": 0.2643,
         "pCASP9": 1.1691,
         "PSD95": 2.0558,
         "SNCA": 0.1541,
         "Ubiquitin": 1.0705,
         "pGSK3B_Tyr216": 1.0572,
         "SHH": 0.1852,
         "pS6": 0.1017,
         "SYP": 0.4638,
         "CaNA": 1.9633,
         "class_label": 0,
         "_deepnote_index_column": 0
        },
        {
         "DYRK1A": 0.6496,
         "ITSN1": 0.729,
         "BDNF": 0.3169,
         "NR1": 2.4863,
         "NR2A": 3.8667,
         "pAKT": 0.2009,
         "pBRAF": 0.1862,
         "pCAMKII": 2.5293,
         "pCREB": 0.2129,
         "pELK": 1.4947,
         "pERK": 0.6484,
         "pJNK": 0.2488,
         "PKCA": 0.3385,
         "pMEK": 0.2459,
         "pNR1": 0.8622,
         "pNR2A": 0.4393,
         "pNR2B": 1.5024,
         "pPKCAB": 1.7126,
         "pRSK": 0.4575,
         "AKT": 0.625,
         "BRAF": 0.4577,
         "CAMKII": 0.3145,
         "CREB": 0.1639,
         "ELK": 1.214,
         "ERK": 2.6364,
         "GSK3B": 1.373,
         "JNK": 0.2494,
         "MEK": 0.2713,
         "TRKA": 0.7437,
         "RSK": 0.1542,
         "APP": 0.4681,
         "Bcatenin": 2.2298,
         "SOD1": 0.3047,
         "MTOR": 0.3892,
         "P38": 0.3088,
         "pMTOR": 0.6414,
         "DSCR1": 0.5657,
         "AMPKA": 0.344,
         "NR2B": 0.5251,
         "pNUMB": 0.2942,
         "RAPTOR": 0.2855,
         "TIAM1": 0.3796,
         "pP70S6": 0.3475,
         "NUMB": 0.1841,
         "P70S6": 0.8639,
         "pGSK3B": 0.1558,
         "pPKCG": 1.6938,
         "CDK5": 0.2721,
         "S6": 0.5153,
         "ADARB1": 0.9542,
         "AcetylH3K9": 0.2143,
         "RRP1": 0.1514,
         "BAX": 0.1761,
         "ARC": 0.1061,
         "ERBB4": 0.1424,
         "nNOS": 0.1966,
         "Tau": 0.1717,
         "GFAP": 0.1157,
         "GluR3": 0.2179,
         "GluR4": 0.1291,
         "IL1B": 0.4963,
         "P3525": 0.2746,
         "pCASP9": 1.3029,
         "PSD95": 2.2969,
         "SNCA": 0.1223,
         "Ubiquitin": 0.9561,
         "pGSK3B_Tyr216": 0.8783,
         "SHH": 0.2114,
         "pS6": 0.1061,
         "SYP": 0.3853,
         "CaNA": 1.6332,
         "class_label": 1,
         "_deepnote_index_column": 1
        },
        {
         "DYRK1A": 0.5812,
         "ITSN1": 0.8054,
         "BDNF": 0.2953,
         "NR1": 2.3223,
         "NR2A": 4.1499,
         "pAKT": 0.1736,
         "pBRAF": 0.1413,
         "pCAMKII": 2.0528,
         "pCREB": 0.1897,
         "pELK": 1.5773,
         "pERK": 0.8045,
         "pJNK": 0.2782,
         "PKCA": 0.2677,
         "pMEK": 0.2101,
         "pNR1": 0.8889,
         "pNR2A": 0.6611,
         "pNR2B": 1.6843,
         "pPKCAB": 1.358,
         "pRSK": 0.3242,
         "AKT": 0.7057,
         "BRAF": 0.4152,
         "CAMKII": 0.3314,
         "CREB": 0.1336,
         "ELK": 1.3567,
         "ERK": 3.007,
         "GSK3B": 1.2925,
         "JNK": 0.206,
         "MEK": 0.2195,
         "TRKA": 0.6822,
         "RSK": 0.1166,
         "APP": 0.4469,
         "Bcatenin": 2.0819,
         "SOD1": 0.2868,
         "MTOR": 0.4273,
         "P38": 0.3099,
         "pMTOR": 0.6894,
         "DSCR1": 0.5784,
         "AMPKA": 0.3292,
         "NR2B": 0.5179,
         "pNUMB": 0.392,
         "RAPTOR": 0.2617,
         "TIAM1": 0.4171,
         "pP70S6": 0.1451,
         "NUMB": 0.2272,
         "P70S6": 1.2315,
         "pGSK3B": 0.1656,
         "pPKCG": 0.8039,
         "CDK5": 0.2943,
         "S6": 0.588,
         "ADARB1": 1.9294,
         "AcetylH3K9": 0.0818,
         "RRP1": 0.1598,
         "BAX": 0.1814,
         "ARC": 0.1165,
         "ERBB4": 0.1532,
         "nNOS": 0.1464,
         "Tau": 0.236,
         "GFAP": 0.1234,
         "GluR3": 0.2457,
         "GluR4": 0.1366,
         "IL1B": 0.528,
         "P3525": 0.2794,
         "pCASP9": 1.7635,
         "PSD95": 2.1596,
         "SNCA": 0.1647,
         "Ubiquitin": 1.018,
         "pGSK3B_Tyr216": 0.8512,
         "SHH": 0.1984,
         "pS6": 0.1165,
         "SYP": 0.4015,
         "CaNA": 1.4761,
         "class_label": 1,
         "_deepnote_index_column": 2
        },
        {
         "DYRK1A": 0.3445,
         "ITSN1": 0.5524,
         "BDNF": 0.317,
         "NR1": 2.3556,
         "NR2A": 4.0243,
         "pAKT": 0.2322,
         "pBRAF": 0.1823,
         "pCAMKII": 4.8937,
         "pCREB": 0.2189,
         "pELK": 1.2365,
         "pERK": 0.3892,
         "pJNK": 0.3141,
         "PKCA": 0.3321,
         "pMEK": 0.2821,
         "pNR1": 0.8552,
         "pNR2A": 0.755,
         "pNR2B": 1.5681,
         "pPKCAB": 1.4079,
         "pRSK": 0.4681,
         "AKT": 0.6361,
         "BRAF": 0.2783,
         "CAMKII": 0.3412,
         "CREB": 0.1914,
         "ELK": 1.1751,
         "ERK": 2.3229,
         "GSK3B": 1.117,
         "JNK": 0.2349,
         "MEK": 0.2898,
         "TRKA": 0.7068,
         "RSK": 0.1811,
         "APP": 0.4324,
         "Bcatenin": 2.2956,
         "SOD1": 0.5284,
         "MTOR": 0.4774,
         "P38": 0.4066,
         "pMTOR": 0.764,
         "DSCR1": 0.5667,
         "AMPKA": 0.366,
         "NR2B": 0.5527,
         "pNUMB": 0.3716,
         "RAPTOR": 0.3559,
         "TIAM1": 0.4271,
         "pP70S6": 0.5233,
         "NUMB": 0.1583,
         "P70S6": 0.8287,
         "pGSK3B": 0.1554,
         "pPKCG": 2.1118,
         "CDK5": 0.2814,
         "S6": 0.4283,
         "ADARB1": 1.2077,
         "AcetylH3K9": 0.2016,
         "RRP1": 0.1583,
         "BAX": 0.174,
         "ARC": 0.1066,
         "ERBB4": 0.1658,
         "nNOS": 0.179,
         "Tau": 0.1778,
         "GFAP": 0.1124,
         "GluR3": 0.259,
         "GluR4": 0.1442,
         "IL1B": 0.4883,
         "P3525": 0.2936,
         "pCASP9": 1.6786,
         "PSD95": 2.2521,
         "SNCA": 0.1385,
         "Ubiquitin": 1.2226,
         "pGSK3B_Tyr216": 0.8514,
         "SHH": 0.1964,
         "pS6": 0.1066,
         "SYP": 0.4954,
         "CaNA": 1.1608,
         "class_label": 1,
         "_deepnote_index_column": 3
        },
        {
         "DYRK1A": 0.6513,
         "ITSN1": 0.962,
         "BDNF": 0.465,
         "NR1": 2.9927,
         "NR2A": 5.975,
         "pAKT": 0.2028,
         "pBRAF": 0.1885,
         "pCAMKII": 1.8078,
         "pCREB": 0.259,
         "pELK": 1.9607,
         "pERK": 1.0536,
         "pJNK": 0.3539,
         "PKCA": 0.3627,
         "pMEK": 0.2606,
         "pNR1": 1.1223,
         "pNR2A": 1.041,
         "pNR2B": 2.1964,
         "pPKCAB": 1.8547,
         "pRSK": 0.3657,
         "AKT": 1.0428,
         "BRAF": 0.55,
         "CAMKII": 0.4148,
         "CREB": 0.181,
         "ELK": 2.4739,
         "ERK": 4.8928,
         "GSK3B": 1.5633,
         "JNK": 0.2754,
         "MEK": 0.333,
         "TRKA": 0.8924,
         "RSK": 0.1729,
         "APP": 0.4627,
         "Bcatenin": 2.8018,
         "SOD1": 0.3954,
         "MTOR": 0.5617,
         "P38": 0.3945,
         "pMTOR": 0.8232,
         "DSCR1": 0.6786,
         "AMPKA": 0.5635,
         "NR2B": 0.776,
         "pNUMB": 0.5066,
         "RAPTOR": 0.3883,
         "TIAM1": 0.5371,
         "pP70S6": 0.2345,
         "NUMB": 0.248,
         "P70S6": 1.2163,
         "pGSK3B": 0.1673,
         "pPKCG": 0.6127,
         "CDK5": 0.3505,
         "S6": 0.6373,
         "ADARB1": 2.0602,
         "AcetylH3K9": 0.1308,
         "RRP1": 0.1587,
         "BAX": 0.2057,
         "ARC": 0.1477,
         "ERBB4": 0.1892,
         "nNOS": 0.2117,
         "Tau": 0.3431,
         "GFAP": 0.1249,
         "GluR3": 0.2156,
         "GluR4": 0.1216,
         "IL1B": 0.5691,
         "P3525": 0.3204,
         "pCASP9": 1.7639,
         "PSD95": 2.2158,
         "SNCA": 0.1626,
         "Ubiquitin": 1.0661,
         "pGSK3B_Tyr216": 0.8384,
         "SHH": 0.2223,
         "pS6": 0.1477,
         "SYP": 0.526,
         "CaNA": 1.639,
         "class_label": 0,
         "_deepnote_index_column": 4
        },
        {
         "DYRK1A": 0.2384,
         "ITSN1": 0.4658,
         "BDNF": 0.3031,
         "NR1": 2.5519,
         "NR2A": 4.0491,
         "pAKT": 0.3134,
         "pBRAF": 0.2505,
         "pCAMKII": 3.3014,
         "pCREB": 0.2374,
         "pELK": 1.396,
         "pERK": 0.3318,
         "pJNK": 0.362,
         "PKCA": 0.2898,
         "pMEK": 0.321,
         "pNR1": 0.8603,
         "pNR2A": 0.7996,
         "pNR2B": 1.6976,
         "pPKCAB": 1.2311,
         "pRSK": 0.4378,
         "AKT": 0.8507,
         "BRAF": 0.3155,
         "CAMKII": 0.4512,
         "CREB": 0.2054,
         "ELK": 1.1173,
         "ERK": 2.3678,
         "GSK3B": 1.0954,
         "JNK": 0.2704,
         "MEK": 0.2983,
         "TRKA": 0.7807,
         "RSK": 0.2188,
         "APP": 0.3449,
         "Bcatenin": 2.1951,
         "SOD1": 0.8658,
         "MTOR": 0.4819,
         "P38": 0.4295,
         "pMTOR": 0.791,
         "DSCR1": 0.5833,
         "AMPKA": 0.3512,
         "NR2B": 0.5979,
         "pNUMB": 0.2893,
         "RAPTOR": 0.2958,
         "TIAM1": 0.3562,
         "pP70S6": 0.3376,
         "NUMB": 0.1812,
         "P70S6": 0.8526,
         "pGSK3B": 0.161,
         "pPKCG": 1.4955,
         "CDK5": 0.3026,
         "S6": 0.2802,
         "ADARB1": 1.3591,
         "AcetylH3K9": 0.0606,
         "RRP1": 0.1703,
         "BAX": 0.1619,
         "ARC": 0.14,
         "ERBB4": 0.172,
         "nNOS": 0.2086,
         "Tau": 0.1614,
         "GFAP": 0.1083,
         "GluR3": 0.2088,
         "GluR4": 0.1289,
         "IL1B": 0.6041,
         "P3525": 0.3048,
         "pCASP9": 1.7193,
         "PSD95": 2.5374,
         "SNCA": 0.1865,
         "Ubiquitin": 1.4296,
         "pGSK3B_Tyr216": 0.8562,
         "SHH": 0.231,
         "pS6": 0.14,
         "SYP": 0.5198,
         "CaNA": 1.4268,
         "class_label": 0,
         "_deepnote_index_column": 5
        }
       ],
       "rows_bottom": [
        {
         "DYRK1A": 0.2448,
         "ITSN1": 0.4051,
         "BDNF": 0.26,
         "NR1": 2.0749,
         "NR2A": 3.6555,
         "pAKT": 0.2206,
         "pBRAF": 0.173,
         "pCAMKII": 5.1492,
         "pCREB": 0.2226,
         "pELK": 1.1841,
         "pERK": 0.3399,
         "pJNK": 0.3561,
         "PKCA": 0.2793,
         "pMEK": 0.2816,
         "pNR1": 0.7496,
         "pNR2A": 1.1308,
         "pNR2B": 1.5606,
         "pPKCAB": 1.1425,
         "pRSK": 0.4472,
         "AKT": 0.5836,
         "BRAF": 0.2169,
         "CAMKII": 0.3231,
         "CREB": 0.1753,
         "ELK": 0.9952,
         "ERK": 1.8765,
         "GSK3B": 0.9436,
         "JNK": 0.2126,
         "MEK": 0.2315,
         "TRKA": 0.6218,
         "RSK": 0.1584,
         "APP": 0.3121,
         "Bcatenin": 2.0391,
         "SOD1": 0.6491,
         "MTOR": 0.3988,
         "P38": 0.422,
         "pMTOR": 0.8365,
         "DSCR1": 0.515,
         "AMPKA": 0.3264,
         "NR2B": 0.5124,
         "pNUMB": 0.2899,
         "RAPTOR": 0.2915,
         "TIAM1": 0.3447,
         "pP70S6": 0.4238,
         "NUMB": 0.1727,
         "P70S6": 1.0808,
         "pGSK3B": 0.1454,
         "pPKCG": 1.8284,
         "CDK5": 0.2421,
         "S6": 0.336,
         "ADARB1": 1.3156,
         "AcetylH3K9": 0.2356,
         "RRP1": 0.1703,
         "BAX": 0.1867,
         "ARC": 0.134,
         "ERBB4": 0.152,
         "nNOS": 0.1829,
         "Tau": 0.1814,
         "GFAP": 0.1265,
         "GluR3": 0.2255,
         "GluR4": 0.119,
         "IL1B": 0.5314,
         "P3525": 0.2652,
         "pCASP9": 1.7548,
         "PSD95": 2.4529,
         "SNCA": 0.1573,
         "Ubiquitin": 1.5022,
         "pGSK3B_Tyr216": 0.7428,
         "SHH": 0.2074,
         "pS6": 0.134,
         "SYP": 0.5173,
         "CaNA": 0.9712,
         "class_label": 0,
         "_deepnote_index_column": 339
        },
        {
         "DYRK1A": 0.3184,
         "ITSN1": 0.5097,
         "BDNF": 0.2906,
         "NR1": 2.3148,
         "NR2A": 3.0411,
         "pAKT": 0.2291,
         "pBRAF": 0.1759,
         "pCAMKII": 2.8814,
         "pCREB": 0.206,
         "pELK": 1.0884,
         "pERK": 0.3058,
         "pJNK": 0.2997,
         "PKCA": 0.2815,
         "pMEK": 0.277,
         "pNR1": 0.85,
         "pNR2A": 0.5708,
         "pNR2B": 1.3676,
         "pPKCAB": 1.2719,
         "pRSK": 0.4318,
         "AKT": 0.6511,
         "BRAF": 0.2598,
         "CAMKII": 0.3429,
         "CREB": 0.1806,
         "ELK": 1.0419,
         "ERK": 2.2185,
         "GSK3B": 1.0735,
         "JNK": 0.239,
         "MEK": 0.2796,
         "TRKA": 0.7284,
         "RSK": 0.1708,
         "APP": 0.3948,
         "Bcatenin": 2.1752,
         "SOD1": 0.9675,
         "MTOR": 0.4007,
         "P38": 0.3342,
         "pMTOR": 0.6458,
         "DSCR1": 0.5249,
         "AMPKA": 0.2958,
         "NR2B": 0.5638,
         "pNUMB": 0.2858,
         "RAPTOR": 0.251,
         "TIAM1": 0.3657,
         "pP70S6": 0.5617,
         "NUMB": 0.219,
         "P70S6": 0.9054,
         "pGSK3B": 0.1639,
         "pPKCG": 2.4971,
         "CDK5": 0.3221,
         "S6": 0.6629,
         "ADARB1": 0.8015,
         "AcetylH3K9": 0.5495,
         "RRP1": 0.1802,
         "BAX": 0.1786,
         "ARC": 0.1279,
         "ERBB4": 0.1638,
         "nNOS": 0.1965,
         "Tau": 0.402,
         "GFAP": 0.1274,
         "GluR3": 0.2156,
         "GluR4": 0.1357,
         "IL1B": 0.564,
         "P3525": 0.3415,
         "pCASP9": 1.4105,
         "PSD95": 2.4827,
         "SNCA": 0.1564,
         "Ubiquitin": 1.1961,
         "pGSK3B_Tyr216": 0.881,
         "SHH": 0.2363,
         "pS6": 0.1279,
         "SYP": 0.4051,
         "CaNA": 1.3407,
         "class_label": 1,
         "_deepnote_index_column": 340
        },
        {
         "DYRK1A": 0.3269,
         "ITSN1": 0.4787,
         "BDNF": 0.3155,
         "NR1": 2.6112,
         "NR2A": 4.2427,
         "pAKT": 0.2382,
         "pBRAF": 0.1764,
         "pCAMKII": 4.065,
         "pCREB": 0.2011,
         "pELK": 1.4596,
         "pERK": 0.3546,
         "pJNK": 0.317,
         "PKCA": 0.3335,
         "pMEK": 0.2888,
         "pNR1": 0.9273,
         "pNR2A": 0.8905,
         "pNR2B": 1.8045,
         "pPKCAB": 1.4448,
         "pRSK": 0.4367,
         "AKT": 0.91,
         "BRAF": 0.2763,
         "CAMKII": 0.3846,
         "CREB": 0.1717,
         "ELK": 1.2647,
         "ERK": 2.3537,
         "GSK3B": 1.0673,
         "JNK": 0.2442,
         "MEK": 0.2703,
         "TRKA": 0.707,
         "RSK": 0.158,
         "APP": 0.4004,
         "Bcatenin": 2.274,
         "SOD1": 0.9396,
         "MTOR": 0.5636,
         "P38": 0.5685,
         "pMTOR": 0.9462,
         "DSCR1": 0.6435,
         "AMPKA": 0.4283,
         "NR2B": 0.669,
         "pNUMB": 0.3252,
         "RAPTOR": 0.3648,
         "TIAM1": 0.4474,
         "pP70S6": 0.4967,
         "NUMB": 0.1631,
         "P70S6": 0.8291,
         "pGSK3B": 0.1472,
         "pPKCG": 1.4878,
         "CDK5": 0.2576,
         "S6": 0.2545,
         "ADARB1": 1.3359,
         "AcetylH3K9": 0.1416,
         "RRP1": 0.1584,
         "BAX": 0.1933,
         "ARC": 0.1378,
         "ERBB4": 0.1353,
         "nNOS": 0.1907,
         "Tau": 0.1805,
         "GFAP": 0.1216,
         "GluR3": 0.2308,
         "GluR4": 0.1303,
         "IL1B": 0.5669,
         "P3525": 0.2845,
         "pCASP9": 1.4978,
         "PSD95": 2.1443,
         "SNCA": 0.1837,
         "Ubiquitin": 1.3041,
         "pGSK3B_Tyr216": 0.8099,
         "SHH": 0.2436,
         "pS6": 0.1378,
         "SYP": 0.4276,
         "CaNA": 0.89,
         "class_label": 0,
         "_deepnote_index_column": 341
        },
        {
         "DYRK1A": 0.2984,
         "ITSN1": 0.5105,
         "BDNF": 0.3421,
         "NR1": 2.6379,
         "NR2A": 4.5064,
         "pAKT": 0.2319,
         "pBRAF": 0.2128,
         "pCAMKII": 3.4308,
         "pCREB": 0.2352,
         "pELK": 1.2672,
         "pERK": 0.3543,
         "pJNK": 0.3114,
         "PKCA": 0.3006,
         "pMEK": 0.2822,
         "pNR1": 0.9027,
         "pNR2A": 0.7802,
         "pNR2B": 1.7794,
         "pPKCAB": 1.246,
         "pRSK": 0.4356,
         "AKT": 0.8652,
         "BRAF": 0.2792,
         "CAMKII": 0.381,
         "CREB": 0.1752,
         "ELK": 1.4092,
         "ERK": 2.8165,
         "GSK3B": 1.1694,
         "JNK": 0.2541,
         "MEK": 0.3115,
         "TRKA": 0.7161,
         "RSK": 0.171,
         "APP": 0.3705,
         "Bcatenin": 2.5126,
         "SOD1": 0.8227,
         "MTOR": 0.4525,
         "P38": 0.4254,
         "pMTOR": 0.7625,
         "DSCR1": 0.5454,
         "AMPKA": 0.3669,
         "NR2B": 0.6145,
         "pNUMB": 0.2816,
         "RAPTOR": 0.284,
         "TIAM1": 0.3841,
         "pP70S6": 0.2657,
         "NUMB": 0.1696,
         "P70S6": 1.0229,
         "pGSK3B": 0.133,
         "pPKCG": 1.1755,
         "CDK5": 0.2831,
         "S6": 0.2913,
         "ADARB1": 0.9338,
         "AcetylH3K9": 0.1098,
         "RRP1": 0.1433,
         "BAX": 0.1925,
         "ARC": 0.1257,
         "ERBB4": 0.1516,
         "nNOS": 0.1926,
         "Tau": 0.1619,
         "GFAP": 0.1069,
         "GluR3": 0.2066,
         "GluR4": 0.119,
         "IL1B": 0.6,
         "P3525": 0.2559,
         "pCASP9": 1.4277,
         "PSD95": 2.2099,
         "SNCA": 0.1537,
         "Ubiquitin": 1.1905,
         "pGSK3B_Tyr216": 0.7592,
         "SHH": 0.2183,
         "pS6": 0.1257,
         "SYP": 0.5421,
         "CaNA": 1.2958,
         "class_label": 0,
         "_deepnote_index_column": 342
        },
        {
         "DYRK1A": 0.3255,
         "ITSN1": 0.5591,
         "BDNF": 0.2918,
         "NR1": 2.4593,
         "NR2A": 4.8114,
         "pAKT": 0.2165,
         "pBRAF": 0.1672,
         "pCAMKII": 6.3069,
         "pCREB": 0.2014,
         "pELK": 1.2508,
         "pERK": 0.3951,
         "pJNK": 0.3627,
         "PKCA": 0.3048,
         "pMEK": 0.3031,
         "pNR1": 0.9051,
         "pNR2A": 1.1744,
         "pNR2B": 1.8064,
         "pPKCAB": 1.2581,
         "pRSK": 0.4528,
         "AKT": 0.711,
         "BRAF": 0.2171,
         "CAMKII": 0.3231,
         "CREB": 0.1728,
         "ELK": 1.3883,
         "ERK": 2.5758,
         "GSK3B": 1.13,
         "JNK": 0.218,
         "MEK": 0.2591,
         "TRKA": 0.7104,
         "RSK": 0.1376,
         "APP": 0.4226,
         "Bcatenin": 2.5184,
         "SOD1": 0.6958,
         "MTOR": 0.4504,
         "P38": 0.446,
         "pMTOR": 0.9092,
         "DSCR1": 0.5861,
         "AMPKA": 0.386,
         "NR2B": 0.6286,
         "pNUMB": 0.3444,
         "RAPTOR": 0.321,
         "TIAM1": 0.456,
         "pP70S6": 0.3857,
         "NUMB": 0.1913,
         "P70S6": 1.0619,
         "pGSK3B": 0.1454,
         "pPKCG": 1.8135,
         "CDK5": 0.2756,
         "S6": 0.4914,
         "ADARB1": 1.5978,
         "AcetylH3K9": 0.169,
         "RRP1": 0.1687,
         "BAX": 0.1859,
         "ARC": 0.1256,
         "ERBB4": 0.1485,
         "nNOS": 0.2099,
         "Tau": 0.1845,
         "GFAP": 0.111,
         "GluR3": 0.2505,
         "GluR4": 0.1487,
         "IL1B": 0.5768,
         "P3525": 0.2778,
         "pCASP9": 1.8001,
         "PSD95": 2.5237,
         "SNCA": 0.1514,
         "Ubiquitin": 1.3582,
         "pGSK3B_Tyr216": 0.8534,
         "SHH": 0.1986,
         "pS6": 0.1256,
         "SYP": 0.4872,
         "CaNA": 1.0659,
         "class_label": 0,
         "_deepnote_index_column": 343
        },
        {
         "DYRK1A": 0.2862,
         "ITSN1": 0.519,
         "BDNF": 0.3007,
         "NR1": 1.8175,
         "NR2A": 2.763,
         "pAKT": 0.2076,
         "pBRAF": 0.1528,
         "pCAMKII": 2.904,
         "pCREB": 0.2044,
         "pELK": 0.8669,
         "pERK": 0.271,
         "pJNK": 0.2649,
         "PKCA": 0.2556,
         "pMEK": 0.2727,
         "pNR1": 0.6279,
         "pNR2A": 0.5574,
         "pNR2B": 1.1195,
         "pPKCAB": 1.127,
         "pRSK": 0.4727,
         "AKT": 0.7321,
         "BRAF": 0.2066,
         "CAMKII": 0.3098,
         "CREB": 0.1809,
         "ELK": 1.1465,
         "ERK": 2.1128,
         "GSK3B": 0.9945,
         "JNK": 0.2076,
         "MEK": 0.2546,
         "TRKA": 0.5886,
         "RSK": 0.1452,
         "APP": 0.3926,
         "Bcatenin": 2.0127,
         "SOD1": 1.2397,
         "MTOR": 0.4058,
         "P38": 0.3814,
         "pMTOR": 0.5931,
         "DSCR1": 0.47,
         "AMPKA": 0.294,
         "NR2B": 0.54,
         "pNUMB": 0.2918,
         "RAPTOR": 0.2558,
         "TIAM1": 0.3897,
         "pP70S6": 0.4678,
         "NUMB": 0.2097,
         "P70S6": 0.9054,
         "pGSK3B": 0.1682,
         "pPKCG": 2.2973,
         "CDK5": 0.3374,
         "S6": 0.6742,
         "ADARB1": 0.976,
         "AcetylH3K9": 0.3765,
         "RRP1": 0.1843,
         "BAX": 0.1952,
         "ARC": 0.1292,
         "ERBB4": 0.1666,
         "nNOS": 0.1993,
         "Tau": 0.2866,
         "GFAP": 0.1267,
         "GluR3": 0.2237,
         "GluR4": 0.1575,
         "IL1B": 0.5843,
         "P3525": 0.3374,
         "pCASP9": 1.5859,
         "PSD95": 2.3885,
         "SNCA": 0.1552,
         "Ubiquitin": 1.217,
         "pGSK3B_Tyr216": 0.9246,
         "SHH": 0.2857,
         "pS6": 0.1292,
         "SYP": 0.4032,
         "CaNA": 1.2649,
         "class_label": 1,
         "_deepnote_index_column": 344
        },
        {
         "DYRK1A": 0.2988,
         "ITSN1": 0.6275,
         "BDNF": 0.349,
         "NR1": 2.6654,
         "NR2A": 5.2423,
         "pAKT": 0.2908,
         "pBRAF": 0.1951,
         "pCAMKII": 4.9478,
         "pCREB": 0.246,
         "pELK": 1.5597,
         "pERK": 0.3069,
         "pJNK": 0.3671,
         "PKCA": 0.3505,
         "pMEK": 0.3384,
         "pNR1": 0.9356,
         "pNR2A": 0.8705,
         "pNR2B": 1.9012,
         "pPKCAB": 1.4977,
         "pRSK": 0.4757,
         "AKT": 0.996,
         "BRAF": 0.2678,
         "CAMKII": 0.4654,
         "CREB": 0.2087,
         "ELK": 1.4141,
         "ERK": 3.1471,
         "GSK3B": 1.1656,
         "JNK": 0.2676,
         "MEK": 0.3263,
         "TRKA": 0.804,
         "RSK": 0.1762,
         "APP": 0.4706,
         "Bcatenin": 2.4886,
         "SOD1": 0.7757,
         "MTOR": 0.5057,
         "P38": 0.5008,
         "pMTOR": 0.9158,
         "DSCR1": 0.7872,
         "AMPKA": 0.4336,
         "NR2B": 0.7111,
         "pNUMB": 0.4408,
         "RAPTOR": 0.3577,
         "TIAM1": 0.5243,
         "pP70S6": 0.3898,
         "NUMB": 0.1918,
         "P70S6": 1.29,
         "pGSK3B": 0.1614,
         "pPKCG": 1.5334,
         "CDK5": 0.3123,
         "S6": 0.589,
         "ADARB1": 1.3296,
         "AcetylH3K9": 0.3319,
         "RRP1": 0.1791,
         "BAX": 0.2045,
         "ARC": 0.1431,
         "ERBB4": 0.1928,
         "nNOS": 0.2115,
         "Tau": 0.2817,
         "GFAP": 0.1222,
         "GluR3": 0.1886,
         "GluR4": 0.1285,
         "IL1B": 0.5698,
         "P3525": 0.318,
         "pCASP9": 1.4601,
         "PSD95": 2.4507,
         "SNCA": 0.1861,
         "Ubiquitin": 1.4612,
         "pGSK3B_Tyr216": 0.8416,
         "SHH": 0.2413,
         "pS6": 0.1431,
         "SYP": 0.4504,
         "CaNA": 1.0106,
         "class_label": 1,
         "_deepnote_index_column": 345
        }
       ]
      },
      "text/plain": "     DYRK1A   ITSN1    BDNF     NR1    NR2A    pAKT   pBRAF  pCAMKII   pCREB  \\\n0    1.7179  1.6997  0.3460  2.4480  4.3424  0.2180  0.1786   2.7550  0.1957   \n1    0.6496  0.7290  0.3169  2.4863  3.8667  0.2009  0.1862   2.5293  0.2129   \n2    0.5812  0.8054  0.2953  2.3223  4.1499  0.1736  0.1413   2.0528  0.1897   \n3    0.3445  0.5524  0.3170  2.3556  4.0243  0.2322  0.1823   4.8937  0.2189   \n4    0.6513  0.9620  0.4650  2.9927  5.9750  0.2028  0.1885   1.8078  0.2590   \n..      ...     ...     ...     ...     ...     ...     ...      ...     ...   \n341  0.3269  0.4787  0.3155  2.6112  4.2427  0.2382  0.1764   4.0650  0.2011   \n342  0.2984  0.5105  0.3421  2.6379  4.5064  0.2319  0.2128   3.4308  0.2352   \n343  0.3255  0.5591  0.2918  2.4593  4.8114  0.2165  0.1672   6.3069  0.2014   \n344  0.2862  0.5190  0.3007  1.8175  2.7630  0.2076  0.1528   2.9040  0.2044   \n345  0.2988  0.6275  0.3490  2.6654  5.2423  0.2908  0.1951   4.9478  0.2460   \n\n       pELK  ...  pCASP9   PSD95    SNCA  Ubiquitin  pGSK3B_Tyr216     SHH  \\\n0    3.2620  ...  1.1691  2.0558  0.1541     1.0705         1.0572  0.1852   \n1    1.4947  ...  1.3029  2.2969  0.1223     0.9561         0.8783  0.2114   \n2    1.5773  ...  1.7635  2.1596  0.1647     1.0180         0.8512  0.1984   \n3    1.2365  ...  1.6786  2.2521  0.1385     1.2226         0.8514  0.1964   \n4    1.9607  ...  1.7639  2.2158  0.1626     1.0661         0.8384  0.2223   \n..      ...  ...     ...     ...     ...        ...            ...     ...   \n341  1.4596  ...  1.4978  2.1443  0.1837     1.3041         0.8099  0.2436   \n342  1.2672  ...  1.4277  2.2099  0.1537     1.1905         0.7592  0.2183   \n343  1.2508  ...  1.8001  2.5237  0.1514     1.3582         0.8534  0.1986   \n344  0.8669  ...  1.5859  2.3885  0.1552     1.2170         0.9246  0.2857   \n345  1.5597  ...  1.4601  2.4507  0.1861     1.4612         0.8416  0.2413   \n\n        pS6     SYP    CaNA  class_label  \n0    0.1017  0.4638  1.9633          0.0  \n1    0.1061  0.3853  1.6332          1.0  \n2    0.1165  0.4015  1.4761          1.0  \n3    0.1066  0.4954  1.1608          1.0  \n4    0.1477  0.5260  1.6390          0.0  \n..      ...     ...     ...          ...  \n341  0.1378  0.4276  0.8900          0.0  \n342  0.1257  0.5421  1.2958          0.0  \n343  0.1256  0.4872  1.0659          0.0  \n344  0.1292  0.4032  1.2649          1.0  \n345  0.1431  0.4504  1.0106          1.0  \n\n[346 rows x 72 columns]",
      "text/html": "<div>\n<style scoped>\n    .dataframe tbody tr th:only-of-type {\n        vertical-align: middle;\n    }\n\n    .dataframe tbody tr th {\n        vertical-align: top;\n    }\n\n    .dataframe thead th {\n        text-align: right;\n    }\n</style>\n<table border=\"1\" class=\"dataframe\">\n  <thead>\n    <tr style=\"text-align: right;\">\n      <th></th>\n      <th>DYRK1A</th>\n      <th>ITSN1</th>\n      <th>BDNF</th>\n      <th>NR1</th>\n      <th>NR2A</th>\n      <th>pAKT</th>\n      <th>pBRAF</th>\n      <th>pCAMKII</th>\n      <th>pCREB</th>\n      <th>pELK</th>\n      <th>...</th>\n      <th>pCASP9</th>\n      <th>PSD95</th>\n      <th>SNCA</th>\n      <th>Ubiquitin</th>\n      <th>pGSK3B_Tyr216</th>\n      <th>SHH</th>\n      <th>pS6</th>\n      <th>SYP</th>\n      <th>CaNA</th>\n      <th>class_label</th>\n    </tr>\n  </thead>\n  <tbody>\n    <tr>\n      <th>0</th>\n      <td>1.7179</td>\n      <td>1.6997</td>\n      <td>0.3460</td>\n      <td>2.4480</td>\n      <td>4.3424</td>\n      <td>0.2180</td>\n      <td>0.1786</td>\n      <td>2.7550</td>\n      <td>0.1957</td>\n      <td>3.2620</td>\n      <td>...</td>\n      <td>1.1691</td>\n      <td>2.0558</td>\n      <td>0.1541</td>\n      <td>1.0705</td>\n      <td>1.0572</td>\n      <td>0.1852</td>\n      <td>0.1017</td>\n      <td>0.4638</td>\n      <td>1.9633</td>\n      <td>0.0</td>\n    </tr>\n    <tr>\n      <th>1</th>\n      <td>0.6496</td>\n      <td>0.7290</td>\n      <td>0.3169</td>\n      <td>2.4863</td>\n      <td>3.8667</td>\n      <td>0.2009</td>\n      <td>0.1862</td>\n      <td>2.5293</td>\n      <td>0.2129</td>\n      <td>1.4947</td>\n      <td>...</td>\n      <td>1.3029</td>\n      <td>2.2969</td>\n      <td>0.1223</td>\n      <td>0.9561</td>\n      <td>0.8783</td>\n      <td>0.2114</td>\n      <td>0.1061</td>\n      <td>0.3853</td>\n      <td>1.6332</td>\n      <td>1.0</td>\n    </tr>\n    <tr>\n      <th>2</th>\n      <td>0.5812</td>\n      <td>0.8054</td>\n      <td>0.2953</td>\n      <td>2.3223</td>\n      <td>4.1499</td>\n      <td>0.1736</td>\n      <td>0.1413</td>\n      <td>2.0528</td>\n      <td>0.1897</td>\n      <td>1.5773</td>\n      <td>...</td>\n      <td>1.7635</td>\n      <td>2.1596</td>\n      <td>0.1647</td>\n      <td>1.0180</td>\n      <td>0.8512</td>\n      <td>0.1984</td>\n      <td>0.1165</td>\n      <td>0.4015</td>\n      <td>1.4761</td>\n      <td>1.0</td>\n    </tr>\n    <tr>\n      <th>3</th>\n      <td>0.3445</td>\n      <td>0.5524</td>\n      <td>0.3170</td>\n      <td>2.3556</td>\n      <td>4.0243</td>\n      <td>0.2322</td>\n      <td>0.1823</td>\n      <td>4.8937</td>\n      <td>0.2189</td>\n      <td>1.2365</td>\n      <td>...</td>\n      <td>1.6786</td>\n      <td>2.2521</td>\n      <td>0.1385</td>\n      <td>1.2226</td>\n      <td>0.8514</td>\n      <td>0.1964</td>\n      <td>0.1066</td>\n      <td>0.4954</td>\n      <td>1.1608</td>\n      <td>1.0</td>\n    </tr>\n    <tr>\n      <th>4</th>\n      <td>0.6513</td>\n      <td>0.9620</td>\n      <td>0.4650</td>\n      <td>2.9927</td>\n      <td>5.9750</td>\n      <td>0.2028</td>\n      <td>0.1885</td>\n      <td>1.8078</td>\n      <td>0.2590</td>\n      <td>1.9607</td>\n      <td>...</td>\n      <td>1.7639</td>\n      <td>2.2158</td>\n      <td>0.1626</td>\n      <td>1.0661</td>\n      <td>0.8384</td>\n      <td>0.2223</td>\n      <td>0.1477</td>\n      <td>0.5260</td>\n      <td>1.6390</td>\n      <td>0.0</td>\n    </tr>\n    <tr>\n      <th>...</th>\n      <td>...</td>\n      <td>...</td>\n      <td>...</td>\n      <td>...</td>\n      <td>...</td>\n      <td>...</td>\n      <td>...</td>\n      <td>...</td>\n      <td>...</td>\n      <td>...</td>\n      <td>...</td>\n      <td>...</td>\n      <td>...</td>\n      <td>...</td>\n      <td>...</td>\n      <td>...</td>\n      <td>...</td>\n      <td>...</td>\n      <td>...</td>\n      <td>...</td>\n      <td>...</td>\n    </tr>\n    <tr>\n      <th>341</th>\n      <td>0.3269</td>\n      <td>0.4787</td>\n      <td>0.3155</td>\n      <td>2.6112</td>\n      <td>4.2427</td>\n      <td>0.2382</td>\n      <td>0.1764</td>\n      <td>4.0650</td>\n      <td>0.2011</td>\n      <td>1.4596</td>\n      <td>...</td>\n      <td>1.4978</td>\n      <td>2.1443</td>\n      <td>0.1837</td>\n      <td>1.3041</td>\n      <td>0.8099</td>\n      <td>0.2436</td>\n      <td>0.1378</td>\n      <td>0.4276</td>\n      <td>0.8900</td>\n      <td>0.0</td>\n    </tr>\n    <tr>\n      <th>342</th>\n      <td>0.2984</td>\n      <td>0.5105</td>\n      <td>0.3421</td>\n      <td>2.6379</td>\n      <td>4.5064</td>\n      <td>0.2319</td>\n      <td>0.2128</td>\n      <td>3.4308</td>\n      <td>0.2352</td>\n      <td>1.2672</td>\n      <td>...</td>\n      <td>1.4277</td>\n      <td>2.2099</td>\n      <td>0.1537</td>\n      <td>1.1905</td>\n      <td>0.7592</td>\n      <td>0.2183</td>\n      <td>0.1257</td>\n      <td>0.5421</td>\n      <td>1.2958</td>\n      <td>0.0</td>\n    </tr>\n    <tr>\n      <th>343</th>\n      <td>0.3255</td>\n      <td>0.5591</td>\n      <td>0.2918</td>\n      <td>2.4593</td>\n      <td>4.8114</td>\n      <td>0.2165</td>\n      <td>0.1672</td>\n      <td>6.3069</td>\n      <td>0.2014</td>\n      <td>1.2508</td>\n      <td>...</td>\n      <td>1.8001</td>\n      <td>2.5237</td>\n      <td>0.1514</td>\n      <td>1.3582</td>\n      <td>0.8534</td>\n      <td>0.1986</td>\n      <td>0.1256</td>\n      <td>0.4872</td>\n      <td>1.0659</td>\n      <td>0.0</td>\n    </tr>\n    <tr>\n      <th>344</th>\n      <td>0.2862</td>\n      <td>0.5190</td>\n      <td>0.3007</td>\n      <td>1.8175</td>\n      <td>2.7630</td>\n      <td>0.2076</td>\n      <td>0.1528</td>\n      <td>2.9040</td>\n      <td>0.2044</td>\n      <td>0.8669</td>\n      <td>...</td>\n      <td>1.5859</td>\n      <td>2.3885</td>\n      <td>0.1552</td>\n      <td>1.2170</td>\n      <td>0.9246</td>\n      <td>0.2857</td>\n      <td>0.1292</td>\n      <td>0.4032</td>\n      <td>1.2649</td>\n      <td>1.0</td>\n    </tr>\n    <tr>\n      <th>345</th>\n      <td>0.2988</td>\n      <td>0.6275</td>\n      <td>0.3490</td>\n      <td>2.6654</td>\n      <td>5.2423</td>\n      <td>0.2908</td>\n      <td>0.1951</td>\n      <td>4.9478</td>\n      <td>0.2460</td>\n      <td>1.5597</td>\n      <td>...</td>\n      <td>1.4601</td>\n      <td>2.4507</td>\n      <td>0.1861</td>\n      <td>1.4612</td>\n      <td>0.8416</td>\n      <td>0.2413</td>\n      <td>0.1431</td>\n      <td>0.4504</td>\n      <td>1.0106</td>\n      <td>1.0</td>\n    </tr>\n  </tbody>\n</table>\n<p>346 rows × 72 columns</p>\n</div>"
     },
     "metadata": {}
    }
   ]
  },
  {
   "cell_type": "markdown",
   "source": "#### Reshaping the data\nWe split the data into an x-array which contains protein values and a y-array which contains the class labels. we are then able to train and test the tree with sklearn",
   "metadata": {
    "cell_id": "00003-374ac455-1ea6-4ae6-a78a-94108ce741e0",
    "deepnote_cell_type": "markdown"
   }
  },
  {
   "cell_type": "code",
   "metadata": {
    "cell_id": "00004-25a0d31e-17b2-4be8-935d-58d15977e8fd",
    "deepnote_to_be_reexecuted": false,
    "source_hash": "48640887",
    "execution_start": 1637332355935,
    "execution_millis": 3,
    "deepnote_cell_type": "code"
   },
   "source": "train = np.array(training_data)\nx_train = train[:,0:-1]\ny_train = train[:,-1]\nprint('Training Gene Data size = '+ str(x_train.shape[0]) + ' rows X ' + str(x_train.shape[1]) + ' columns')\nprint('Training class labels size = ' + str(y_train.shape[0]) + ' rows')",
   "execution_count": null,
   "outputs": [
    {
     "name": "stdout",
     "text": "Training Gene Data size = 701 rows X 71 columns\nTraining class labels size = 701 rows\n",
     "output_type": "stream"
    }
   ]
  },
  {
   "cell_type": "code",
   "metadata": {
    "cell_id": "00005-97a37ec7-a0b6-43de-80f5-50555b259009",
    "deepnote_to_be_reexecuted": false,
    "source_hash": "489994ab",
    "execution_start": 1637332355945,
    "execution_millis": 3,
    "deepnote_cell_type": "code"
   },
   "source": "test = np.array(test_data)\nx_test = test[:,0:-1]\ny_test = test[:,-1]\nprint('Testing Gene Data size = '+ str(x_test.shape[0]) + ' rows X ' + str(x_test.shape[1]) + ' columns')\nprint('Testing class labels size = ' + str(y_test.shape[0]) + ' rows')",
   "execution_count": null,
   "outputs": [
    {
     "name": "stdout",
     "text": "Testing Gene Data size = 346 rows X 71 columns\nTesting class labels size = 346 rows\n",
     "output_type": "stream"
    }
   ]
  },
  {
   "cell_type": "markdown",
   "source": "#### Train the decision train\nwe use the sklearn.tree.DecisionTreeClassification class to build the decision tree and it is trained with the reshaped data imported from the csv-file",
   "metadata": {
    "cell_id": "00006-73b52771-4d40-4d85-9052-04850688643b",
    "deepnote_cell_type": "markdown"
   }
  },
  {
   "cell_type": "code",
   "metadata": {
    "cell_id": "00007-16e3c7ae-b56e-4ae2-8bde-5fbcb017e159",
    "deepnote_to_be_reexecuted": false,
    "source_hash": "b09ee102",
    "execution_start": 1637332355955,
    "execution_millis": 36,
    "deepnote_cell_type": "code"
   },
   "source": "classifier = DTC(criterion='entropy', max_depth=3)\nclassifier = classifier.fit(x_train,y_train)",
   "execution_count": null,
   "outputs": []
  },
  {
   "cell_type": "markdown",
   "source": "### Task - 02 (ii)\n#### Visualization",
   "metadata": {
    "cell_id": "00008-857c6499-2d1e-4cc5-886f-4f6a0de28464",
    "deepnote_cell_type": "markdown"
   }
  },
  {
   "cell_type": "code",
   "metadata": {
    "cell_id": "00009-3a2d4c4b-afab-4f75-9219-b38c27942c78",
    "deepnote_to_be_reexecuted": false,
    "source_hash": "7353bfd2",
    "execution_start": 1637332356004,
    "execution_millis": 16,
    "deepnote_cell_type": "code"
   },
   "source": "dot_data = SkT.export_graphviz(classifier, out_file = None,\n                              feature_names = training_data.columns[0:71],\n                              class_names=[\"healthy\",\"trisometric\"],\n                              filled=True,\n                              special_characters=True)\n",
   "execution_count": null,
   "outputs": []
  },
  {
   "cell_type": "markdown",
   "source": "Fix bug in rendering\nhttps://github.com/conda-forge/graphviz-feedstock/issues/43",
   "metadata": {
    "cell_id": "00010-9792f7e9-e783-434d-8f26-c09e9b35226e",
    "deepnote_cell_type": "markdown"
   }
  },
  {
   "cell_type": "code",
   "metadata": {
    "cell_id": "00011-f2bb5215-d8a2-4669-a97c-38c18f1be915",
    "deepnote_to_be_reexecuted": false,
    "source_hash": "1cce5e92",
    "execution_start": 1637332356023,
    "execution_millis": 145,
    "deepnote_output_heights": [
     579.3125
    ],
    "deepnote_cell_type": "code"
   },
   "source": "graph = graphviz.Source(dot_data)\ngraph.render(\"tree.dot\")\ngraph\n",
   "execution_count": null,
   "outputs": [
    {
     "output_type": "execute_result",
     "execution_count": 8,
     "data": {
      "text/plain": "<graphviz.sources.Source at 0x7fd13b6fdf50>",
      "image/svg+xml": "<?xml version=\"1.0\" encoding=\"UTF-8\" standalone=\"no\"?>\n<!DOCTYPE svg PUBLIC \"-//W3C//DTD SVG 1.1//EN\"\n \"http://www.w3.org/Graphics/SVG/1.1/DTD/svg11.dtd\">\n<!-- Generated by graphviz version 2.40.1 (20161225.0304)\n -->\n<!-- Title: Tree Pages: 1 -->\n<svg width=\"1262pt\" height=\"433pt\"\n viewBox=\"0.00 0.00 1262.00 433.00\" xmlns=\"http://www.w3.org/2000/svg\" xmlns:xlink=\"http://www.w3.org/1999/xlink\">\n<g id=\"graph0\" class=\"graph\" transform=\"scale(1 1) rotate(0) translate(4 429)\">\n<title>Tree</title>\n<polygon fill=\"#ffffff\" stroke=\"transparent\" points=\"-4,4 -4,-429 1258,-429 1258,4 -4,4\"/>\n<!-- 0 -->\n<g id=\"node1\" class=\"node\">\n<title>0</title>\n<polygon fill=\"#fafdfe\" stroke=\"#000000\" points=\"684,-425 534,-425 534,-342 684,-342 684,-425\"/>\n<text text-anchor=\"start\" x=\"565\" y=\"-409.8\" font-family=\"Helvetica,sans-Serif\" font-size=\"14.00\" fill=\"#000000\">APP ≤ 0.399</text>\n<text text-anchor=\"start\" x=\"559\" y=\"-394.8\" font-family=\"Helvetica,sans-Serif\" font-size=\"14.00\" fill=\"#000000\">entropy = 1.0</text>\n<text text-anchor=\"start\" x=\"554.5\" y=\"-379.8\" font-family=\"Helvetica,sans-Serif\" font-size=\"14.00\" fill=\"#000000\">samples = 701</text>\n<text text-anchor=\"start\" x=\"542\" y=\"-364.8\" font-family=\"Helvetica,sans-Serif\" font-size=\"14.00\" fill=\"#000000\">value = [346, 355]</text>\n<text text-anchor=\"start\" x=\"542\" y=\"-349.8\" font-family=\"Helvetica,sans-Serif\" font-size=\"14.00\" fill=\"#000000\">class = trisometric</text>\n</g>\n<!-- 1 -->\n<g id=\"node2\" class=\"node\">\n<title>1</title>\n<polygon fill=\"#eda877\" stroke=\"#000000\" points=\"525.5,-306 384.5,-306 384.5,-223 525.5,-223 525.5,-306\"/>\n<text text-anchor=\"start\" x=\"398.5\" y=\"-290.8\" font-family=\"Helvetica,sans-Serif\" font-size=\"14.00\" fill=\"#000000\">pMTOR ≤ 0.603</text>\n<text text-anchor=\"start\" x=\"396\" y=\"-275.8\" font-family=\"Helvetica,sans-Serif\" font-size=\"14.00\" fill=\"#000000\">entropy = 0.792</text>\n<text text-anchor=\"start\" x=\"400.5\" y=\"-260.8\" font-family=\"Helvetica,sans-Serif\" font-size=\"14.00\" fill=\"#000000\">samples = 319</text>\n<text text-anchor=\"start\" x=\"392.5\" y=\"-245.8\" font-family=\"Helvetica,sans-Serif\" font-size=\"14.00\" fill=\"#000000\">value = [243, 76]</text>\n<text text-anchor=\"start\" x=\"400\" y=\"-230.8\" font-family=\"Helvetica,sans-Serif\" font-size=\"14.00\" fill=\"#000000\">class = healthy</text>\n</g>\n<!-- 0&#45;&gt;1 -->\n<g id=\"edge1\" class=\"edge\">\n<title>0&#45;&gt;1</title>\n<path fill=\"none\" stroke=\"#000000\" d=\"M555.1383,-341.8796C542.8291,-332.368 529.6503,-322.1843 517.0296,-312.432\"/>\n<polygon fill=\"#000000\" stroke=\"#000000\" points=\"518.8843,-309.4419 508.8313,-306.0969 514.6041,-314.9809 518.8843,-309.4419\"/>\n<text text-anchor=\"middle\" x=\"512.0104\" y=\"-327.194\" font-family=\"Helvetica,sans-Serif\" font-size=\"14.00\" fill=\"#000000\">True</text>\n</g>\n<!-- 8 -->\n<g id=\"node9\" class=\"node\">\n<title>8</title>\n<polygon fill=\"#82c1ef\" stroke=\"#000000\" points=\"846,-306 696,-306 696,-223 846,-223 846,-306\"/>\n<text text-anchor=\"start\" x=\"715.5\" y=\"-290.8\" font-family=\"Helvetica,sans-Serif\" font-size=\"14.00\" fill=\"#000000\">AMPKA ≤ 0.385</text>\n<text text-anchor=\"start\" x=\"712\" y=\"-275.8\" font-family=\"Helvetica,sans-Serif\" font-size=\"14.00\" fill=\"#000000\">entropy = 0.841</text>\n<text text-anchor=\"start\" x=\"716.5\" y=\"-260.8\" font-family=\"Helvetica,sans-Serif\" font-size=\"14.00\" fill=\"#000000\">samples = 382</text>\n<text text-anchor=\"start\" x=\"704\" y=\"-245.8\" font-family=\"Helvetica,sans-Serif\" font-size=\"14.00\" fill=\"#000000\">value = [103, 279]</text>\n<text text-anchor=\"start\" x=\"704\" y=\"-230.8\" font-family=\"Helvetica,sans-Serif\" font-size=\"14.00\" fill=\"#000000\">class = trisometric</text>\n</g>\n<!-- 0&#45;&gt;8 -->\n<g id=\"edge8\" class=\"edge\">\n<title>0&#45;&gt;8</title>\n<path fill=\"none\" stroke=\"#000000\" d=\"M665.6597,-341.8796C678.7316,-332.2774 692.7359,-321.9903 706.1273,-312.1534\"/>\n<polygon fill=\"#000000\" stroke=\"#000000\" points=\"708.385,-314.8378 714.3723,-306.0969 704.2409,-309.1963 708.385,-314.8378\"/>\n<text text-anchor=\"middle\" x=\"710.5907\" y=\"-327.1093\" font-family=\"Helvetica,sans-Serif\" font-size=\"14.00\" fill=\"#000000\">False</text>\n</g>\n<!-- 2 -->\n<g id=\"node3\" class=\"node\">\n<title>2</title>\n<polygon fill=\"#46a3e7\" stroke=\"#000000\" points=\"294,-187 144,-187 144,-104 294,-104 294,-187\"/>\n<text text-anchor=\"start\" x=\"179\" y=\"-171.8\" font-family=\"Helvetica,sans-Serif\" font-size=\"14.00\" fill=\"#000000\">S6 ≤ 0.376</text>\n<text text-anchor=\"start\" x=\"164.5\" y=\"-156.8\" font-family=\"Helvetica,sans-Serif\" font-size=\"14.00\" fill=\"#000000\">entropy = 0.33</text>\n<text text-anchor=\"start\" x=\"169\" y=\"-141.8\" font-family=\"Helvetica,sans-Serif\" font-size=\"14.00\" fill=\"#000000\">samples = 33</text>\n<text text-anchor=\"start\" x=\"165.5\" y=\"-126.8\" font-family=\"Helvetica,sans-Serif\" font-size=\"14.00\" fill=\"#000000\">value = [2, 31]</text>\n<text text-anchor=\"start\" x=\"152\" y=\"-111.8\" font-family=\"Helvetica,sans-Serif\" font-size=\"14.00\" fill=\"#000000\">class = trisometric</text>\n</g>\n<!-- 1&#45;&gt;2 -->\n<g id=\"edge2\" class=\"edge\">\n<title>1&#45;&gt;2</title>\n<path fill=\"none\" stroke=\"#000000\" d=\"M384.1922,-228.7961C358.8087,-215.9968 329.9369,-201.4385 303.5088,-188.1125\"/>\n<polygon fill=\"#000000\" stroke=\"#000000\" points=\"304.7775,-184.8325 294.2725,-183.4552 301.6258,-191.0828 304.7775,-184.8325\"/>\n</g>\n<!-- 5 -->\n<g id=\"node6\" class=\"node\">\n<title>5</title>\n<polygon fill=\"#ea995e\" stroke=\"#000000\" points=\"525.5,-187 384.5,-187 384.5,-104 525.5,-104 525.5,-187\"/>\n<text text-anchor=\"start\" x=\"402.5\" y=\"-171.8\" font-family=\"Helvetica,sans-Serif\" font-size=\"14.00\" fill=\"#000000\">GluR3 ≤ 0.204</text>\n<text text-anchor=\"start\" x=\"396\" y=\"-156.8\" font-family=\"Helvetica,sans-Serif\" font-size=\"14.00\" fill=\"#000000\">entropy = 0.628</text>\n<text text-anchor=\"start\" x=\"400.5\" y=\"-141.8\" font-family=\"Helvetica,sans-Serif\" font-size=\"14.00\" fill=\"#000000\">samples = 286</text>\n<text text-anchor=\"start\" x=\"392.5\" y=\"-126.8\" font-family=\"Helvetica,sans-Serif\" font-size=\"14.00\" fill=\"#000000\">value = [241, 45]</text>\n<text text-anchor=\"start\" x=\"400\" y=\"-111.8\" font-family=\"Helvetica,sans-Serif\" font-size=\"14.00\" fill=\"#000000\">class = healthy</text>\n</g>\n<!-- 1&#45;&gt;5 -->\n<g id=\"edge5\" class=\"edge\">\n<title>1&#45;&gt;5</title>\n<path fill=\"none\" stroke=\"#000000\" d=\"M455,-222.8796C455,-214.6838 455,-205.9891 455,-197.5013\"/>\n<polygon fill=\"#000000\" stroke=\"#000000\" points=\"458.5001,-197.298 455,-187.2981 451.5001,-197.2981 458.5001,-197.298\"/>\n</g>\n<!-- 3 -->\n<g id=\"node4\" class=\"node\">\n<title>3</title>\n<polygon fill=\"#e58139\" stroke=\"#000000\" points=\"126,-68 0,-68 0,0 126,0 126,-68\"/>\n<text text-anchor=\"start\" x=\"13\" y=\"-52.8\" font-family=\"Helvetica,sans-Serif\" font-size=\"14.00\" fill=\"#000000\">entropy = 0.0</text>\n<text text-anchor=\"start\" x=\"17.5\" y=\"-37.8\" font-family=\"Helvetica,sans-Serif\" font-size=\"14.00\" fill=\"#000000\">samples = 2</text>\n<text text-anchor=\"start\" x=\"14\" y=\"-22.8\" font-family=\"Helvetica,sans-Serif\" font-size=\"14.00\" fill=\"#000000\">value = [2, 0]</text>\n<text text-anchor=\"start\" x=\"8\" y=\"-7.8\" font-family=\"Helvetica,sans-Serif\" font-size=\"14.00\" fill=\"#000000\">class = healthy</text>\n</g>\n<!-- 2&#45;&gt;3 -->\n<g id=\"edge3\" class=\"edge\">\n<title>2&#45;&gt;3</title>\n<path fill=\"none\" stroke=\"#000000\" d=\"M160.9114,-103.9815C147.2811,-94.2394 132.7816,-83.8759 119.2342,-74.193\"/>\n<polygon fill=\"#000000\" stroke=\"#000000\" points=\"121.1092,-71.2311 110.9384,-68.2637 117.0388,-76.926 121.1092,-71.2311\"/>\n</g>\n<!-- 4 -->\n<g id=\"node5\" class=\"node\">\n<title>4</title>\n<polygon fill=\"#399de5\" stroke=\"#000000\" points=\"294,-68 144,-68 144,0 294,0 294,-68\"/>\n<text text-anchor=\"start\" x=\"169\" y=\"-52.8\" font-family=\"Helvetica,sans-Serif\" font-size=\"14.00\" fill=\"#000000\">entropy = 0.0</text>\n<text text-anchor=\"start\" x=\"169\" y=\"-37.8\" font-family=\"Helvetica,sans-Serif\" font-size=\"14.00\" fill=\"#000000\">samples = 31</text>\n<text text-anchor=\"start\" x=\"165.5\" y=\"-22.8\" font-family=\"Helvetica,sans-Serif\" font-size=\"14.00\" fill=\"#000000\">value = [0, 31]</text>\n<text text-anchor=\"start\" x=\"152\" y=\"-7.8\" font-family=\"Helvetica,sans-Serif\" font-size=\"14.00\" fill=\"#000000\">class = trisometric</text>\n</g>\n<!-- 2&#45;&gt;4 -->\n<g id=\"edge4\" class=\"edge\">\n<title>2&#45;&gt;4</title>\n<path fill=\"none\" stroke=\"#000000\" d=\"M219,-103.9815C219,-95.618 219,-86.7965 219,-78.3409\"/>\n<polygon fill=\"#000000\" stroke=\"#000000\" points=\"222.5001,-78.2636 219,-68.2637 215.5001,-78.2637 222.5001,-78.2636\"/>\n</g>\n<!-- 6 -->\n<g id=\"node7\" class=\"node\">\n<title>6</title>\n<polygon fill=\"#f6d2b8\" stroke=\"#000000\" points=\"446,-68 312,-68 312,0 446,0 446,-68\"/>\n<text text-anchor=\"start\" x=\"320\" y=\"-52.8\" font-family=\"Helvetica,sans-Serif\" font-size=\"14.00\" fill=\"#000000\">entropy = 0.965</text>\n<text text-anchor=\"start\" x=\"324.5\" y=\"-37.8\" font-family=\"Helvetica,sans-Serif\" font-size=\"14.00\" fill=\"#000000\">samples = 100</text>\n<text text-anchor=\"start\" x=\"321\" y=\"-22.8\" font-family=\"Helvetica,sans-Serif\" font-size=\"14.00\" fill=\"#000000\">value = [61, 39]</text>\n<text text-anchor=\"start\" x=\"324\" y=\"-7.8\" font-family=\"Helvetica,sans-Serif\" font-size=\"14.00\" fill=\"#000000\">class = healthy</text>\n</g>\n<!-- 5&#45;&gt;6 -->\n<g id=\"edge6\" class=\"edge\">\n<title>5&#45;&gt;6</title>\n<path fill=\"none\" stroke=\"#000000\" d=\"M426.7004,-103.9815C420.6238,-95.0666 414.1926,-85.6313 408.0868,-76.6734\"/>\n<polygon fill=\"#000000\" stroke=\"#000000\" points=\"410.8789,-74.5555 402.3546,-68.2637 405.0948,-78.498 410.8789,-74.5555\"/>\n</g>\n<!-- 7 -->\n<g id=\"node8\" class=\"node\">\n<title>7</title>\n<polygon fill=\"#e68540\" stroke=\"#000000\" points=\"598,-68 464,-68 464,0 598,0 598,-68\"/>\n<text text-anchor=\"start\" x=\"472\" y=\"-52.8\" font-family=\"Helvetica,sans-Serif\" font-size=\"14.00\" fill=\"#000000\">entropy = 0.206</text>\n<text text-anchor=\"start\" x=\"476.5\" y=\"-37.8\" font-family=\"Helvetica,sans-Serif\" font-size=\"14.00\" fill=\"#000000\">samples = 186</text>\n<text text-anchor=\"start\" x=\"473\" y=\"-22.8\" font-family=\"Helvetica,sans-Serif\" font-size=\"14.00\" fill=\"#000000\">value = [180, 6]</text>\n<text text-anchor=\"start\" x=\"476\" y=\"-7.8\" font-family=\"Helvetica,sans-Serif\" font-size=\"14.00\" fill=\"#000000\">class = healthy</text>\n</g>\n<!-- 5&#45;&gt;7 -->\n<g id=\"edge7\" class=\"edge\">\n<title>5&#45;&gt;7</title>\n<path fill=\"none\" stroke=\"#000000\" d=\"M483.2996,-103.9815C489.3762,-95.0666 495.8074,-85.6313 501.9132,-76.6734\"/>\n<polygon fill=\"#000000\" stroke=\"#000000\" points=\"504.9052,-78.498 507.6454,-68.2637 499.1211,-74.5555 504.9052,-78.498\"/>\n</g>\n<!-- 9 -->\n<g id=\"node10\" class=\"node\">\n<title>9</title>\n<polygon fill=\"#4da7e8\" stroke=\"#000000\" points=\"846,-187 696,-187 696,-104 846,-104 846,-187\"/>\n<text text-anchor=\"start\" x=\"714\" y=\"-171.8\" font-family=\"Helvetica,sans-Serif\" font-size=\"14.00\" fill=\"#000000\">pNUMB ≤ 0.365</text>\n<text text-anchor=\"start\" x=\"712\" y=\"-156.8\" font-family=\"Helvetica,sans-Serif\" font-size=\"14.00\" fill=\"#000000\">entropy = 0.437</text>\n<text text-anchor=\"start\" x=\"716.5\" y=\"-141.8\" font-family=\"Helvetica,sans-Serif\" font-size=\"14.00\" fill=\"#000000\">samples = 211</text>\n<text text-anchor=\"start\" x=\"708.5\" y=\"-126.8\" font-family=\"Helvetica,sans-Serif\" font-size=\"14.00\" fill=\"#000000\">value = [19, 192]</text>\n<text text-anchor=\"start\" x=\"704\" y=\"-111.8\" font-family=\"Helvetica,sans-Serif\" font-size=\"14.00\" fill=\"#000000\">class = trisometric</text>\n</g>\n<!-- 8&#45;&gt;9 -->\n<g id=\"edge9\" class=\"edge\">\n<title>8&#45;&gt;9</title>\n<path fill=\"none\" stroke=\"#000000\" d=\"M771,-222.8796C771,-214.6838 771,-205.9891 771,-197.5013\"/>\n<polygon fill=\"#000000\" stroke=\"#000000\" points=\"774.5001,-197.298 771,-187.2981 767.5001,-197.2981 774.5001,-197.298\"/>\n</g>\n<!-- 12 -->\n<g id=\"node13\" class=\"node\">\n<title>12</title>\n<polygon fill=\"#f8fcfe\" stroke=\"#000000\" points=\"1094,-187 944,-187 944,-104 1094,-104 1094,-187\"/>\n<text text-anchor=\"start\" x=\"975\" y=\"-171.8\" font-family=\"Helvetica,sans-Serif\" font-size=\"14.00\" fill=\"#000000\">APP ≤ 0.459</text>\n<text text-anchor=\"start\" x=\"969\" y=\"-156.8\" font-family=\"Helvetica,sans-Serif\" font-size=\"14.00\" fill=\"#000000\">entropy = 1.0</text>\n<text text-anchor=\"start\" x=\"964.5\" y=\"-141.8\" font-family=\"Helvetica,sans-Serif\" font-size=\"14.00\" fill=\"#000000\">samples = 171</text>\n<text text-anchor=\"start\" x=\"961\" y=\"-126.8\" font-family=\"Helvetica,sans-Serif\" font-size=\"14.00\" fill=\"#000000\">value = [84, 87]</text>\n<text text-anchor=\"start\" x=\"952\" y=\"-111.8\" font-family=\"Helvetica,sans-Serif\" font-size=\"14.00\" fill=\"#000000\">class = trisometric</text>\n</g>\n<!-- 8&#45;&gt;12 -->\n<g id=\"edge12\" class=\"edge\">\n<title>8&#45;&gt;12</title>\n<path fill=\"none\" stroke=\"#000000\" d=\"M846.0812,-228.4731C873.9965,-215.0783 905.851,-199.7933 934.5488,-186.023\"/>\n<polygon fill=\"#000000\" stroke=\"#000000\" points=\"936.2447,-189.0913 943.7464,-181.6096 933.2164,-182.7803 936.2447,-189.0913\"/>\n</g>\n<!-- 10 -->\n<g id=\"node11\" class=\"node\">\n<title>10</title>\n<polygon fill=\"#3c9ee5\" stroke=\"#000000\" points=\"766,-68 616,-68 616,0 766,0 766,-68\"/>\n<text text-anchor=\"start\" x=\"632\" y=\"-52.8\" font-family=\"Helvetica,sans-Serif\" font-size=\"14.00\" fill=\"#000000\">entropy = 0.106</text>\n<text text-anchor=\"start\" x=\"636.5\" y=\"-37.8\" font-family=\"Helvetica,sans-Serif\" font-size=\"14.00\" fill=\"#000000\">samples = 143</text>\n<text text-anchor=\"start\" x=\"633\" y=\"-22.8\" font-family=\"Helvetica,sans-Serif\" font-size=\"14.00\" fill=\"#000000\">value = [2, 141]</text>\n<text text-anchor=\"start\" x=\"624\" y=\"-7.8\" font-family=\"Helvetica,sans-Serif\" font-size=\"14.00\" fill=\"#000000\">class = trisometric</text>\n</g>\n<!-- 9&#45;&gt;10 -->\n<g id=\"edge10\" class=\"edge\">\n<title>9&#45;&gt;10</title>\n<path fill=\"none\" stroke=\"#000000\" d=\"M741.211,-103.9815C734.7486,-94.9747 727.9052,-85.4367 721.419,-76.3965\"/>\n<polygon fill=\"#000000\" stroke=\"#000000\" points=\"724.2572,-74.3483 715.5838,-68.2637 718.5697,-78.4291 724.2572,-74.3483\"/>\n</g>\n<!-- 11 -->\n<g id=\"node12\" class=\"node\">\n<title>11</title>\n<polygon fill=\"#7bbeee\" stroke=\"#000000\" points=\"934,-68 784,-68 784,0 934,0 934,-68\"/>\n<text text-anchor=\"start\" x=\"800\" y=\"-52.8\" font-family=\"Helvetica,sans-Serif\" font-size=\"14.00\" fill=\"#000000\">entropy = 0.811</text>\n<text text-anchor=\"start\" x=\"809\" y=\"-37.8\" font-family=\"Helvetica,sans-Serif\" font-size=\"14.00\" fill=\"#000000\">samples = 68</text>\n<text text-anchor=\"start\" x=\"801\" y=\"-22.8\" font-family=\"Helvetica,sans-Serif\" font-size=\"14.00\" fill=\"#000000\">value = [17, 51]</text>\n<text text-anchor=\"start\" x=\"792\" y=\"-7.8\" font-family=\"Helvetica,sans-Serif\" font-size=\"14.00\" fill=\"#000000\">class = trisometric</text>\n</g>\n<!-- 9&#45;&gt;11 -->\n<g id=\"edge11\" class=\"edge\">\n<title>9&#45;&gt;11</title>\n<path fill=\"none\" stroke=\"#000000\" d=\"M803.768,-103.9815C810.949,-94.8828 818.5579,-85.242 825.7574,-76.1199\"/>\n<polygon fill=\"#000000\" stroke=\"#000000\" points=\"828.5099,-78.2818 831.9578,-68.2637 823.0151,-73.9451 828.5099,-78.2818\"/>\n</g>\n<!-- 13 -->\n<g id=\"node14\" class=\"node\">\n<title>13</title>\n<polygon fill=\"#eda978\" stroke=\"#000000\" points=\"1086,-68 952,-68 952,0 1086,0 1086,-68\"/>\n<text text-anchor=\"start\" x=\"960\" y=\"-52.8\" font-family=\"Helvetica,sans-Serif\" font-size=\"14.00\" fill=\"#000000\">entropy = 0.799</text>\n<text text-anchor=\"start\" x=\"969\" y=\"-37.8\" font-family=\"Helvetica,sans-Serif\" font-size=\"14.00\" fill=\"#000000\">samples = 99</text>\n<text text-anchor=\"start\" x=\"961\" y=\"-22.8\" font-family=\"Helvetica,sans-Serif\" font-size=\"14.00\" fill=\"#000000\">value = [75, 24]</text>\n<text text-anchor=\"start\" x=\"964\" y=\"-7.8\" font-family=\"Helvetica,sans-Serif\" font-size=\"14.00\" fill=\"#000000\">class = healthy</text>\n</g>\n<!-- 12&#45;&gt;13 -->\n<g id=\"edge13\" class=\"edge\">\n<title>12&#45;&gt;13</title>\n<path fill=\"none\" stroke=\"#000000\" d=\"M1019,-103.9815C1019,-95.618 1019,-86.7965 1019,-78.3409\"/>\n<polygon fill=\"#000000\" stroke=\"#000000\" points=\"1022.5001,-78.2636 1019,-68.2637 1015.5001,-78.2637 1022.5001,-78.2636\"/>\n</g>\n<!-- 14 -->\n<g id=\"node15\" class=\"node\">\n<title>14</title>\n<polygon fill=\"#55abe9\" stroke=\"#000000\" points=\"1254,-68 1104,-68 1104,0 1254,0 1254,-68\"/>\n<text text-anchor=\"start\" x=\"1120\" y=\"-52.8\" font-family=\"Helvetica,sans-Serif\" font-size=\"14.00\" fill=\"#000000\">entropy = 0.544</text>\n<text text-anchor=\"start\" x=\"1129\" y=\"-37.8\" font-family=\"Helvetica,sans-Serif\" font-size=\"14.00\" fill=\"#000000\">samples = 72</text>\n<text text-anchor=\"start\" x=\"1125.5\" y=\"-22.8\" font-family=\"Helvetica,sans-Serif\" font-size=\"14.00\" fill=\"#000000\">value = [9, 63]</text>\n<text text-anchor=\"start\" x=\"1112\" y=\"-7.8\" font-family=\"Helvetica,sans-Serif\" font-size=\"14.00\" fill=\"#000000\">class = trisometric</text>\n</g>\n<!-- 12&#45;&gt;14 -->\n<g id=\"edge14\" class=\"edge\">\n<title>12&#45;&gt;14</title>\n<path fill=\"none\" stroke=\"#000000\" d=\"M1078.5781,-103.9815C1092.6314,-94.1881 1107.5857,-83.7668 1121.5432,-74.0402\"/>\n<polygon fill=\"#000000\" stroke=\"#000000\" points=\"1123.8846,-76.6746 1130.0879,-68.0856 1119.8824,-70.9315 1123.8846,-76.6746\"/>\n</g>\n</g>\n</svg>\n"
     },
     "metadata": {}
    }
   ]
  },
  {
   "cell_type": "markdown",
   "source": "### Task (iii)\n#### Classify the instances of the test data using your decision tree",
   "metadata": {
    "cell_id": "00012-4cd421b1-ea78-46ad-9968-f44676be08b6",
    "deepnote_cell_type": "markdown"
   }
  },
  {
   "cell_type": "code",
   "metadata": {
    "cell_id": "00013-05e168cb-37c7-461b-844d-53f83c155bc2",
    "deepnote_to_be_reexecuted": false,
    "source_hash": "23534aee",
    "execution_start": 1637332356175,
    "execution_millis": 16,
    "deepnote_cell_type": "code"
   },
   "source": "\npredicated=classifier.predict(x_test)\nprint('Predicated results')\nprint(predicated)\nprint('-'*40)\naccuracy=accuracy_score(predicated,y_test)\nprint(\"Accuracy: {}\".format(accuracy))\n",
   "execution_count": null,
   "outputs": [
    {
     "name": "stdout",
     "text": "Predicated results\n[0. 1. 1. 1. 1. 0. 0. 0. 1. 1. 1. 1. 0. 0. 1. 1. 1. 0. 1. 1. 0. 1. 0. 0.\n 1. 0. 0. 0. 0. 0. 1. 1. 0. 1. 0. 0. 1. 0. 0. 0. 1. 1. 1. 1. 0. 0. 0. 0.\n 1. 0. 1. 0. 0. 0. 0. 1. 0. 0. 1. 0. 1. 1. 1. 1. 1. 0. 1. 1. 0. 1. 1. 0.\n 0. 0. 0. 0. 1. 0. 1. 0. 0. 1. 1. 0. 0. 0. 1. 1. 0. 0. 0. 1. 1. 0. 1. 0.\n 1. 1. 1. 0. 0. 0. 0. 0. 1. 0. 1. 0. 0. 1. 1. 1. 0. 0. 1. 1. 1. 0. 1. 1.\n 0. 0. 1. 0. 0. 0. 0. 0. 1. 0. 0. 0. 0. 0. 1. 0. 1. 1. 0. 1. 0. 0. 0. 0.\n 0. 0. 1. 0. 0. 1. 1. 0. 0. 0. 0. 1. 0. 0. 1. 0. 1. 0. 0. 0. 1. 0. 0. 0.\n 0. 1. 0. 0. 0. 0. 1. 0. 0. 1. 0. 0. 1. 1. 1. 1. 1. 0. 0. 1. 1. 0. 0. 1.\n 0. 0. 0. 0. 0. 0. 0. 0. 0. 1. 1. 0. 0. 0. 0. 0. 1. 0. 1. 1. 0. 0. 1. 0.\n 1. 1. 0. 1. 1. 0. 1. 1. 0. 0. 1. 1. 0. 0. 0. 0. 1. 1. 0. 1. 0. 0. 1. 1.\n 0. 1. 0. 0. 0. 1. 0. 0. 0. 0. 1. 0. 1. 0. 0. 1. 1. 1. 1. 0. 1. 0. 0. 0.\n 0. 0. 0. 0. 0. 1. 0. 0. 1. 1. 0. 0. 1. 0. 0. 1. 1. 1. 1. 1. 0. 1. 0. 0.\n 0. 0. 1. 1. 0. 0. 1. 0. 0. 0. 1. 0. 0. 0. 0. 1. 0. 1. 0. 0. 0. 0. 0. 1.\n 0. 0. 1. 0. 0. 0. 1. 1. 0. 1. 1. 1. 1. 0. 0. 1. 0. 0. 0. 0. 1. 0. 1. 0.\n 1. 0. 1. 0. 0. 0. 0. 0. 1. 1.]\n----------------------------------------\nAccuracy: 0.869942196531792\n",
     "output_type": "stream"
    }
   ]
  },
  {
   "cell_type": "markdown",
   "source": "## 2.1 Examine overfitting",
   "metadata": {
    "cell_id": "00014-61ebc722-2f58-46ec-a745-8308b01cfa49",
    "deepnote_cell_type": "markdown"
   }
  },
  {
   "cell_type": "markdown",
   "source": "#### 2.1.1",
   "metadata": {
    "cell_id": "00015-c9a73397-abbd-4feb-939d-c8a343f65197",
    "deepnote_cell_type": "markdown"
   }
  },
  {
   "cell_type": "markdown",
   "source": "Calculate accuracy function",
   "metadata": {
    "cell_id": "00016-5f6b94d8-4cd4-40fe-94d1-1f1f05f2381f",
    "deepnote_cell_type": "markdown"
   }
  },
  {
   "cell_type": "code",
   "metadata": {
    "cell_id": "00017-25122cf6-1745-43b9-bf8c-a4872277bc27",
    "deepnote_to_be_reexecuted": false,
    "source_hash": "27886869",
    "execution_start": 1637332356196,
    "execution_millis": 6,
    "deepnote_cell_type": "code"
   },
   "source": "def calculate_accuracy(classifier,x,y):\n    predicated=classifier.predict(x)\n    print('-'*40)\n    accuracy=accuracy_score(predicated,y)\n    print(\"Accuracy: {}\".format(accuracy))",
   "execution_count": null,
   "outputs": []
  },
  {
   "cell_type": "markdown",
   "source": "Construct decision tree function",
   "metadata": {
    "cell_id": "00018-e760236a-cbb6-48a6-8cca-f9f635362cf2",
    "deepnote_cell_type": "markdown"
   }
  },
  {
   "cell_type": "code",
   "metadata": {
    "cell_id": "00019-9486994d-5e8e-4dfc-b1b3-8c587bc9bdc3",
    "deepnote_to_be_reexecuted": false,
    "source_hash": "3ac2ab0e",
    "execution_start": 1637332356214,
    "execution_millis": 14,
    "deepnote_cell_type": "code"
   },
   "source": "def construct_decision_tree(x,y,max_depth):\n    classifier = DTC(criterion='entropy', max_depth=max_depth)\n    classifier = classifier.fit(x,y)\n    return classifier",
   "execution_count": null,
   "outputs": []
  },
  {
   "cell_type": "markdown",
   "source": "1. Measure the accuracy of your previously constructed decision tree on the training\ndata as well (i.e., repeat the 4-th step of the task described in Section , but use\nthe training data instead of the test data)",
   "metadata": {
    "cell_id": "00020-2a484270-e87b-45a7-a17b-7d6852864dd5",
    "deepnote_cell_type": "markdown"
   }
  },
  {
   "cell_type": "code",
   "metadata": {
    "cell_id": "00021-61f8152e-4524-46f8-a4f1-a9386607a396",
    "deepnote_to_be_reexecuted": false,
    "source_hash": "f3457ed4",
    "execution_start": 1637332356244,
    "execution_millis": 7,
    "deepnote_cell_type": "code"
   },
   "source": "calculate_accuracy(classifier=classifier,x=x_train,y=y_train)",
   "execution_count": null,
   "outputs": [
    {
     "name": "stdout",
     "text": "----------------------------------------\nAccuracy: 0.8616262482168331\n",
     "output_type": "stream"
    }
   ]
  },
  {
   "cell_type": "markdown",
   "source": "#### 2.1.2\n",
   "metadata": {
    "cell_id": "00022-7681f887-345e-42ea-8051-9bacf1aba439",
    "deepnote_cell_type": "markdown"
   }
  },
  {
   "cell_type": "markdown",
   "source": "Construct two other decision trees with (maximally) 5 and 10 levels",
   "metadata": {
    "cell_id": "00023-739b86c4-2452-4af0-a5dc-36e5a192f090",
    "deepnote_cell_type": "markdown"
   }
  },
  {
   "cell_type": "code",
   "metadata": {
    "cell_id": "00024-cb3bc6ec-351b-4868-8d4b-f52ce3075d87",
    "deepnote_to_be_reexecuted": false,
    "source_hash": "1840b509",
    "execution_start": 1637332356264,
    "execution_millis": 315,
    "deepnote_cell_type": "code"
   },
   "source": "decision_tree_5=construct_decision_tree(x_train,y_train,5)\ndecision_tree_10=construct_decision_tree(x_train,y_train,10)",
   "execution_count": null,
   "outputs": []
  },
  {
   "cell_type": "markdown",
   "source": "Measure their performance both on the training data and test data.",
   "metadata": {
    "cell_id": "00025-eb2de261-a6ec-461b-a604-5c13f8f0ed02",
    "deepnote_cell_type": "markdown"
   }
  },
  {
   "cell_type": "code",
   "metadata": {
    "cell_id": "00026-383fccdd-8db2-4039-adbc-9570dadd7f44",
    "deepnote_to_be_reexecuted": false,
    "source_hash": "57634bf4",
    "execution_start": 1637332356392,
    "execution_millis": 192,
    "deepnote_cell_type": "code"
   },
   "source": "\n#Testing classifier using the testing data\ncalculate_accuracy(decision_tree_5,x_test,y_test)\ncalculate_accuracy(decision_tree_10,x_test,y_test)\n#Testing classifier using the training data\ncalculate_accuracy(decision_tree_5,x_train,y_train)\ncalculate_accuracy(decision_tree_10,x_train,y_train)",
   "execution_count": null,
   "outputs": [
    {
     "name": "stdout",
     "text": "----------------------------------------\nAccuracy: 0.8901734104046243\n----------------------------------------\nAccuracy: 0.9046242774566474\n----------------------------------------\nAccuracy: 0.9386590584878745\n----------------------------------------\nAccuracy: 1.0\n",
     "output_type": "stream"
    }
   ]
  },
  {
   "cell_type": "markdown",
   "source": "#### 2.1.3\nDo you observe overfitting?",
   "metadata": {
    "cell_id": "00027-d49f24a9-9650-4124-b4fa-8276aceb4741",
    "deepnote_cell_type": "markdown"
   }
  },
  {
   "cell_type": "markdown",
   "source": "Yes by increasing the decison tree max level the accuracy increased also by using the traing data for tesing the accurcy increases.\nIn deccion tree with 10 level and using the training data for testing the classifier we can see the accurcy is 100%.",
   "metadata": {
    "cell_id": "00028-e244bb46-aac7-41ca-9cbc-68ecf166c2e7",
    "deepnote_cell_type": "markdown"
   }
  },
  {
   "cell_type": "markdown",
   "source": "<a style='text-decoration:none;line-height:16px;display:flex;color:#5B5B62;padding:10px;justify-content:end;' href='https://deepnote.com?utm_source=created-in-deepnote-cell&projectId=8d525717-702e-4285-81d5-cd5945dff109' target=\"_blank\">\n<img alt='Created in deepnote.com' style='display:inline;max-height:16px;margin:0px;margin-right:7.5px;' src='data:image/svg+xml;base64,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' > </img>\nCreated in <span style='font-weight:600;margin-left:4px;'>Deepnote</span></a>",
   "metadata": {
    "tags": [],
    "created_in_deepnote_cell": true,
    "deepnote_cell_type": "markdown"
   }
  }
 ],
 "nbformat": 4,
 "nbformat_minor": 5,
 "metadata": {
  "kernelspec": {
   "display_name": "Python 3 (ipykernel)",
   "language": "python",
   "name": "python3"
  },
  "language_info": {
   "codemirror_mode": {
    "name": "ipython",
    "version": 3
   },
   "file_extension": ".py",
   "mimetype": "text/x-python",
   "name": "python",
   "nbconvert_exporter": "python",
   "pygments_lexer": "ipython3",
   "version": "3.8.12"
  },
  "deepnote_notebook_id": "20c14fe6-89e7-4377-a6c4-8de2dd144ec7",
  "deepnote": {},
  "deepnote_execution_queue": []
 }
}